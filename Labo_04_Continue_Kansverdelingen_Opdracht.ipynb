{
  "cells": [
    {
      "cell_type": "markdown",
      "metadata": {
        "id": "view-in-github",
        "colab_type": "text"
      },
      "source": [
        "<a href=\"https://colab.research.google.com/github/pascal-maker/Python/blob/master/Labo_04_Continue_Kansverdelingen_Opdracht.ipynb\" target=\"_parent\"><img src=\"https://colab.research.google.com/assets/colab-badge.svg\" alt=\"Open In Colab\"/></a>"
      ]
    },
    {
      "cell_type": "markdown",
      "metadata": {
        "id": "S_NiGLl2PXce"
      },
      "source": [
        "# Labo 04 - Continue Kansverdelingen - Opdracht\n",
        "\n",
        "Reken met kansen en kansverdelingen wordt toegepast in alle domeinen van ons leven, gaande van het uitrekenen van risico’s, het voorspellen van het weer, inschatten van de impact van een reclamecampagne op de omzetcijfers van een bedrijf, modelleren van de verspreiding van een (computer) virus, etc.\n",
        "\n",
        "De normaalverdeling is de meest gekende en gebruikte kansverdeling in de statistiek. Het is een continue klokvormige kansverdeling die symmetrisch verloopt rond het gemiddelde . Ze is hoog in het midden, en wordt naar lage en hoge waarden steeds kleiner zonder ooit echt nul te worden.\n",
        "De bedoeling van deze opdracht is om vlot overweg te kunnen met deze kansverdelingen bij het uitrekenen van kansen en het kunnen bepalen van de verwachte waarden van kansverdelingen.\n",
        "\n",
        "## Inhoud\n",
        "    • Kunnen nagaan of een reeks gegevens al dan niet normaal verdeeld zijn.\n",
        "    • Rekenen met en interpreteren van de normaalverdeling.\n",
        "    • Kunnen uitrekenen van kansen bij normaalverdeelde data\n",
        "    "
      ]
    },
    {
      "cell_type": "code",
      "execution_count": null,
      "metadata": {
        "id": "zKyGJK2VPXcf"
      },
      "outputs": [],
      "source": [
        "%matplotlib inline\n",
        "import matplotlib.pyplot as plt\n",
        "import pandas as pd\n",
        "import numpy as np\n",
        "import seaborn as sns\n",
        "from scipy import stats"
      ]
    },
    {
      "cell_type": "markdown",
      "metadata": {
        "id": "WN5jj2jgPXcg"
      },
      "source": [
        "## Vraag 1\n",
        "Bereken onderstaande kansen met behulp van Python."
      ]
    },
    {
      "cell_type": "code",
      "execution_count": null,
      "metadata": {
        "colab": {
          "base_uri": "https://localhost:8080/"
        },
        "id": "5Qd-PvXWPXcg",
        "outputId": "e361315c-1ce0-4d80-bb76-9566392b9005"
      },
      "outputs": [
        {
          "output_type": "stream",
          "name": "stdout",
          "text": [
            "0.04745968180294733\n"
          ]
        }
      ],
      "source": [
        "# P(Z < -1,67) - standaardnormaalverdeling met gemiddelde 0 en standaardafwijking 1\n",
        "p = stats.norm.cdf(-1.67)\n",
        "print(p)"
      ]
    },
    {
      "cell_type": "code",
      "execution_count": null,
      "metadata": {
        "colab": {
          "base_uri": "https://localhost:8080/"
        },
        "id": "LZeSIZHkPXcg",
        "outputId": "e082cfbe-3c18-4ade-cc18-2b2795d70ed1"
      },
      "outputs": [
        {
          "output_type": "stream",
          "name": "stdout",
          "text": [
            "0.005233608163555781\n"
          ]
        }
      ],
      "source": [
        "# P(Z > 2,56 ) - standaardnormaalverdeling met gemiddelde 0 en standaardafwijking 1\n",
        "p = 1 - stats.norm.cdf(2.56)\n",
        "print(p)"
      ]
    },
    {
      "cell_type": "code",
      "execution_count": null,
      "metadata": {
        "colab": {
          "base_uri": "https://localhost:8080/"
        },
        "id": "teCxtyHvPXcg",
        "outputId": "2a569802-003a-437b-bd0a-edc8613f6be3"
      },
      "outputs": [
        {
          "output_type": "stream",
          "name": "stdout",
          "text": [
            "0.08048080251909406\n"
          ]
        }
      ],
      "source": [
        "# P(1,34 < Z < 2,34) - standaardnormaalverdeling met gemiddelde 0 en standaardafwijking 1\n",
        "p = stats.norm.cdf(2.34) - stats.norm.cdf(1.34)\n",
        "print(p)"
      ]
    },
    {
      "cell_type": "code",
      "execution_count": null,
      "metadata": {
        "colab": {
          "base_uri": "https://localhost:8080/"
        },
        "id": "YGGIskiePXcg",
        "outputId": "f0b6fe2e-6882-43d4-d0ba-def8e283d63f"
      },
      "outputs": [
        {
          "output_type": "stream",
          "name": "stdout",
          "text": [
            "0.9772498680518208\n"
          ]
        }
      ],
      "source": [
        "# X~N(50;5)   P(X<60) -normaalverdeling met gemiddelde 50 en standaardafwijking 5\n",
        "p = stats.norm.cdf(60,50,5)\n",
        "print(p)"
      ]
    },
    {
      "cell_type": "code",
      "execution_count": null,
      "metadata": {
        "colab": {
          "base_uri": "https://localhost:8080/"
        },
        "id": "NJawQACdPXch",
        "outputId": "20e26cad-2260-4a21-a213-fd8a2e9f8387"
      },
      "outputs": [
        {
          "output_type": "stream",
          "name": "stdout",
          "text": [
            "0.9937903346742238\n"
          ]
        }
      ],
      "source": [
        "# X~N(5;1)   P(X > 2,5) -normaalverdeling met gemiddelde 5 en standaardafwijking 1\n",
        "p = stats.norm.sf(2.5,5,1)\n",
        "print(p)"
      ]
    },
    {
      "cell_type": "code",
      "execution_count": null,
      "metadata": {
        "colab": {
          "base_uri": "https://localhost:8080/"
        },
        "id": "E-G6RZcrPXch",
        "outputId": "0979d51d-261b-4d0c-b2fb-e7bbcb54db07"
      },
      "outputs": [
        {
          "output_type": "stream",
          "name": "stdout",
          "text": [
            "0.6826894921370859\n"
          ]
        }
      ],
      "source": [
        "# X~N(120;6)   P(114 < X < 126) - normaalverdeling met gemiddelde 120 en standaardafwijking 6\n",
        "p = stats.norm.cdf(126,120,6) - stats.norm.cdf(114,120,6)\n",
        "print(p)"
      ]
    },
    {
      "cell_type": "markdown",
      "source": [
        "### **Uitleg van de kansen in de code zonder code:**\n",
        "\n",
        "---\n",
        "\n",
        "#### **1. P(Z < -1,67)**\n",
        "\n",
        "* Dit is de kans dat een willekeurige waarde uit een **standaardnormaalverdeling** (gemiddelde = 0, standaardafwijking = 1) kleiner is dan **-1,67**.\n",
        "* Dit betekent dat je de oppervlakte zoekt onder de normaalcurve links van **-1,67**.\n",
        "\n",
        "---\n",
        "\n",
        "#### **2. P(Z > 2,56)**\n",
        "\n",
        "* Dit is de kans dat een waarde groter is dan **2,56** in een standaardnormaalverdeling.\n",
        "* Dit bereken je door de oppervlakte rechts van **2,56** te nemen.\n",
        "\n",
        "---\n",
        "\n",
        "#### **3. P(1,34 < Z < 2,34)**\n",
        "\n",
        "* Dit is de kans dat een waarde tussen **1,34** en **2,34** ligt in een standaardnormaalverdeling.\n",
        "* Dit is het gebied tussen deze twee punten onder de normaalcurve.\n",
        "\n",
        "---\n",
        "\n",
        "#### **4. P(X < 60) voor een normale verdeling met gemiddelde 50 en standaardafwijking 5**\n",
        "\n",
        "* Hier gebruik je een **normaalverdeling** met een gemiddelde van **50** en een standaardafwijking van **5**.\n",
        "* Dit is de kans dat een willekeurige waarde in deze verdeling kleiner is dan **60**.\n",
        "\n",
        "---\n",
        "\n",
        "#### **5. P(X > 2,5) voor een normale verdeling met gemiddelde 5 en standaardafwijking 1**\n",
        "\n",
        "* Dit is de kans dat een waarde groter is dan **2,5** in een normale verdeling met een gemiddelde van **5** en standaardafwijking van **1**.\n",
        "* Je zoekt dus naar de oppervlakte rechts van **2,5**.\n",
        "\n",
        "---\n",
        "\n",
        "#### **6. P(114 < X < 126) voor een normale verdeling met gemiddelde 120 en standaardafwijking 6**\n",
        "\n",
        "* Dit is de kans dat een waarde tussen **114** en **126** ligt in een normale verdeling met een gemiddelde van **120** en standaardafwijking van **6**.\n",
        "* Dit is het gebied tussen deze twee punten onder de normaalcurve.\n",
        "\n",
        "---\n",
        "\n",
        "### **Waarom gebruik je deze functies?**\n",
        "\n",
        "* **CDF (Cumulative Distribution Function)**: Hiermee bereken je de kans dat een waarde **kleiner of gelijk** is aan een bepaalde waarde.\n",
        "* **SF (Survival Function)**: Dit is eigenlijk **1 - CDF**, oftewel de kans dat een waarde **groter** is dan een bepaalde waarde.\n",
        "\n",
        "---\n",
        "\n",
        "\n"
      ],
      "metadata": {
        "id": "cYrUepO3k-O-"
      }
    },
    {
      "cell_type": "markdown",
      "metadata": {
        "id": "mqFPSyPaPXch"
      },
      "source": [
        "## Vraag 2\n",
        "\n",
        "De batterij van de fitbit charge 2 heeft een MTTF (Mean Time To Failure = gemiddelde levensduur) van een bepaald type omvormer bedraagt 24 maanden een standaardafwijking van 6 maanden.\n",
        "De garantieperiode op een fitbit charge 2 is 1 jaar (12 maanden).\n"
      ]
    },
    {
      "cell_type": "markdown",
      "metadata": {
        "id": "9b97_5z1PXch"
      },
      "source": [
        "a. Wat is de kans dat een fitbit binnen de garantieperiode stuk gaat?"
      ]
    },
    {
      "cell_type": "code",
      "execution_count": null,
      "metadata": {
        "colab": {
          "base_uri": "https://localhost:8080/"
        },
        "id": "RiT0EPlWPXch",
        "outputId": "1a26db70-9f36-4397-b9bc-12d498ee701b"
      },
      "outputs": [
        {
          "output_type": "stream",
          "name": "stdout",
          "text": [
            "0.022750131948179195\n",
            " kans dat de fitbit kapotgaat binnen 2.5 jaar is 0.022750131948179195\n"
          ]
        }
      ],
      "source": [
        "p = stats.norm.cdf(12,24,6)\n",
        "print(p)\n",
        "print(\" kans dat de fitbit kapotgaat binnen 2.5 jaar is\",p)"
      ]
    },
    {
      "cell_type": "markdown",
      "metadata": {
        "id": "OoQLItB6PXch"
      },
      "source": [
        "b. Stel dat na 2,5 jaar een koper beslist om de fitbit charge 3 te kopen, wat is de kans dat de fitbit charge 2 niet binnen deze periode kapot gaat?\n",
        "    "
      ]
    },
    {
      "cell_type": "code",
      "execution_count": null,
      "metadata": {
        "colab": {
          "base_uri": "https://localhost:8080/"
        },
        "id": "b8u9DXLoPXch",
        "outputId": "c23c5f96-45cf-49c9-d56b-4792302d19cb"
      },
      "outputs": [
        {
          "output_type": "stream",
          "name": "stdout",
          "text": [
            "0.15865525393145707\n",
            "kans dat de fitbit charge 2 niet binnen 2.5 jaar kapot gaat is 0.15865525393145707\n"
          ]
        }
      ],
      "source": [
        "p =  stats.norm.sf(30,24,6)\n",
        "print(p)\n",
        "print(\"kans dat de fitbit charge 2 niet binnen 2.5 jaar kapot gaat is\",p)"
      ]
    },
    {
      "cell_type": "markdown",
      "metadata": {
        "id": "1zSJlHzmPXch"
      },
      "source": [
        "c. Wat is de kans dat de fitbit charge 2 kapot gaat tussen de 1 jaar en de 2,5 jaar en je dus niet op de garantie kunt terugvallen?"
      ]
    },
    {
      "cell_type": "code",
      "execution_count": null,
      "metadata": {
        "colab": {
          "base_uri": "https://localhost:8080/"
        },
        "id": "qPidnfzdPXch",
        "outputId": "a508905b-7ded-49c8-ef38-b61813328362"
      },
      "outputs": [
        {
          "output_type": "stream",
          "name": "stdout",
          "text": [
            "0.8185946141203637\n",
            "kans dat de fitbit charge 2 kapot gaat tussen de 1 jaar en de 2.5 jaar is 0.8185946141203637\n"
          ]
        }
      ],
      "source": [
        "p = stats.norm.cdf(30,24,6) - stats.norm.cdf(12,24,6)\n",
        "print(p)\n",
        "print(\"kans dat de fitbit charge 2 kapot gaat tussen de 1 jaar en de 2.5 jaar is\",p)"
      ]
    },
    {
      "cell_type": "markdown",
      "metadata": {
        "id": "QWDWySRLPXch"
      },
      "source": [
        "d. Na hoeveel maand moet je de batterij vervangen om ervoor te zorgen dat je minder dan 10% kans hebt dat je met een kapotte fitbit komt te zitten?"
      ]
    },
    {
      "cell_type": "code",
      "execution_count": null,
      "metadata": {
        "colab": {
          "base_uri": "https://localhost:8080/"
        },
        "id": "AQnMUyfEPXci",
        "outputId": "33fdbb62-5852-43b1-8ec5-9d57ac01c2b8"
      },
      "outputs": [
        {
          "output_type": "stream",
          "name": "stdout",
          "text": [
            "16.310690606732397\n",
            "Na hoeveel maand moet je de batterij vervangen om ervoor te zorgen dat je minder dan 10% kans hebt dat je met een kapotte fitbit komt te zitten 16.310690606732397\n"
          ]
        }
      ],
      "source": [
        "p = stats.norm.isf(0.9,24,6)\n",
        "print(p)\n",
        "print(\"Na hoeveel maand moet je de batterij vervangen om ervoor te zorgen dat je minder dan 10% kans hebt dat je met een kapotte fitbit komt te zitten\",p)"
      ]
    },
    {
      "cell_type": "markdown",
      "source": [
        "### **Uitleg van de Python-code voor de Fitbit-opgave**\n",
        "\n",
        "---\n",
        "\n",
        "#### **Achtergrondinformatie:**\n",
        "\n",
        "De gemiddelde levensduur (**MTTF**) van een Fitbit Charge 2 is **24 maanden** met een standaardafwijking van **6 maanden**. Dit betekent dat de levensduur normaal verdeeld is met:\n",
        "\n",
        "* **Gemiddelde ($\\mu$) = 24 maanden**\n",
        "* **Standaardafwijking ($\\sigma$) = 6 maanden**\n",
        "\n",
        "---\n",
        "\n",
        "#### **a. Kans dat een Fitbit binnen de garantieperiode stuk gaat**\n",
        "\n",
        "$$\n",
        "P(X < 12)\n",
        "$$\n",
        "\n",
        "**Stap 1:** Gebruik de cumulatieve verdelingsfunctie (CDF) omdat je zoekt naar de kans dat een willekeurige waarde **kleiner of gelijk aan** 12 maanden is.\n",
        "\n",
        "**Formule in de code:**\n",
        "\n",
        "```python\n",
        "p = stats.norm.cdf(12, 24, 6)\n",
        "```\n",
        "\n",
        "* **12:** De maximale tijd (garantieperiode van 12 maanden).\n",
        "* **24:** Het gemiddelde van de verdeling.\n",
        "* **6:** De standaardafwijking van de verdeling.\n",
        "\n",
        "De **CDF** geeft de kans dat een willekeurige waarde minder is dan de opgegeven waarde, in dit geval 12 maanden.\n",
        "\n",
        "---\n",
        "\n",
        "#### **b. Kans dat de fitbit niet kapot gaat binnen 2,5 jaar**\n",
        "\n",
        "$$\n",
        "P(X > 30)\n",
        "$$\n",
        "\n",
        "**Stap 1:** Gebruik de survival functie (SF) omdat je zoekt naar de kans dat een waarde **groter** is dan 30 maanden.\n",
        "\n",
        "**Formule in de code:**\n",
        "\n",
        "```python\n",
        "p = stats.norm.sf(30, 24, 6)\n",
        "```\n",
        "\n",
        "* **30:** 2,5 jaar = 30 maanden.\n",
        "* **24:** Gemiddelde van de levensduur.\n",
        "* **6:** Standaardafwijking van de levensduur.\n",
        "\n",
        "De **SF** is gelijk aan **1 - CDF**, oftewel de kans dat een waarde boven een bepaalde drempel ligt.\n",
        "\n",
        "---\n",
        "\n",
        "#### **c. Kans dat de fitbit kapot gaat tussen 1 jaar en 2,5 jaar**\n",
        "\n",
        "$$\n",
        "P(12 < X < 30)\n",
        "$$\n",
        "\n",
        "**Stap 1:** Bereken de CDF voor 30 maanden (bovenste limiet).\n",
        "\n",
        "```python\n",
        "stats.norm.cdf(30, 24, 6)\n",
        "```\n",
        "\n",
        "**Stap 2:** Trek hiervan de CDF voor 12 maanden (onderste limiet) af:\n",
        "\n",
        "```python\n",
        "stats.norm.cdf(30, 24, 6) - stats.norm.cdf(12, 24, 6)\n",
        "```\n",
        "\n",
        "Dit geeft de kans dat de levensduur tussen 12 en 30 maanden ligt.\n",
        "\n",
        "---\n",
        "\n",
        "#### **d. Maximale levensduur voor minder dan 10% kans op defect**\n",
        "\n",
        "$$\n",
        "P(X > k) = 0,9\n",
        "$$\n",
        "\n",
        "**Stap 1:** Gebruik de **invers survival functie (ISF)** om de bovengrens te vinden voor de bovenste 10% van de verdeling.\n",
        "\n",
        "**Formule in de code:**\n",
        "\n",
        "```python\n",
        "p = stats.norm.isf(0.9, 24, 6)\n",
        "```\n",
        "\n",
        "* **0,9:** De kans die je wilt overlaten voor niet-defecte apparaten (10% defect).\n",
        "* **24:** Gemiddelde levensduur.\n",
        "* **6:** Standaardafwijking.\n",
        "\n",
        "De **ISF** geeft de grenswaarde waarboven slechts 10% van de apparaten zal uitvallen.\n",
        "\n",
        "---\n",
        "\n",
        "### **Samenvatting van de resultaten**\n",
        "\n",
        "* **a.** Kans dat de Fitbit binnen de garantie kapot gaat.\n",
        "* **b.** Kans dat de Fitbit na 2,5 jaar nog steeds werkt.\n",
        "* **c.** Kans dat de Fitbit tussen 1 en 2,5 jaar kapot gaat (buiten de garantie).\n",
        "* **d.** Hoeveel maanden je moet wachten om minder dan 10% kans op defect te hebben.\n",
        "\n",
        "---\n",
        "\n",
        "Zal ik je ook een grafiek laten zien waarmee je deze kansen visueel kunt controleren? 😊\n"
      ],
      "metadata": {
        "id": "N58-FVIjlr9V"
      }
    },
    {
      "cell_type": "markdown",
      "metadata": {
        "id": "jKVg9Z3pPXci"
      },
      "source": [
        "## Vraag 3\n",
        "\n",
        "Aan een toelatingsexamen nemen 300 kandidaten deel voor 50 plaatsen. De uitslag is normaal verdeeld. De gemiddelde uitslag bedraagt 65% en de standaardafwijking is 10%."
      ]
    },
    {
      "cell_type": "markdown",
      "metadata": {
        "id": "lxWsXbESPXci"
      },
      "source": [
        "a. Welk percentage is vereist om aangenomen te worden indien men de 50 besten aanwerft ?"
      ]
    },
    {
      "cell_type": "code",
      "execution_count": null,
      "metadata": {
        "colab": {
          "base_uri": "https://localhost:8080/"
        },
        "id": "wlbkQGsMPXci",
        "outputId": "f20a9ac1-3137-4969-aafc-e23ad90af8a6"
      },
      "outputs": [
        {
          "output_type": "stream",
          "name": "stdout",
          "text": [
            "74.67421566101702\n",
            "welk percentage is vereist om aangenomen te worden indien men de 50 besten aanwerft 74.67421566101702\n"
          ]
        }
      ],
      "source": [
        "p = stats.norm.isf(50/300,65,10)\n",
        "print(p)\n",
        "print(\"welk percentage is vereist om aangenomen te worden indien men de 50 besten aanwerft\",p)"
      ]
    },
    {
      "cell_type": "markdown",
      "metadata": {
        "id": "N3eQNIV4PXci"
      },
      "source": [
        "b. Ann haalt 58 en Joachim 75. Hoeveel kandidaten komen er in de rangschikking tussen Ann en Joachim?"
      ]
    },
    {
      "cell_type": "code",
      "execution_count": null,
      "metadata": {
        "colab": {
          "base_uri": "https://localhost:8080/"
        },
        "id": "4ZXV1h7lPXci",
        "outputId": "606d251b-0ad2-4a9b-bfcf-3317352fa4a3"
      },
      "outputs": [
        {
          "output_type": "stream",
          "name": "stdout",
          "text": [
            "Hoeveel kandidaten komen er in de rangschikking tussen Ann en Joachim 180.0\n"
          ]
        }
      ],
      "source": [
        "p = stats.norm.cdf(75,65,10) - stats.norm.cdf(58,65,10)\n",
        "print(\"Hoeveel kandidaten komen er in de rangschikking tussen Ann en Joachim\",np.round(p*300))"
      ]
    },
    {
      "cell_type": "markdown",
      "source": [
        "### **Uitleg van de Python-code voor het toelatingsexamen zonder code**\n",
        "\n",
        "---\n",
        "\n",
        "#### **Achtergrondinformatie:**\n",
        "\n",
        "Er nemen **300** kandidaten deel aan een toelatingsexamen voor **50** beschikbare plaatsen. De scores zijn **normaal verdeeld** met:\n",
        "\n",
        "* **Gemiddelde ($\\mu$) = 65%**\n",
        "* **Standaardafwijking ($\\sigma$) = 10%**\n",
        "\n",
        "---\n",
        "\n",
        "#### **a. Vereist percentage voor de top 50**\n",
        "\n",
        "* Je wilt weten welke **minimale score** nodig is om bij de **beste 50** kandidaten te horen.\n",
        "* Dit betekent dat je de score zoekt waarbij de **bovenste 50 kandidaten** (ongeveer **17%** van de 300) een hogere score hebben.\n",
        "* Je gebruikt hier de **invers survival functie (ISF)**, omdat je de grens zoekt waarbij een bepaalde fractie (50/300) van de kandidaten hoger scoort.\n",
        "\n",
        "**Wat de code doet:**\n",
        "\n",
        "1. **Bereken de fractie:** 50/300 = 0,1667 (ongeveer 17%).\n",
        "2. **Zoek de score** waarbij 83% van de kandidaten lager scoort en 17% hoger.\n",
        "\n",
        "---\n",
        "\n",
        "#### **b. Rangschikking tussen Ann en Joachim**\n",
        "\n",
        "* **Ann** scoort **58%**.\n",
        "* **Joachim** scoort **75%**.\n",
        "* De vraag is hoeveel kandidaten tussen deze twee scores vallen.\n",
        "\n",
        "**Wat de code doet:**\n",
        "\n",
        "1. **Bereken de kans** dat iemand lager scoort dan **75%** (Joachim) met de cumulatieve verdelingsfunctie (CDF).\n",
        "2. **Bereken de kans** dat iemand lager scoort dan **58%** (Ann) met de CDF.\n",
        "3. **Neem het verschil** tussen deze twee kansen om de fractie van kandidaten tussen deze scores te krijgen.\n",
        "4. **Vermenigvuldig deze fractie met 300** om het **aantal kandidaten** te krijgen.\n",
        "\n",
        "---\n",
        "\n",
        "### **Samenvatting van de resultaten**\n",
        "\n",
        "* **a.** Je berekent de minimumscore voor de top 50 kandidaten.\n",
        "* **b.** Je berekent het aantal kandidaten dat tussen Ann (58%) en Joachim (75%) in de ranglijst staat.\n",
        "\n",
        "---\n"
      ],
      "metadata": {
        "id": "SqHc7nZ0l4Zu"
      }
    },
    {
      "cell_type": "markdown",
      "metadata": {
        "id": "1PRAfKjGPXci"
      },
      "source": [
        "## Vraag 4\n",
        "\n",
        "De BMI is een index die de verhouding tussen lengte en gewicht bij een persoon weergeeft. De BMI wordt veel gebruikt om een indicatie te krijgen of er sprake is van overgewicht of ondergewicht.\n",
        "Om de BMI van een persoon te berekenen deel je zijn/haar gewicht door het kwadraat van de lengte. Het gewicht wordt daarbij uitgedrukt in kilogram, de lengte in meter.\n",
        "Weegt een persoon bijvoorbeeld 67kg en meet deze persoon 172cm, dan is de BMI gelijk aan:\n",
        "$\\frac{67}{1,72^2}=22,65$\n",
        "\n",
        "Alhoewel de BMI niet altijd even betrouwbaar is hanteert men volgende tabel om de BMI te interpreteren.\n",
        "\n",
        "| BMI | Interpretatie |\n",
        "   ----------------  |  -------------\n",
        "| 18,5 tot en met 25 | Normaal gewicht |\n",
        "| 25 tot en met 27 | Licht overgewicht |\n",
        "| 27 tot en met 30 | Matig overgewicht |\n",
        "| 30 tot en met 40 | Ernstig overgewicht |\n",
        "| Meer dan 40      | Ziekelijk overgewicht\n",
        "\n",
        "Het bestand BMI.csv bevat lengtes en gewichten van personen die tijdens een steekproef werden opgemeten.\n",
        "\n",
        "a. Teken een histogram van alle BMI waarden en ga na of deze normaal verdeeld zijn. Bepaal daarvoor het gemiddelde en de standaardafwijking. Teken nu bovenop het histogram de theoretische normaalverdeling die overeen komt met het bekomen gemiddelde en de standaardafwijking. Ga ook na of ongeveer 68% van de BMI waarden binnen 1 standaardafwijking van het gemiddelde liggen en ongeveer 95 procent van de BMI waarden binnen de 2 standaardafwijkingen van het gemiddelde.\n",
        "    \n",
        "b. Herhaal het gevraagde onder vraag b, maar splits op in mannen en vrouwen. Op deze manier kunnen we straks per geslacht aparte conclusies trekken.\n",
        "    \n",
        "c. Is er een groot verschil tussen de distributie van het BMI van mannen en deze van vrouwen?\n",
        "\n",
        "d. Hoeveel procent van demannen in de dataset heeft minstens ernstig overgewicht en hoeveel procent vrouwen in de dataset?\n",
        "\n",
        "e. Hoeveel procent van de populatie (niet de steekproef) mannen heeft minstens te maken met een ernstig overgewicht? En hoeveel procent van de vrouwen?\n",
        "    \n",
        "f. Hoeveel procent van de populatie (niet de steekproef) mannen heeft een ondergewicht? En hoeveel procent van de vrouwen? Veronderstel dat de steekproef representatief is voor de populatie.\n",
        "    \n",
        "g. Ga na of er uitschieters in de dataset aanwezig zijn. Uitschieters kan je hier beschouwen als de BMI gewichten die meer dan 3 standaardafwijkingen van het gemiddelde liggen."
      ]
    },
    {
      "cell_type": "code",
      "execution_count": null,
      "metadata": {
        "colab": {
          "base_uri": "https://localhost:8080/",
          "height": 206
        },
        "id": "n_Plnms1PXci",
        "outputId": "d5d01c8c-4435-43f6-83bd-a354ede2d654"
      },
      "outputs": [
        {
          "output_type": "execute_result",
          "data": {
            "text/plain": [
              "      Sex  Age   BMI  Height_m  Weight_kg\n",
              "0  Female   21  24.2  1.670812  67.652988\n",
              "1  Female   35  24.8  1.816608  81.723660\n",
              "2  Female   27  29.5  1.762760  91.627019\n",
              "3    Male   24  28.4  1.732788  85.226360\n",
              "4  Female   18  29.1  1.721866  86.399914"
            ],
            "text/html": [
              "\n",
              "  <div id=\"df-ba18061a-6560-4b9a-a943-4742a3b26c11\" class=\"colab-df-container\">\n",
              "    <div>\n",
              "<style scoped>\n",
              "    .dataframe tbody tr th:only-of-type {\n",
              "        vertical-align: middle;\n",
              "    }\n",
              "\n",
              "    .dataframe tbody tr th {\n",
              "        vertical-align: top;\n",
              "    }\n",
              "\n",
              "    .dataframe thead th {\n",
              "        text-align: right;\n",
              "    }\n",
              "</style>\n",
              "<table border=\"1\" class=\"dataframe\">\n",
              "  <thead>\n",
              "    <tr style=\"text-align: right;\">\n",
              "      <th></th>\n",
              "      <th>Sex</th>\n",
              "      <th>Age</th>\n",
              "      <th>BMI</th>\n",
              "      <th>Height_m</th>\n",
              "      <th>Weight_kg</th>\n",
              "    </tr>\n",
              "  </thead>\n",
              "  <tbody>\n",
              "    <tr>\n",
              "      <th>0</th>\n",
              "      <td>Female</td>\n",
              "      <td>21</td>\n",
              "      <td>24.2</td>\n",
              "      <td>1.670812</td>\n",
              "      <td>67.652988</td>\n",
              "    </tr>\n",
              "    <tr>\n",
              "      <th>1</th>\n",
              "      <td>Female</td>\n",
              "      <td>35</td>\n",
              "      <td>24.8</td>\n",
              "      <td>1.816608</td>\n",
              "      <td>81.723660</td>\n",
              "    </tr>\n",
              "    <tr>\n",
              "      <th>2</th>\n",
              "      <td>Female</td>\n",
              "      <td>27</td>\n",
              "      <td>29.5</td>\n",
              "      <td>1.762760</td>\n",
              "      <td>91.627019</td>\n",
              "    </tr>\n",
              "    <tr>\n",
              "      <th>3</th>\n",
              "      <td>Male</td>\n",
              "      <td>24</td>\n",
              "      <td>28.4</td>\n",
              "      <td>1.732788</td>\n",
              "      <td>85.226360</td>\n",
              "    </tr>\n",
              "    <tr>\n",
              "      <th>4</th>\n",
              "      <td>Female</td>\n",
              "      <td>18</td>\n",
              "      <td>29.1</td>\n",
              "      <td>1.721866</td>\n",
              "      <td>86.399914</td>\n",
              "    </tr>\n",
              "  </tbody>\n",
              "</table>\n",
              "</div>\n",
              "    <div class=\"colab-df-buttons\">\n",
              "\n",
              "  <div class=\"colab-df-container\">\n",
              "    <button class=\"colab-df-convert\" onclick=\"convertToInteractive('df-ba18061a-6560-4b9a-a943-4742a3b26c11')\"\n",
              "            title=\"Convert this dataframe to an interactive table.\"\n",
              "            style=\"display:none;\">\n",
              "\n",
              "  <svg xmlns=\"http://www.w3.org/2000/svg\" height=\"24px\" viewBox=\"0 -960 960 960\">\n",
              "    <path d=\"M120-120v-720h720v720H120Zm60-500h600v-160H180v160Zm220 220h160v-160H400v160Zm0 220h160v-160H400v160ZM180-400h160v-160H180v160Zm440 0h160v-160H620v160ZM180-180h160v-160H180v160Zm440 0h160v-160H620v160Z\"/>\n",
              "  </svg>\n",
              "    </button>\n",
              "\n",
              "  <style>\n",
              "    .colab-df-container {\n",
              "      display:flex;\n",
              "      gap: 12px;\n",
              "    }\n",
              "\n",
              "    .colab-df-convert {\n",
              "      background-color: #E8F0FE;\n",
              "      border: none;\n",
              "      border-radius: 50%;\n",
              "      cursor: pointer;\n",
              "      display: none;\n",
              "      fill: #1967D2;\n",
              "      height: 32px;\n",
              "      padding: 0 0 0 0;\n",
              "      width: 32px;\n",
              "    }\n",
              "\n",
              "    .colab-df-convert:hover {\n",
              "      background-color: #E2EBFA;\n",
              "      box-shadow: 0px 1px 2px rgba(60, 64, 67, 0.3), 0px 1px 3px 1px rgba(60, 64, 67, 0.15);\n",
              "      fill: #174EA6;\n",
              "    }\n",
              "\n",
              "    .colab-df-buttons div {\n",
              "      margin-bottom: 4px;\n",
              "    }\n",
              "\n",
              "    [theme=dark] .colab-df-convert {\n",
              "      background-color: #3B4455;\n",
              "      fill: #D2E3FC;\n",
              "    }\n",
              "\n",
              "    [theme=dark] .colab-df-convert:hover {\n",
              "      background-color: #434B5C;\n",
              "      box-shadow: 0px 1px 3px 1px rgba(0, 0, 0, 0.15);\n",
              "      filter: drop-shadow(0px 1px 2px rgba(0, 0, 0, 0.3));\n",
              "      fill: #FFFFFF;\n",
              "    }\n",
              "  </style>\n",
              "\n",
              "    <script>\n",
              "      const buttonEl =\n",
              "        document.querySelector('#df-ba18061a-6560-4b9a-a943-4742a3b26c11 button.colab-df-convert');\n",
              "      buttonEl.style.display =\n",
              "        google.colab.kernel.accessAllowed ? 'block' : 'none';\n",
              "\n",
              "      async function convertToInteractive(key) {\n",
              "        const element = document.querySelector('#df-ba18061a-6560-4b9a-a943-4742a3b26c11');\n",
              "        const dataTable =\n",
              "          await google.colab.kernel.invokeFunction('convertToInteractive',\n",
              "                                                    [key], {});\n",
              "        if (!dataTable) return;\n",
              "\n",
              "        const docLinkHtml = 'Like what you see? Visit the ' +\n",
              "          '<a target=\"_blank\" href=https://colab.research.google.com/notebooks/data_table.ipynb>data table notebook</a>'\n",
              "          + ' to learn more about interactive tables.';\n",
              "        element.innerHTML = '';\n",
              "        dataTable['output_type'] = 'display_data';\n",
              "        await google.colab.output.renderOutput(dataTable, element);\n",
              "        const docLink = document.createElement('div');\n",
              "        docLink.innerHTML = docLinkHtml;\n",
              "        element.appendChild(docLink);\n",
              "      }\n",
              "    </script>\n",
              "  </div>\n",
              "\n",
              "\n",
              "    <div id=\"df-0e6d07a0-080b-434e-816e-b60fa00b4a0f\">\n",
              "      <button class=\"colab-df-quickchart\" onclick=\"quickchart('df-0e6d07a0-080b-434e-816e-b60fa00b4a0f')\"\n",
              "                title=\"Suggest charts\"\n",
              "                style=\"display:none;\">\n",
              "\n",
              "<svg xmlns=\"http://www.w3.org/2000/svg\" height=\"24px\"viewBox=\"0 0 24 24\"\n",
              "     width=\"24px\">\n",
              "    <g>\n",
              "        <path d=\"M19 3H5c-1.1 0-2 .9-2 2v14c0 1.1.9 2 2 2h14c1.1 0 2-.9 2-2V5c0-1.1-.9-2-2-2zM9 17H7v-7h2v7zm4 0h-2V7h2v10zm4 0h-2v-4h2v4z\"/>\n",
              "    </g>\n",
              "</svg>\n",
              "      </button>\n",
              "\n",
              "<style>\n",
              "  .colab-df-quickchart {\n",
              "      --bg-color: #E8F0FE;\n",
              "      --fill-color: #1967D2;\n",
              "      --hover-bg-color: #E2EBFA;\n",
              "      --hover-fill-color: #174EA6;\n",
              "      --disabled-fill-color: #AAA;\n",
              "      --disabled-bg-color: #DDD;\n",
              "  }\n",
              "\n",
              "  [theme=dark] .colab-df-quickchart {\n",
              "      --bg-color: #3B4455;\n",
              "      --fill-color: #D2E3FC;\n",
              "      --hover-bg-color: #434B5C;\n",
              "      --hover-fill-color: #FFFFFF;\n",
              "      --disabled-bg-color: #3B4455;\n",
              "      --disabled-fill-color: #666;\n",
              "  }\n",
              "\n",
              "  .colab-df-quickchart {\n",
              "    background-color: var(--bg-color);\n",
              "    border: none;\n",
              "    border-radius: 50%;\n",
              "    cursor: pointer;\n",
              "    display: none;\n",
              "    fill: var(--fill-color);\n",
              "    height: 32px;\n",
              "    padding: 0;\n",
              "    width: 32px;\n",
              "  }\n",
              "\n",
              "  .colab-df-quickchart:hover {\n",
              "    background-color: var(--hover-bg-color);\n",
              "    box-shadow: 0 1px 2px rgba(60, 64, 67, 0.3), 0 1px 3px 1px rgba(60, 64, 67, 0.15);\n",
              "    fill: var(--button-hover-fill-color);\n",
              "  }\n",
              "\n",
              "  .colab-df-quickchart-complete:disabled,\n",
              "  .colab-df-quickchart-complete:disabled:hover {\n",
              "    background-color: var(--disabled-bg-color);\n",
              "    fill: var(--disabled-fill-color);\n",
              "    box-shadow: none;\n",
              "  }\n",
              "\n",
              "  .colab-df-spinner {\n",
              "    border: 2px solid var(--fill-color);\n",
              "    border-color: transparent;\n",
              "    border-bottom-color: var(--fill-color);\n",
              "    animation:\n",
              "      spin 1s steps(1) infinite;\n",
              "  }\n",
              "\n",
              "  @keyframes spin {\n",
              "    0% {\n",
              "      border-color: transparent;\n",
              "      border-bottom-color: var(--fill-color);\n",
              "      border-left-color: var(--fill-color);\n",
              "    }\n",
              "    20% {\n",
              "      border-color: transparent;\n",
              "      border-left-color: var(--fill-color);\n",
              "      border-top-color: var(--fill-color);\n",
              "    }\n",
              "    30% {\n",
              "      border-color: transparent;\n",
              "      border-left-color: var(--fill-color);\n",
              "      border-top-color: var(--fill-color);\n",
              "      border-right-color: var(--fill-color);\n",
              "    }\n",
              "    40% {\n",
              "      border-color: transparent;\n",
              "      border-right-color: var(--fill-color);\n",
              "      border-top-color: var(--fill-color);\n",
              "    }\n",
              "    60% {\n",
              "      border-color: transparent;\n",
              "      border-right-color: var(--fill-color);\n",
              "    }\n",
              "    80% {\n",
              "      border-color: transparent;\n",
              "      border-right-color: var(--fill-color);\n",
              "      border-bottom-color: var(--fill-color);\n",
              "    }\n",
              "    90% {\n",
              "      border-color: transparent;\n",
              "      border-bottom-color: var(--fill-color);\n",
              "    }\n",
              "  }\n",
              "</style>\n",
              "\n",
              "      <script>\n",
              "        async function quickchart(key) {\n",
              "          const quickchartButtonEl =\n",
              "            document.querySelector('#' + key + ' button');\n",
              "          quickchartButtonEl.disabled = true;  // To prevent multiple clicks.\n",
              "          quickchartButtonEl.classList.add('colab-df-spinner');\n",
              "          try {\n",
              "            const charts = await google.colab.kernel.invokeFunction(\n",
              "                'suggestCharts', [key], {});\n",
              "          } catch (error) {\n",
              "            console.error('Error during call to suggestCharts:', error);\n",
              "          }\n",
              "          quickchartButtonEl.classList.remove('colab-df-spinner');\n",
              "          quickchartButtonEl.classList.add('colab-df-quickchart-complete');\n",
              "        }\n",
              "        (() => {\n",
              "          let quickchartButtonEl =\n",
              "            document.querySelector('#df-0e6d07a0-080b-434e-816e-b60fa00b4a0f button');\n",
              "          quickchartButtonEl.style.display =\n",
              "            google.colab.kernel.accessAllowed ? 'block' : 'none';\n",
              "        })();\n",
              "      </script>\n",
              "    </div>\n",
              "\n",
              "    </div>\n",
              "  </div>\n"
            ],
            "application/vnd.google.colaboratory.intrinsic+json": {
              "type": "dataframe",
              "variable_name": "dataset",
              "summary": "{\n  \"name\": \"dataset\",\n  \"rows\": 997,\n  \"fields\": [\n    {\n      \"column\": \"Sex\",\n      \"properties\": {\n        \"dtype\": \"category\",\n        \"num_unique_values\": 2,\n        \"samples\": [\n          \"Male\",\n          \"Female\"\n        ],\n        \"semantic_type\": \"\",\n        \"description\": \"\"\n      }\n    },\n    {\n      \"column\": \"Age\",\n      \"properties\": {\n        \"dtype\": \"number\",\n        \"std\": 5,\n        \"min\": 18,\n        \"max\": 35,\n        \"num_unique_values\": 18,\n        \"samples\": [\n          21,\n          35\n        ],\n        \"semantic_type\": \"\",\n        \"description\": \"\"\n      }\n    },\n    {\n      \"column\": \"BMI\",\n      \"properties\": {\n        \"dtype\": \"number\",\n        \"std\": 2.0816538133898317,\n        \"min\": 18.0,\n        \"max\": 32.0,\n        \"num_unique_values\": 109,\n        \"samples\": [\n          20.9,\n          25.0\n        ],\n        \"semantic_type\": \"\",\n        \"description\": \"\"\n      }\n    },\n    {\n      \"column\": \"Height_m\",\n      \"properties\": {\n        \"dtype\": \"number\",\n        \"std\": 0.04920856039406257,\n        \"min\": 1.575308,\n        \"max\": 1.87706,\n        \"num_unique_values\": 547,\n        \"samples\": [\n          1.718818,\n          1.710944\n        ],\n        \"semantic_type\": \"\",\n        \"description\": \"\"\n      }\n    },\n    {\n      \"column\": \"Weight_kg\",\n      \"properties\": {\n        \"dtype\": \"number\",\n        \"std\": 7.070337155225637,\n        \"min\": 49.75030368,\n        \"max\": 100.72804896,\n        \"num_unique_values\": 884,\n        \"samples\": [\n          87.22619136,\n          75.42478944\n        ],\n        \"semantic_type\": \"\",\n        \"description\": \"\"\n      }\n    }\n  ]\n}"
            }
          },
          "metadata": {},
          "execution_count": 19
        }
      ],
      "source": [
        "# Inlezen van de dataset\n",
        "dataset = pd.read_csv('/content/bmi_data_bewerkt.csv')\n",
        "dataset.head()"
      ]
    },
    {
      "cell_type": "code",
      "execution_count": 23,
      "metadata": {
        "colab": {
          "base_uri": "https://localhost:8080/",
          "height": 750
        },
        "id": "XdxramzKPXci",
        "outputId": "b2839b7d-de6b-430a-a875-c118fdc74482"
      },
      "outputs": [
        {
          "output_type": "stream",
          "name": "stdout",
          "text": [
            "gemiddelde: 25.543430290872617\n",
            "standaardafwijking: 2.0816538133898317\n",
            "percentage binnen 1 standaardafwijking: 67.60280842527582 %\n",
            "percentage binnen 2 standaardafwijking: 96.28886659979939 %\n"
          ]
        },
        {
          "output_type": "execute_result",
          "data": {
            "text/plain": [
              "Text(0.5, 1.0, 'Vrouwen')"
            ]
          },
          "metadata": {},
          "execution_count": 23
        },
        {
          "output_type": "display_data",
          "data": {
            "text/plain": [
              "<Figure size 640x480 with 1 Axes>"
            ],
            "image/png": "[encoded data removed]"
          },
          "metadata": {}
        },
        {
          "output_type": "display_data",
          "data": {
            "text/plain": [
              "<Figure size 1500x500 with 2 Axes>"
            ],
            "image/png": "[encoded data removed]"
          },
          "metadata": {}
        }
      ],
      "source": [
        "# a. Teken een histogram van alle verkopen en ga na of deze normaal verdeeld zijn.\n",
        "# b. Teken een histogram van alle verkopen en ga na of deze normaal verdeeld zijn.\n",
        "sns.histplot(dataset['BMI'].values, kde=False)\n",
        "gemiddelde = dataset['BMI'].mean()\n",
        "stdafwijking = dataset['BMI'].std()\n",
        "print('gemiddelde:', gemiddelde)\n",
        "print('standaardafwijking:', stdafwijking)\n",
        "# percentage waarden binnen 1 standaardafwijking rond gemiddelde:\n",
        "aantal_1_sigma = dataset[(dataset['BMI']>(gemiddelde-stdafwijking)) & (dataset['BMI']<(gemiddelde+stdafwijking))].BMI.count()\n",
        "print('percentage binnen 1 standaardafwijking:', aantal_1_sigma/dataset['BMI'].count()*100,'%')\n",
        "# percentage waarden binnen 2 standaardafwijkingen rond gemiddelde:\n",
        "aantal_2_sigma = dataset[(dataset['BMI']>(gemiddelde-2*stdafwijking)) & (dataset['BMI']<(gemiddelde+2*stdafwijking))].BMI.count()\n",
        "print('percentage binnen 2 standaardafwijking:', aantal_2_sigma/dataset['BMI'].count()*100,'%')\n",
        "# percentage waarden binnen 3 standaardafwijkingen rond gemiddelde:\n",
        "aantal_3_sigma = dataset[(dataset['BMI']>(gemiddelde-3*stdafwijking)) & (dataset['BMI']<(gemiddelde+3*stdafwijking))].BMI.count()\n",
        "f,axes = plt.subplots(1,2,figsize=(15,5))\n",
        "sns.histplot(dataset_man['BMI'].values, kde=False, ax=axes[0])\n",
        "axes[0].set_title('Mannen')\n",
        "sns.histplot(dataset_vrouw['BMI'].values, kde=False, ax=axes[1])\n",
        "axes[1].set_title('Vrouwen')\n"
      ]
    },
    {
      "cell_type": "code",
      "execution_count": 22,
      "metadata": {
        "id": "LxoD1OuEPXcj",
        "colab": {
          "base_uri": "https://localhost:8080/"
        },
        "outputId": "0222ccd6-07ed-42fb-9c08-0c855a5015c1"
      },
      "outputs": [
        {
          "output_type": "stream",
          "name": "stdout",
          "text": [
            "percentage binnen 1 standaardafwijking mannen: 68.83910386965377 %\n",
            "percentage binnen 2 standaardafwijking mannen: 95.9266802443992 %\n",
            "percentage binnen 3 standaardafwijking mannen: 99.38900203665987 %\n",
            "percentage binnen 1 standaardafwijking vrouwen: 66.600790513834 %\n",
            "percentage binnen 2 standaardafwijking vrouwen: 96.24505928853755 %\n",
            "percentage binnen 3 standaardafwijking vrouwen: 99.80237154150198 %\n"
          ]
        }
      ],
      "source": [
        "# b. Herhaal het gevraagde onder vraag b, maar splits op in mannen en vrouwen..\n",
        "dataset_man = dataset[dataset['Sex']=='Male']\n",
        "dataset_vrouw = dataset[dataset['Sex']=='Female']\n",
        "gemiddelde_man = dataset_man['BMI'].mean()\n",
        "stdafwijking_man = dataset_man['BMI'].std()\n",
        "gemiddelde_vrouw = dataset_vrouw['BMI'].mean()\n",
        "stdafwijking_vrouw = dataset_vrouw['BMI'].std()\n",
        "#percentage waarden afwijkingen binnen 1 standaardgemiddelde bij mannen\n",
        "aantal_1_sigma_man = dataset_man[(dataset_man['BMI']>(gemiddelde_man-stdafwijking_man)) & (dataset_man['BMI']<(gemiddelde_man+stdafwijking_man))].BMI.count()\n",
        "print('percentage binnen 1 standaardafwijking mannen:', aantal_1_sigma_man/dataset_man['BMI'].count()*100,'%')\n",
        "#percentage waarden afwijkingen binnen 2 standaardgemiddelde bij mannen\n",
        "aantal_2_sigma_man = dataset_man[(dataset_man['BMI']>(gemiddelde_man-2*stdafwijking_man)) & (dataset_man['BMI']<(gemiddelde_man+2*stdafwijking_man))].BMI.count()\n",
        "print('percentage binnen 2 standaardafwijking mannen:', aantal_2_sigma_man/dataset_man['BMI'].count()*100,'%')\n",
        "\n",
        "#percentage waarden afwijkingen binnen 3 standaardgemiddelde bij mannen\n",
        "aantal_3_sigma_man = dataset_man[(dataset_man['BMI']>(gemiddelde_man-3*stdafwijking_man)) & (dataset_man['BMI']<(gemiddelde_man+3*stdafwijking_man))].BMI.count()\n",
        "print('percentage binnen 3 standaardafwijking mannen:', aantal_3_sigma_man/dataset_man['BMI'].count()*100,'%')\n",
        "\n",
        "\n",
        "#percentage waarden afwijkingen binnen 1 standaardgemiddelde bij vrouwen\n",
        "aantal_1_sigma_vrouw = dataset_vrouw[(dataset_vrouw['BMI']>(gemiddelde_vrouw-stdafwijking_vrouw)) &(dataset_vrouw['BMI']<(gemiddelde_vrouw+stdafwijking_vrouw))].BMI.count()\n",
        "print('percentage binnen 1 standaardafwijking vrouwen:', aantal_1_sigma_vrouw/dataset_vrouw['BMI'].count()*100,'%')\n",
        "\n",
        "#percentage waarden afwijkingen binnen 2 standaardgemiddelde bij vrouwen\n",
        "aantal_2_sigma_vrouw = dataset_vrouw[(dataset_vrouw['BMI']>(gemiddelde_vrouw-2*stdafwijking_vrouw)) & (dataset_vrouw['BMI']<(gemiddelde_vrouw+2*stdafwijking_vrouw))].BMI.count()\n",
        "print('percentage binnen 2 standaardafwijking vrouwen:', aantal_2_sigma_vrouw/dataset_vrouw['BMI'].count()*100,'%')\n",
        "\n",
        "#percentage waarden afwijkingen binnen 3 standaardgemiddelde bij vrouwen\n",
        "aantal_3_sigma_vrouw = dataset_vrouw[(dataset_vrouw['BMI']>(gemiddelde_vrouw-3*stdafwijking_vrouw)) & (dataset_vrouw['BMI']<(gemiddelde_vrouw+3*stdafwijking_vrouw))].BMI.count()\n",
        "print('percentage binnen 3 standaardafwijking vrouwen:', aantal_3_sigma_vrouw/dataset_vrouw['BMI'].count()*100,'%')\n",
        "\n",
        "\n",
        "\n",
        "\n"
      ]
    },
    {
      "cell_type": "code",
      "execution_count": 26,
      "metadata": {
        "id": "-h7bKgm4PXcj",
        "colab": {
          "base_uri": "https://localhost:8080/",
          "height": 451
        },
        "outputId": "ba575d08-1efe-4be8-aff8-fae871177298"
      },
      "outputs": [
        {
          "output_type": "execute_result",
          "data": {
            "text/plain": [
              "Text(0.5, 1.0, 'Vrouwen')"
            ]
          },
          "metadata": {},
          "execution_count": 26
        },
        {
          "output_type": "display_data",
          "data": {
            "text/plain": [
              "<Figure size 640x480 with 2 Axes>"
            ],
            "image/png": "[encoded data removed]"
          },
          "metadata": {}
        }
      ],
      "source": [
        "# c. Is er een groot verschil tussen de distributie van het BMI van mannen en deze van vrouwenen? Verklaar ...\n",
        "f,axes = plt.subplots(1,2)\n",
        "sns.boxplot(y=dataset_man['BMI'],whis = 1.5, ax = axes[0])\n",
        "axes[0].set_title('Mannen')\n",
        "sns.boxplot(y=dataset_vrouw['BMI'],whis = 1.5, ax = axes[1])\n",
        "axes[1].set_title('Vrouwen')\n",
        "\n"
      ]
    },
    {
      "cell_type": "code",
      "execution_count": 27,
      "metadata": {
        "id": "tqqHkG8ePXcj",
        "colab": {
          "base_uri": "https://localhost:8080/"
        },
        "outputId": "b2200841-90fd-4a27-a0a8-aae90ec3c992"
      },
      "outputs": [
        {
          "output_type": "stream",
          "name": "stdout",
          "text": [
            "aantal mannen met ernstig overgewicht 5\n",
            "aantal vrouwen met ernstig overgewicht 6\n",
            "aantal mannen met overgewicht: 1.0183299389002036 %\n",
            "aantal vrouwen met overgewicht: 1.185770750988142 %\n"
          ]
        }
      ],
      "source": [
        "# d. Hoeveel procent van de mannen in de dataset heeft minstens ernstig overgewicht en hoeveel procent vrouwen in de dataset?\n",
        "aantal_mannen = dataset_man[dataset_man['BMI'] > 30].BMI.count()\n",
        "aantal_vrouwen = dataset_vrouw[dataset_vrouw['BMI'] > 30].BMI.count()\n",
        "print(\"aantal mannen met ernstig overgewicht\",aantal_mannen)\n",
        "print(\"aantal vrouwen met ernstig overgewicht\",aantal_vrouwen)\n",
        "print('aantal mannen met overgewicht:', aantal_mannen/dataset_man['BMI'].count()*100,'%')\n",
        "print('aantal vrouwen met overgewicht:', aantal_vrouwen/dataset_vrouw['BMI'].count()*100,'%')"
      ]
    },
    {
      "cell_type": "code",
      "execution_count": 30,
      "metadata": {
        "id": "moPMVGFjPXcj",
        "colab": {
          "base_uri": "https://localhost:8080/"
        },
        "outputId": "44fe8920-4967-4b90-e4e3-36083687209c"
      },
      "outputs": [
        {
          "output_type": "stream",
          "name": "stdout",
          "text": [
            "percentage mannen met overgewicht: 1.2794693382881244 %\n",
            "percentage vrouwen met overgewicht: 1.972765493179703 %\n"
          ]
        }
      ],
      "source": [
        "# e. Hoeveel procent van de populatie (niet de steekproef) mannen heeft minstens te maken met\n",
        "#    een ernstig overgewicht? En hoeveel procent van de vrouwen?\n",
        "\n",
        "p_male = stats.norm.sf(30,loc=gemiddelde_man,scale=stdafwijking_man )\n",
        "print('percentage mannen met overgewicht:', p_male*100,'%')\n",
        "p_female = stats.norm.sf(30,loc=gemiddelde_vrouw,scale=stdafwijking_vrouw )\n",
        "print('percentage vrouwen met overgewicht:', p_female*100,'%')"
      ]
    },
    {
      "cell_type": "code",
      "execution_count": 31,
      "metadata": {
        "id": "sb1ev_fQPXcj",
        "colab": {
          "base_uri": "https://localhost:8080/"
        },
        "outputId": "89e2443c-9ecc-4e50-9e5e-680da8dad0ae"
      },
      "outputs": [
        {
          "output_type": "stream",
          "name": "stdout",
          "text": [
            "percentage mannen met ondergewicht: 0.02222728577422747 %\n",
            "percentage vrouwen met ondergewicht: 0.05391047761283569 %\n"
          ]
        }
      ],
      "source": [
        "# f. Hoeveel procent van de populatie (niet de steekproef) mannen heeft een ondergewicht?\n",
        "#    En hoeveel procent van de vrouwen? Veronderstel dat de steekproef representatief is voor de populatie.\n",
        "p_Male = stats.norm.cdf(18.5,loc=gemiddelde_man,scale=stdafwijking_man )\n",
        "print('percentage mannen met ondergewicht:', p_Male*100,'%')\n",
        "p_Female = stats.norm.cdf(18.5,loc=gemiddelde_vrouw,scale=stdafwijking_vrouw )\n",
        "print('percentage vrouwen met ondergewicht:', p_Female*100,'%')"
      ]
    },
    {
      "cell_type": "code",
      "execution_count": 33,
      "metadata": {
        "id": "EzVXN_C5PXcj",
        "colab": {
          "base_uri": "https://localhost:8080/"
        },
        "outputId": "0ee25ff4-acb4-4d12-bf9a-29f5f412ac23"
      },
      "outputs": [
        {
          "output_type": "stream",
          "name": "stdout",
          "text": [
            "aantal uitschieters: 3\n"
          ]
        }
      ],
      "source": [
        "# g. Ga na of er uitschieters in de dataset aanwezig zijn.\n",
        "#    Uitschieters kan je hier beschouwen als de BMI gewichten die meer dan 3 standaardafwijkingen\n",
        "#    van het gemiddelde liggen.\n",
        "upper_limit = gemiddelde + 3*stdafwijking\n",
        "lower_limit = gemiddelde - 3*stdafwijking\n",
        "dataset_outliers = dataset[(dataset['BMI'] > upper_limit) | (dataset['BMI'] < lower_limit)]\n",
        "dataset_outliers.head()\n",
        "print('aantal uitschieters:', dataset_outliers.BMI.count())\n"
      ]
    },
    {
      "cell_type": "markdown",
      "source": [
        "### **Uitleg van de Python-code voor de BMI-analyse zonder code**\n",
        "\n",
        "---\n",
        "\n",
        "#### **Achtergrondinformatie:**\n",
        "\n",
        "De code analyseert een dataset met **BMI-waarden** van mannen en vrouwen. BMI (Body Mass Index) is een maat voor lichaamsvet op basis van lengte en gewicht.\n",
        "\n",
        "---\n",
        "\n",
        "### **a. Histogram en normaalverdeling van alle BMI-waarden**\n",
        "\n",
        "1. **Inlezen van de dataset:**\n",
        "\n",
        "   * De code leest de BMI-waarden in vanuit een CSV-bestand.\n",
        "\n",
        "2. **Berekening van gemiddelde en standaardafwijking:**\n",
        "\n",
        "   * Het **gemiddelde** (μ) geeft de centrale waarde van de BMI's.\n",
        "   * De **standaardafwijking** (σ) meet hoe ver de BMI-waarden van het gemiddelde afliggen.\n",
        "\n",
        "3. **Histogram tekenen:**\n",
        "\n",
        "   * Toont de verdeling van alle BMI-waarden.\n",
        "   * **KDE (Kernel Density Estimation)** wordt niet gebruikt (kde=False), omdat we alleen de ruwe distributie willen zien.\n",
        "\n",
        "4. **Controle van de 68-95-99.7 regel:**\n",
        "\n",
        "   * 68% van de waarden moet binnen 1 standaardafwijking van het gemiddelde liggen.\n",
        "   * 95% binnen 2 standaardafwijkingen.\n",
        "   * 99.7% binnen 3 standaardafwijkingen.\n",
        "\n",
        "---\n",
        "\n",
        "### **b. Verdeling per geslacht (mannen en vrouwen)**\n",
        "\n",
        "1. **Dataset opsplitsen:**\n",
        "\n",
        "   * Scheid de BMI-waarden voor mannen en vrouwen.\n",
        "\n",
        "2. **Gemiddelde en standaardafwijking per geslacht:**\n",
        "\n",
        "   * Bereken de gemiddelde BMI en standaardafwijking voor zowel mannen als vrouwen.\n",
        "\n",
        "3. **Histogram per geslacht:**\n",
        "\n",
        "   * Toont de distributies voor mannen en vrouwen afzonderlijk.\n",
        "\n",
        "4. **Controle van de 68-95-99.7 regel per geslacht:**\n",
        "\n",
        "   * Controleer voor mannen en vrouwen afzonderlijk hoeveel procent binnen 1, 2 en 3 standaardafwijkingen valt.\n",
        "\n",
        "---\n",
        "\n",
        "### **c. Verschillen tussen mannen en vrouwen**\n",
        "\n",
        "1. **Boxplots tekenen:**\n",
        "\n",
        "   * Toont de spreiding en verdeling van BMI-waarden voor mannen en vrouwen.\n",
        "   * **Uitschieters** worden weergegeven als individuele punten.\n",
        "\n",
        "---\n",
        "\n",
        "### **d. Percentage ernstig overgewicht (BMI > 30)**\n",
        "\n",
        "1. **Dataset filteren:**\n",
        "\n",
        "   * Tel het aantal mannen en vrouwen met een BMI boven de 30.\n",
        "\n",
        "2. **Percentage berekenen:**\n",
        "\n",
        "   * Deel het aantal personen met ernstig overgewicht door het totale aantal personen van dat geslacht.\n",
        "\n",
        "---\n",
        "\n",
        "### **e. Percentage ernstig overgewicht in de populatie**\n",
        "\n",
        "1. **Gebruik van de normaalverdeling:**\n",
        "\n",
        "   * Gebruik de **survival functie (SF)** om het percentage te berekenen van personen met een BMI boven de 30.\n",
        "   * Dit is de kans dat een willekeurige persoon uit de populatie een BMI heeft dat groter is dan 30.\n",
        "\n",
        "---\n",
        "\n",
        "### **f. Percentage ondergewicht (BMI < 18,5) in de populatie**\n",
        "\n",
        "1. **Gebruik van de cumulatieve distributiefunctie (CDF):**\n",
        "\n",
        "   * Gebruik de **CDF** om het percentage te berekenen van personen met een BMI lager dan 18,5.\n",
        "   * Dit is de kans dat een willekeurige persoon uit de populatie een BMI heeft dat kleiner is dan 18,5.\n",
        "\n",
        "---\n",
        "\n",
        "### **g. Uitschieters identificeren**\n",
        "\n",
        "1. **Definitie van een uitschieter:**\n",
        "\n",
        "   * Waarden die meer dan **3 standaardafwijkingen** van het gemiddelde afliggen.\n",
        "\n",
        "2. **Bepaling van de bovengrens en ondergrens:**\n",
        "\n",
        "   * Waarden buiten dit bereik worden als uitschieters beschouwd.\n",
        "\n",
        "3. **Dataset filteren op uitschieters:**\n",
        "\n",
        "   * Print het aantal uitschieters.\n",
        "\n",
        "---\n",
        "\n",
        "### **Conclusies trekken:**\n",
        "\n",
        "* **Verdeling controleren:** Zijn de BMI-waarden normaal verdeeld voor de volledige dataset en per geslacht?\n",
        "* **Uitschieters:** Hoeveel BMI-waarden vallen buiten de normale spreiding?\n",
        "* **Verschillen tussen mannen en vrouwen:** Zijn er duidelijke verschillen in de BMI-waarden tussen mannen en vrouwen?\n",
        "\n",
        "---\n",
        "\n",
        "\n"
      ],
      "metadata": {
        "id": "uiJTO7GWmgVv"
      }
    },
    {
      "cell_type": "markdown",
      "metadata": {
        "id": "-NIIbZDjPXcj"
      },
      "source": [
        "## Vraag 5\n",
        "Een kledingfabrikant wil een nieuwe riem op de markt brengen. Er is een variant voor Malenen en een variant voor Femaleen. Elke variant komt in smal, medium en large.\n",
        "Elk soort riem is qua lengte als volgt verstelbaar:\n",
        "\n",
        "\n",
        "|      Variant       | Mannen| Vrouwen |\n",
        "|------------|-----|---------------|\n",
        "| Smal |  Van 75 cm tot 87 cm|  Van 73 cm tot 85 cm|\n",
        "| Medium | Van 85 cm tot 100 cm| Van 80 cm tot 95 cm|\n",
        "| Large | Van 97 cm tot 110 cm  | Van 90 cm tot 107 cm|\n",
        "\n",
        "\n",
        "Om een inschatting te kunnen maken van de productieaantallen laat de fabrikant een onderzoek uitvoeren naar de heupomtrek bij Malenen en Femaleen. De gegevens kan je terugvinden onder het bestand 'riemen.csv'.\n"
      ]
    },
    {
      "cell_type": "code",
      "execution_count": 34,
      "metadata": {
        "id": "bgFAS9hVPXcj",
        "outputId": "b1b6ed22-c69f-4a09-94e5-5829853d0d58",
        "colab": {
          "base_uri": "https://localhost:8080/",
          "height": 206
        }
      },
      "outputs": [
        {
          "output_type": "execute_result",
          "data": {
            "text/plain": [
              "   Heupomtrek Geslacht\n",
              "0        93.5        M\n",
              "1        94.8        M\n",
              "2        95.0        M\n",
              "3        94.0        M\n",
              "4        98.5        M"
            ],
            "text/html": [
              "\n",
              "  <div id=\"df-b6a91d69-6b46-44f2-b93c-ce18edaeefeb\" class=\"colab-df-container\">\n",
              "    <div>\n",
              "<style scoped>\n",
              "    .dataframe tbody tr th:only-of-type {\n",
              "        vertical-align: middle;\n",
              "    }\n",
              "\n",
              "    .dataframe tbody tr th {\n",
              "        vertical-align: top;\n",
              "    }\n",
              "\n",
              "    .dataframe thead th {\n",
              "        text-align: right;\n",
              "    }\n",
              "</style>\n",
              "<table border=\"1\" class=\"dataframe\">\n",
              "  <thead>\n",
              "    <tr style=\"text-align: right;\">\n",
              "      <th></th>\n",
              "      <th>Heupomtrek</th>\n",
              "      <th>Geslacht</th>\n",
              "    </tr>\n",
              "  </thead>\n",
              "  <tbody>\n",
              "    <tr>\n",
              "      <th>0</th>\n",
              "      <td>93.5</td>\n",
              "      <td>M</td>\n",
              "    </tr>\n",
              "    <tr>\n",
              "      <th>1</th>\n",
              "      <td>94.8</td>\n",
              "      <td>M</td>\n",
              "    </tr>\n",
              "    <tr>\n",
              "      <th>2</th>\n",
              "      <td>95.0</td>\n",
              "      <td>M</td>\n",
              "    </tr>\n",
              "    <tr>\n",
              "      <th>3</th>\n",
              "      <td>94.0</td>\n",
              "      <td>M</td>\n",
              "    </tr>\n",
              "    <tr>\n",
              "      <th>4</th>\n",
              "      <td>98.5</td>\n",
              "      <td>M</td>\n",
              "    </tr>\n",
              "  </tbody>\n",
              "</table>\n",
              "</div>\n",
              "    <div class=\"colab-df-buttons\">\n",
              "\n",
              "  <div class=\"colab-df-container\">\n",
              "    <button class=\"colab-df-convert\" onclick=\"convertToInteractive('df-b6a91d69-6b46-44f2-b93c-ce18edaeefeb')\"\n",
              "            title=\"Convert this dataframe to an interactive table.\"\n",
              "            style=\"display:none;\">\n",
              "\n",
              "  <svg xmlns=\"http://www.w3.org/2000/svg\" height=\"24px\" viewBox=\"0 -960 960 960\">\n",
              "    <path d=\"M120-120v-720h720v720H120Zm60-500h600v-160H180v160Zm220 220h160v-160H400v160Zm0 220h160v-160H400v160ZM180-400h160v-160H180v160Zm440 0h160v-160H620v160ZM180-180h160v-160H180v160Zm440 0h160v-160H620v160Z\"/>\n",
              "  </svg>\n",
              "    </button>\n",
              "\n",
              "  <style>\n",
              "    .colab-df-container {\n",
              "      display:flex;\n",
              "      gap: 12px;\n",
              "    }\n",
              "\n",
              "    .colab-df-convert {\n",
              "      background-color: #E8F0FE;\n",
              "      border: none;\n",
              "      border-radius: 50%;\n",
              "      cursor: pointer;\n",
              "      display: none;\n",
              "      fill: #1967D2;\n",
              "      height: 32px;\n",
              "      padding: 0 0 0 0;\n",
              "      width: 32px;\n",
              "    }\n",
              "\n",
              "    .colab-df-convert:hover {\n",
              "      background-color: #E2EBFA;\n",
              "      box-shadow: 0px 1px 2px rgba(60, 64, 67, 0.3), 0px 1px 3px 1px rgba(60, 64, 67, 0.15);\n",
              "      fill: #174EA6;\n",
              "    }\n",
              "\n",
              "    .colab-df-buttons div {\n",
              "      margin-bottom: 4px;\n",
              "    }\n",
              "\n",
              "    [theme=dark] .colab-df-convert {\n",
              "      background-color: #3B4455;\n",
              "      fill: #D2E3FC;\n",
              "    }\n",
              "\n",
              "    [theme=dark] .colab-df-convert:hover {\n",
              "      background-color: #434B5C;\n",
              "      box-shadow: 0px 1px 3px 1px rgba(0, 0, 0, 0.15);\n",
              "      filter: drop-shadow(0px 1px 2px rgba(0, 0, 0, 0.3));\n",
              "      fill: #FFFFFF;\n",
              "    }\n",
              "  </style>\n",
              "\n",
              "    <script>\n",
              "      const buttonEl =\n",
              "        document.querySelector('#df-b6a91d69-6b46-44f2-b93c-ce18edaeefeb button.colab-df-convert');\n",
              "      buttonEl.style.display =\n",
              "        google.colab.kernel.accessAllowed ? 'block' : 'none';\n",
              "\n",
              "      async function convertToInteractive(key) {\n",
              "        const element = document.querySelector('#df-b6a91d69-6b46-44f2-b93c-ce18edaeefeb');\n",
              "        const dataTable =\n",
              "          await google.colab.kernel.invokeFunction('convertToInteractive',\n",
              "                                                    [key], {});\n",
              "        if (!dataTable) return;\n",
              "\n",
              "        const docLinkHtml = 'Like what you see? Visit the ' +\n",
              "          '<a target=\"_blank\" href=https://colab.research.google.com/notebooks/data_table.ipynb>data table notebook</a>'\n",
              "          + ' to learn more about interactive tables.';\n",
              "        element.innerHTML = '';\n",
              "        dataTable['output_type'] = 'display_data';\n",
              "        await google.colab.output.renderOutput(dataTable, element);\n",
              "        const docLink = document.createElement('div');\n",
              "        docLink.innerHTML = docLinkHtml;\n",
              "        element.appendChild(docLink);\n",
              "      }\n",
              "    </script>\n",
              "  </div>\n",
              "\n",
              "\n",
              "    <div id=\"df-1de79942-85b5-45db-bdf7-a9e11632ae87\">\n",
              "      <button class=\"colab-df-quickchart\" onclick=\"quickchart('df-1de79942-85b5-45db-bdf7-a9e11632ae87')\"\n",
              "                title=\"Suggest charts\"\n",
              "                style=\"display:none;\">\n",
              "\n",
              "<svg xmlns=\"http://www.w3.org/2000/svg\" height=\"24px\"viewBox=\"0 0 24 24\"\n",
              "     width=\"24px\">\n",
              "    <g>\n",
              "        <path d=\"M19 3H5c-1.1 0-2 .9-2 2v14c0 1.1.9 2 2 2h14c1.1 0 2-.9 2-2V5c0-1.1-.9-2-2-2zM9 17H7v-7h2v7zm4 0h-2V7h2v10zm4 0h-2v-4h2v4z\"/>\n",
              "    </g>\n",
              "</svg>\n",
              "      </button>\n",
              "\n",
              "<style>\n",
              "  .colab-df-quickchart {\n",
              "      --bg-color: #E8F0FE;\n",
              "      --fill-color: #1967D2;\n",
              "      --hover-bg-color: #E2EBFA;\n",
              "      --hover-fill-color: #174EA6;\n",
              "      --disabled-fill-color: #AAA;\n",
              "      --disabled-bg-color: #DDD;\n",
              "  }\n",
              "\n",
              "  [theme=dark] .colab-df-quickchart {\n",
              "      --bg-color: #3B4455;\n",
              "      --fill-color: #D2E3FC;\n",
              "      --hover-bg-color: #434B5C;\n",
              "      --hover-fill-color: #FFFFFF;\n",
              "      --disabled-bg-color: #3B4455;\n",
              "      --disabled-fill-color: #666;\n",
              "  }\n",
              "\n",
              "  .colab-df-quickchart {\n",
              "    background-color: var(--bg-color);\n",
              "    border: none;\n",
              "    border-radius: 50%;\n",
              "    cursor: pointer;\n",
              "    display: none;\n",
              "    fill: var(--fill-color);\n",
              "    height: 32px;\n",
              "    padding: 0;\n",
              "    width: 32px;\n",
              "  }\n",
              "\n",
              "  .colab-df-quickchart:hover {\n",
              "    background-color: var(--hover-bg-color);\n",
              "    box-shadow: 0 1px 2px rgba(60, 64, 67, 0.3), 0 1px 3px 1px rgba(60, 64, 67, 0.15);\n",
              "    fill: var(--button-hover-fill-color);\n",
              "  }\n",
              "\n",
              "  .colab-df-quickchart-complete:disabled,\n",
              "  .colab-df-quickchart-complete:disabled:hover {\n",
              "    background-color: var(--disabled-bg-color);\n",
              "    fill: var(--disabled-fill-color);\n",
              "    box-shadow: none;\n",
              "  }\n",
              "\n",
              "  .colab-df-spinner {\n",
              "    border: 2px solid var(--fill-color);\n",
              "    border-color: transparent;\n",
              "    border-bottom-color: var(--fill-color);\n",
              "    animation:\n",
              "      spin 1s steps(1) infinite;\n",
              "  }\n",
              "\n",
              "  @keyframes spin {\n",
              "    0% {\n",
              "      border-color: transparent;\n",
              "      border-bottom-color: var(--fill-color);\n",
              "      border-left-color: var(--fill-color);\n",
              "    }\n",
              "    20% {\n",
              "      border-color: transparent;\n",
              "      border-left-color: var(--fill-color);\n",
              "      border-top-color: var(--fill-color);\n",
              "    }\n",
              "    30% {\n",
              "      border-color: transparent;\n",
              "      border-left-color: var(--fill-color);\n",
              "      border-top-color: var(--fill-color);\n",
              "      border-right-color: var(--fill-color);\n",
              "    }\n",
              "    40% {\n",
              "      border-color: transparent;\n",
              "      border-right-color: var(--fill-color);\n",
              "      border-top-color: var(--fill-color);\n",
              "    }\n",
              "    60% {\n",
              "      border-color: transparent;\n",
              "      border-right-color: var(--fill-color);\n",
              "    }\n",
              "    80% {\n",
              "      border-color: transparent;\n",
              "      border-right-color: var(--fill-color);\n",
              "      border-bottom-color: var(--fill-color);\n",
              "    }\n",
              "    90% {\n",
              "      border-color: transparent;\n",
              "      border-bottom-color: var(--fill-color);\n",
              "    }\n",
              "  }\n",
              "</style>\n",
              "\n",
              "      <script>\n",
              "        async function quickchart(key) {\n",
              "          const quickchartButtonEl =\n",
              "            document.querySelector('#' + key + ' button');\n",
              "          quickchartButtonEl.disabled = true;  // To prevent multiple clicks.\n",
              "          quickchartButtonEl.classList.add('colab-df-spinner');\n",
              "          try {\n",
              "            const charts = await google.colab.kernel.invokeFunction(\n",
              "                'suggestCharts', [key], {});\n",
              "          } catch (error) {\n",
              "            console.error('Error during call to suggestCharts:', error);\n",
              "          }\n",
              "          quickchartButtonEl.classList.remove('colab-df-spinner');\n",
              "          quickchartButtonEl.classList.add('colab-df-quickchart-complete');\n",
              "        }\n",
              "        (() => {\n",
              "          let quickchartButtonEl =\n",
              "            document.querySelector('#df-1de79942-85b5-45db-bdf7-a9e11632ae87 button');\n",
              "          quickchartButtonEl.style.display =\n",
              "            google.colab.kernel.accessAllowed ? 'block' : 'none';\n",
              "        })();\n",
              "      </script>\n",
              "    </div>\n",
              "\n",
              "    </div>\n",
              "  </div>\n"
            ],
            "application/vnd.google.colaboratory.intrinsic+json": {
              "type": "dataframe",
              "variable_name": "dataset",
              "summary": "{\n  \"name\": \"dataset\",\n  \"rows\": 507,\n  \"fields\": [\n    {\n      \"column\": \"Heupomtrek\",\n      \"properties\": {\n        \"dtype\": \"number\",\n        \"std\": 6.680622739981979,\n        \"min\": 78.8,\n        \"max\": 128.3,\n        \"num_unique_values\": 209,\n        \"samples\": [\n          103.9,\n          93.1,\n          98.6\n        ],\n        \"semantic_type\": \"\",\n        \"description\": \"\"\n      }\n    },\n    {\n      \"column\": \"Geslacht\",\n      \"properties\": {\n        \"dtype\": \"category\",\n        \"num_unique_values\": 2,\n        \"samples\": [\n          \"V\",\n          \"M\"\n        ],\n        \"semantic_type\": \"\",\n        \"description\": \"\"\n      }\n    }\n  ]\n}"
            }
          },
          "metadata": {},
          "execution_count": 34
        }
      ],
      "source": [
        "dataset = pd.read_csv('riemen.csv')\n",
        "dataset.head()"
      ]
    },
    {
      "cell_type": "markdown",
      "metadata": {
        "id": "nPL79CZmPXcj"
      },
      "source": [
        "a. Ga na of deze data normaalverdeeld is. Doe dit door de kansverdeling te plotten en door na te gaan hoeveel procent van de gegevens binnen de 1, 2 en 3 standaardafwijkingen is gelegen. Vergelijk met de werkelijke normaalverdeling die hoort bij het berekende gemiddelde en standaardafwijking.  Doe de analyse ook apart voor mannen en vrouwen."
      ]
    },
    {
      "source": [
        "# a. Ga na of deze data normaalverdeeld is.\n",
        "# b. Teken een histogram van alle verkopen en ga na of deze normaal verdeeld zijn.\n",
        "sns.histplot(dataset['Heupomtrek'].values, kde=False)\n",
        "gemiddelde = dataset['Heupomtrek'].mean()\n",
        "stdafwijking = dataset['Heupomtrek'].std()\n",
        "print('gemiddelde:', gemiddelde)\n",
        "print('standaardafwijking:', stdafwijking)\n",
        "# percentage waarden binnen 1 standaardafwijking rond gemiddelde:\n",
        "aantal_1_sigma = dataset[(dataset['Heupomtrek']>(gemiddelde-stdafwijking)) & (dataset['Heupomtrek']<(gemiddelde+stdafwijking))].Heupomtrek.count()\n",
        "print('percentage binnen 1 standaardafwijking:', aantal_1_sigma/dataset['Heupomtrek'].count()*100,'%')\n",
        "# percentage waarden binnen 2 standaardafwijkingen rond gemiddelde:\n",
        "aantal_2_sigma = dataset[(dataset['Heupomtrek']>(gemiddelde-2*stdafwijking)) & (dataset['Heupomtrek']<(gemiddelde+2*stdafwijking))].Heupomtrek.count()\n",
        "print('percentage binnen 2 standaardafwijking:', aantal_2_sigma/dataset['Heupomtrek'].count()*100,'%')\n",
        "# percentage waarden binnen 3 standaardafwijkingen rond gemiddelde:\n",
        "aantal_3_sigma = dataset[(dataset['Heupomtrek']>(gemiddelde-3*stdafwijking)) & (dataset['Heupomtrek']<(gemiddelde+3*stdafwijking))].Heupomtrek.count()\n"
      ],
      "cell_type": "code",
      "metadata": {
        "colab": {
          "base_uri": "https://localhost:8080/",
          "height": 501
        },
        "id": "1caOmYtRfXTN",
        "outputId": "ecda7a0c-7000-4b7e-ffaf-62161a7ea7f3"
      },
      "execution_count": 39,
      "outputs": [
        {
          "output_type": "stream",
          "name": "stdout",
          "text": [
            "gemiddelde: 96.68086785009861\n",
            "standaardafwijking: 6.680622739981979\n",
            "percentage binnen 1 standaardafwijking: 68.63905325443787 %\n",
            "percentage binnen 2 standaardafwijking: 95.85798816568047 %\n"
          ]
        },
        {
          "output_type": "display_data",
          "data": {
            "text/plain": [
              "<Figure size 640x480 with 1 Axes>"
            ],
            "image/png": "[encoded data removed]"
          },
          "metadata": {}
        }
      ]
    },
    {
      "cell_type": "markdown",
      "metadata": {
        "id": "ghsXZvJePXcj"
      },
      "source": [
        "b. Vergelijk de maten van de mannen en de vrouwen in termen van gemiddelde en spreiding."
      ]
    },
    {
      "cell_type": "code",
      "execution_count": 41,
      "metadata": {
        "id": "PEClLaWKPXcj",
        "colab": {
          "base_uri": "https://localhost:8080/",
          "height": 508
        },
        "outputId": "c3c77da7-1433-46e4-edb8-7119ac6592c6"
      },
      "outputs": [
        {
          "output_type": "stream",
          "name": "stdout",
          "text": [
            "Mannen gemiddelde heupomtrek 97.76315789473684 standaardafwijking 6.228042645198816\n",
            "Vrouwen gemiddelde heupomtrek 95.6526923076923 standaardafwijking 6.94072757621269\n"
          ]
        },
        {
          "output_type": "execute_result",
          "data": {
            "text/plain": [
              "Text(0.5, 1.0, 'Vrouwen')"
            ]
          },
          "metadata": {},
          "execution_count": 41
        },
        {
          "output_type": "display_data",
          "data": {
            "text/plain": [
              "<Figure size 640x480 with 2 Axes>"
            ],
            "image/png": "[encoded data removed]"
          },
          "metadata": {}
        }
      ],
      "source": [
        "dataset_man = dataset[dataset['Geslacht']=='M']\n",
        "dataset_vrouw = dataset[dataset['Geslacht']=='V']\n",
        "\n",
        "gemiddelde_man = dataset_man['Heupomtrek'].mean()\n",
        "stdafwijking_man = dataset_man['Heupomtrek'].std()\n",
        "gemiddelde_vrouw = dataset_vrouw['Heupomtrek'].mean()\n",
        "stdafwijking_vrouw = dataset_vrouw['Heupomtrek'].std()\n",
        "print('Mannen','gemiddelde heupomtrek',gemiddelde_man,'standaardafwijking',stdafwijking_man)\n",
        "print('Vrouwen','gemiddelde heupomtrek',gemiddelde_vrouw,'standaardafwijking',stdafwijking_vrouw)\n",
        "f,axes = plt.subplots(1,2,)\n",
        "sns.boxplot(y='Heupomtrek',data=dataset_man,whis=1.5,ax=axes[0])\n",
        "axes[0].set_title('Mannen')\n",
        "sns.boxplot(y='Heupomtrek',data=dataset_vrouw,whis=1.5,ax=axes[1])\n",
        "axes[1].set_title('Vrouwen')\n"
      ]
    },
    {
      "cell_type": "markdown",
      "metadata": {
        "id": "SnFABypvPXcj"
      },
      "source": [
        "c. In de veronderstelling dat de data normaalverdeeld is, bereken telkens **voor de populatie** hoeveel procent van de mannen maat smal, medium en large kan dragen. Doe dit ook voor Vrouwen. Vul daarbij onderstaande tabel aan.\n",
        "\n",
        "|       Variant     | Mannen| Vrouwen |\n",
        "|------------|-----:|---------------:|\n",
        "| Smal |     %|     %|\n",
        "| Medium |     %|     %|\n",
        "| Large |      %|     %|\n",
        "| Smal |  Van 75 cm tot 87 cm|  Van 73 cm tot 85 cm|\n",
        "| Medium | Van 85 cm tot 100 cm| Van 80 cm tot 95 cm|\n",
        "| Large | Van 97 cm tot 110 cm  | Van 90 cm tot 107 cm|"
      ]
    },
    {
      "cell_type": "code",
      "execution_count": 46,
      "metadata": {
        "id": "KPhtbmU-PXck",
        "colab": {
          "base_uri": "https://localhost:8080/"
        },
        "outputId": "fe954291-bb88-47f1-8519-a55a0dc40abb"
      },
      "outputs": [
        {
          "output_type": "stream",
          "name": "stdout",
          "text": [
            "percentage mannen met maat smal: 4.184966085310592 %\n",
            "percentage mannen met maat medium: 62.004484002226846 %\n",
            "percentage mannen met maat large: 83.65240264245558 %\n",
            "percentage mannen met maat large: 83.65240264245558 %\n",
            "percentage vrouwen met maat smal: 6.18655845524266 %\n",
            "percentage vrouwen met maat medium: 45.04789217714301 %\n",
            "percentage vrouwen met maat large: 74.12625042999758 %\n"
          ]
        }
      ],
      "source": [
        "p_mannen_smal = stats.norm.cdf(87,loc=gemiddelde_man,scale=stdafwijking_man ) - stats.norm.cdf(75,loc=gemiddelde_man,scale=stdafwijking_man )\n",
        "print('percentage mannen met maat smal:', p_mannen_smal*100,'%')\n",
        "p_mannen_medium = stats.norm.cdf(100,loc=gemiddelde_man,scale=stdafwijking_man ) - stats.norm.cdf(85,loc=gemiddelde_man,scale=stdafwijking_man )\n",
        "print('percentage mannen met maat medium:', p_mannen_medium*100,'%')\n",
        "p_mannen_large = stats.norm.cdf(110,loc=gemiddelde_man,scale=stdafwijking_man ) - stats.norm.cdf(91,loc=gemiddelde_man,scale=stdafwijking_man )\n",
        "print('percentage mannen met maat large:', p_mannen_large*100,'%')\n",
        "p_mannen_large = stats.norm.cdf(110,loc=gemiddelde_man,scale=stdafwijking_man ) - stats.norm.cdf(91,loc=gemiddelde_man,scale=stdafwijking_man )\n",
        "print('percentage mannen met maat large:', p_mannen_large*100,'%')\n",
        "\n",
        "p_vrouwen_smal = stats.norm.cdf(85,loc=gemiddelde_vrouw,scale=stdafwijking_vrouw ) - stats.norm.cdf(73,loc=gemiddelde_vrouw,scale=stdafwijking_vrouw )\n",
        "print('percentage vrouwen met maat smal:', p_vrouwen_smal*100,'%')\n",
        "p_vrouwen_medium = stats.norm.cdf(95,loc=gemiddelde_vrouw,scale=stdafwijking_vrouw ) - stats.norm.cdf(80,loc=gemiddelde_vrouw,scale=stdafwijking_vrouw )\n",
        "print('percentage vrouwen met maat medium:', p_vrouwen_medium*100,'%')\n",
        "p_vrouwen_large = stats.norm.cdf(107,loc=gemiddelde_vrouw,scale=stdafwijking_vrouw ) - stats.norm.cdf(90,loc=gemiddelde_vrouw,scale=stdafwijking_vrouw )\n",
        "print('percentage vrouwen met maat large:', p_vrouwen_large*100,'%')\n"
      ]
    },
    {
      "cell_type": "markdown",
      "metadata": {
        "id": "IUc5CdFqPXck"
      },
      "source": [
        "d. Bij hoeveel procent van de mannen past zowel smal als medium?"
      ]
    },
    {
      "cell_type": "code",
      "execution_count": 47,
      "metadata": {
        "id": "c0tnAXJVPXck",
        "colab": {
          "base_uri": "https://localhost:8080/"
        },
        "outputId": "d3aa6554-c78f-49d5-e454-adaa07831710"
      },
      "outputs": [
        {
          "output_type": "stream",
          "name": "stdout",
          "text": [
            "percentage mannen met maat smal en medium: 64.01323800008821 %\n"
          ]
        }
      ],
      "source": [
        "p = stats.norm.cdf(100,loc=gemiddelde_man,scale=stdafwijking_man ) - stats.norm.cdf(75,loc=gemiddelde_man,scale=stdafwijking_man )\n",
        "print('percentage mannen met maat smal en medium:', p*100,'%')"
      ]
    },
    {
      "cell_type": "markdown",
      "metadata": {
        "id": "FsMfDG7GPXck"
      },
      "source": [
        "e. Bij hoeveel procent van de vrouwen past zowel medium als large?"
      ]
    },
    {
      "cell_type": "code",
      "execution_count": 49,
      "metadata": {
        "id": "6cr1AF2_PXcl",
        "colab": {
          "base_uri": "https://localhost:8080/"
        },
        "outputId": "75b1d73e-cac7-4bb2-b24d-817816b6a28a"
      },
      "outputs": [
        {
          "output_type": "stream",
          "name": "stdout",
          "text": [
            "percentage vrouwen met maat medium en large: 93.69031132359787 %\n"
          ]
        }
      ],
      "source": [
        "p = stats.norm.cdf(107,loc=gemiddelde_vrouw,scale=stdafwijking_vrouw ) - stats.norm.cdf(80,loc=gemiddelde_vrouw,scale=stdafwijking_vrouw )\n",
        "print('percentage vrouwen met maat medium en large:', p*100,'%')"
      ]
    },
    {
      "cell_type": "markdown",
      "metadata": {
        "id": "1deQi4YjPXcl"
      },
      "source": [
        "f. Bij hoeveel procent van de mannen past geen enkele maat?"
      ]
    },
    {
      "cell_type": "code",
      "execution_count": 50,
      "metadata": {
        "id": "kCJ7izHJPXcl",
        "colab": {
          "base_uri": "https://localhost:8080/"
        },
        "outputId": "7cd76ece-d260-40e0-f3dc-5b005dc8d09e"
      },
      "outputs": [
        {
          "output_type": "stream",
          "name": "stdout",
          "text": [
            "percentage mannen met maat kleiner dan 75cm: 0.012861819146198472 %\n",
            "percentage mannen met maat groter dan 110cm: 2.47188446165284 %\n",
            "percentage mannen met geen maat: 2.4847462807990386 %\n"
          ]
        }
      ],
      "source": [
        "p_te_klein = stats.norm.cdf(75,loc=gemiddelde_man,scale=stdafwijking_man )\n",
        "print('percentage mannen met maat kleiner dan 75cm:', p_te_klein*100,'%')\n",
        "p_te_hoger =   1-  stats.norm.cdf(110,loc=gemiddelde_man,scale=stdafwijking_man )\n",
        "print('percentage mannen met maat groter dan 110cm:', p_te_hoger*100,'%')\n",
        "print('percentage mannen met geen maat:', (p_te_klein+p_te_hoger)*100,'%')"
      ]
    },
    {
      "cell_type": "markdown",
      "metadata": {
        "id": "4hp_Xw8UPXcl"
      },
      "source": [
        "g. Bij hoeveel procent van de vrouwen past geen enkele maat?"
      ]
    },
    {
      "cell_type": "code",
      "execution_count": 51,
      "metadata": {
        "id": "9HoHwlFbPXcl",
        "colab": {
          "base_uri": "https://localhost:8080/"
        },
        "outputId": "aa47acae-f76a-4a31-db03-10cea245ce41"
      },
      "outputs": [
        {
          "output_type": "stream",
          "name": "stdout",
          "text": [
            "percentage vrouwen met maat kleiner dan 73cm: 0.05497706767065476 %\n",
            "percentage vrouwen met geen maat: 5.104183043185929 %\n"
          ]
        }
      ],
      "source": [
        "p_te_klein = stats.norm.cdf(73,loc=gemiddelde_vrouw,scale=stdafwijking_vrouw )\n",
        "print('percentage vrouwen met maat kleiner dan 73cm:', p_te_klein*100,'%')\n",
        "p_te_hoger =   1-  stats.norm.cdf(107,loc=gemiddelde_vrouw,scale=stdafwijking_vrouw )\n",
        "print('percentage vrouwen met geen maat:', p_te_klein+p_te_hoger*100,'%')"
      ]
    },
    {
      "cell_type": "markdown",
      "source": [
        "### **Uitleg van de Python-code voor de riem-analyse zonder code**\n",
        "\n",
        "---\n",
        "\n",
        "#### **a. Controle of de heupomtrek normaal verdeeld is**\n",
        "\n",
        "**Stap 1: Inlezen van de dataset**\n",
        "\n",
        "De heupomtrekken van mannen en vrouwen worden ingeladen vanuit een CSV-bestand. Dit bestand bevat een lijst met heupomtrekken en het geslacht van elke persoon.\n",
        "\n",
        "---\n",
        "\n",
        "**Stap 2: Berekenen van gemiddelde en standaardafwijking**\n",
        "\n",
        "* Het **gemiddelde** (μ) is de gemiddelde heupomtrek van alle personen in de dataset. Dit vertelt je wat de typische heupomtrek is.\n",
        "* De **standaardafwijking** (σ) meet hoe sterk de heupomtrekken variëren rond dit gemiddelde. Een hoge standaardafwijking betekent dat er grote verschillen zijn in de heupomtrekken.\n",
        "\n",
        "---\n",
        "\n",
        "**Stap 3: Controle van de normaalverdeling**\n",
        "\n",
        "* **Binnen 1 standaardafwijking:** Meet hoeveel procent van de heupomtrekken binnen één standaardafwijking van het gemiddelde ligt. Voor een perfecte normaalverdeling zou dit ongeveer **68%** moeten zijn.\n",
        "* **Binnen 2 standaardafwijkingen:** Meet hoeveel procent binnen twee standaardafwijkingen valt. Dit zou ongeveer **95%** moeten zijn.\n",
        "* **Binnen 3 standaardafwijkingen:** Meet hoeveel procent binnen drie standaardafwijkingen valt. Dit zou ongeveer **99,7%** moeten zijn.\n",
        "\n",
        "---\n",
        "\n",
        "#### **b. Vergelijk de maten van mannen en vrouwen**\n",
        "\n",
        "**Stap 1: Opsplitsen van de dataset**\n",
        "\n",
        "* De dataset wordt opgesplitst in twee groepen: mannen en vrouwen, zodat je ze afzonderlijk kunt analyseren.\n",
        "\n",
        "**Stap 2: Berekenen van gemiddelde en standaardafwijking per geslacht**\n",
        "\n",
        "* Het gemiddelde en de standaardafwijking worden afzonderlijk berekend voor mannen en vrouwen.\n",
        "* Dit laat zien of er een verschil is in de gemiddelde heupomtrek en de spreiding van deze waarden tussen mannen en vrouwen.\n",
        "\n",
        "**Stap 3: Visualiseren met boxplots**\n",
        "\n",
        "* Er worden boxplots getekend voor mannen en vrouwen, zodat je kunt zien hoe de heupomtrekken van beide groepen verdeeld zijn en of er uitschieters zijn.\n",
        "\n",
        "---\n",
        "\n",
        "#### **c. Percentage per maat (smal, medium, large)**\n",
        "\n",
        "**Stap 1: Bereken percentages voor mannen**\n",
        "\n",
        "* **Smal (75-87 cm)**: Meet hoeveel procent van de mannen een heupomtrek heeft binnen dit bereik.\n",
        "* **Medium (85-100 cm)**: Meet hoeveel procent van de mannen een heupomtrek heeft binnen dit bereik.\n",
        "* **Large (97-110 cm)**: Meet hoeveel procent van de mannen een heupomtrek heeft binnen dit bereik.\n",
        "\n",
        "**Stap 2: Bereken percentages voor vrouwen**\n",
        "\n",
        "* **Smal (73-85 cm)**: Meet hoeveel procent van de vrouwen een heupomtrek heeft binnen dit bereik.\n",
        "* **Medium (80-95 cm)**: Meet hoeveel procent van de vrouwen een heupomtrek heeft binnen dit bereik.\n",
        "* **Large (90-107 cm)**: Meet hoeveel procent van de vrouwen een heupomtrek heeft binnen dit bereik.\n",
        "\n",
        "---\n",
        "\n",
        "#### **d. Overlap tussen maten voor mannen**\n",
        "\n",
        "* Bereken hoeveel procent van de mannen zowel maat **smal** als **medium** kan dragen (dat is een heupomtrek tussen **75 en 100 cm**).\n",
        "\n",
        "---\n",
        "\n",
        "#### **e. Overlap tussen maten voor vrouwen**\n",
        "\n",
        "* Bereken hoeveel procent van de vrouwen zowel maat **medium** als **large** kan dragen (dat is een heupomtrek tussen **80 en 107 cm**).\n",
        "\n",
        "---\n",
        "\n",
        "#### **f. Mannen zonder passende maat**\n",
        "\n",
        "* Bereken hoeveel procent van de mannen een heupomtrek heeft die **kleiner is dan 75 cm** of **groter is dan 110 cm**. Dit zijn mannen die geen enkele maat kunnen dragen.\n",
        "\n",
        "---\n",
        "\n",
        "#### **g. Vrouwen zonder passende maat**\n",
        "\n",
        "* Bereken hoeveel procent van de vrouwen een heupomtrek heeft die **kleiner is dan 73 cm** of **groter is dan 107 cm**. Dit zijn vrouwen die geen enkele maat kunnen dragen.\n",
        "\n",
        "---\n",
        "\n",
        "### **Samenvatting van de resultaten**\n",
        "\n",
        "Met deze stappen kun je:\n",
        "\n",
        "* Controleren of de dataset normaal verdeeld is.\n",
        "* Vergelijken hoe de maten van mannen en vrouwen verschillen.\n",
        "* Bepalen welk percentage mannen en vrouwen in elke maatcategorie valt.\n",
        "* Uitzoeken hoeveel mensen geen enkele maat kunnen dragen.\n",
        "\n",
        "---\n",
        "\n"
      ],
      "metadata": {
        "id": "Ak0NwtExnJ0e"
      }
    }
  ],
  "metadata": {
    "kernelspec": {
      "display_name": "Python 3",
      "language": "python",
      "name": "python3"
    },
    "language_info": {
      "codemirror_mode": {
        "name": "ipython",
        "version": 3
      },
      "file_extension": ".py",
      "mimetype": "text/x-python",
      "name": "python",
      "nbconvert_exporter": "python",
      "pygments_lexer": "ipython3",
      "version": "3.11.5"
    },
    "colab": {
      "provenance": [],
      "include_colab_link": true
    }
  },
  "nbformat": 4,
  "nbformat_minor": 0
}