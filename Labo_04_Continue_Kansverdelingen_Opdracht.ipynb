{
  "cells": [
    {
      "cell_type": "markdown",
      "metadata": {
        "id": "view-in-github",
        "colab_type": "text"
      },
      "source": [
        "<a href=\"https://colab.research.google.com/github/pascal-maker/Python/blob/master/Labo_04_Continue_Kansverdelingen_Opdracht.ipynb\" target=\"_parent\"><img src=\"https://colab.research.google.com/assets/colab-badge.svg\" alt=\"Open In Colab\"/></a>"
      ]
    },
    {
      "cell_type": "markdown",
      "metadata": {
        "id": "PIjXGRDybEPm"
      },
      "source": [
        "# Labo 04 - Continue Kansverdelingen - Opdracht\n",
        "\n",
        "Reken met kansen en kansverdelingen wordt toegepast in alle domeinen van ons leven, gaande van het uitrekenen van risico’s, het voorspellen van het weer, inschatten van de impact van een reclamecampagne op de omzetcijfers van een bedrijf, modelleren van de verspreiding van een (computer) virus, etc.\n",
        "\n",
        "De normaalverdeling is de meest gekende en gebruikte kansverdeling in de statistiek. Het is een continue klokvormige kansverdeling die symmetrisch verloopt rond het gemiddelde . Ze is hoog in het midden, en wordt naar lage en hoge waarden steeds kleiner zonder ooit echt nul te worden.\n",
        "De bedoeling van deze opdracht is om vlot overweg te kunnen met deze kansverdelingen bij het uitrekenen van kansen en het kunnen bepalen van de verwachte waarden van kansverdelingen.\n",
        "\n",
        "## Inhoud\n",
        "    • Kunnen nagaan of een reeks gegevens al dan niet normaal verdeeld zijn.\n",
        "    • Rekenen met en interpreteren van de normaalverdeling.\n",
        "    • Kunnen uitrekenen van kansen bij normaalverdeelde data\n",
        "    "
      ]
    },
    {
      "cell_type": "code",
      "execution_count": 3,
      "metadata": {
        "id": "4HntgclTbEPn"
      },
      "outputs": [],
      "source": [
        "%matplotlib inline\n",
        "import matplotlib.pyplot as plt\n",
        "import pandas as pd\n",
        "import numpy as np\n",
        "import seaborn as sns\n",
        "from scipy import stats"
      ]
    },
    {
      "cell_type": "markdown",
      "metadata": {
        "id": "MzoyqsDZbEPo"
      },
      "source": [
        "## Vraag 1\n",
        "Bereken onderstaande kansen met behulp van Python."
      ]
    },
    {
      "cell_type": "code",
      "execution_count": 5,
      "metadata": {
        "colab": {
          "base_uri": "https://localhost:8080/"
        },
        "id": "EJ-HR4xabEPo",
        "outputId": "3fc0a3e9-c387-4756-b810-bc80d047fb89"
      },
      "outputs": [
        {
          "output_type": "stream",
          "name": "stdout",
          "text": [
            "0.05\n"
          ]
        }
      ],
      "source": [
        "# P(Z < -1,67) - standaardnormaalverdeling met gemiddelde 0 en standaardafwijking 1\n",
        "p = stats.norm.cdf(-1.67)\n",
        "print(round(p,2))\n"
      ]
    },
    {
      "cell_type": "code",
      "execution_count": 10,
      "metadata": {
        "colab": {
          "base_uri": "https://localhost:8080/"
        },
        "id": "MOSncS1ubEPo",
        "outputId": "f0c15d9e-75f6-4c6e-c4e9-51c1bf86f6b3"
      },
      "outputs": [
        {
          "output_type": "stream",
          "name": "stdout",
          "text": [
            "0.01\n"
          ]
        }
      ],
      "source": [
        "# P(Z > 2,56 ) - standaardnormaalverdeling met gemiddelde 0 en standaardafwijking 1\n",
        "p = 1 - stats.norm.cdf(2.56)\n",
        "print(round(p,2))"
      ]
    },
    {
      "cell_type": "code",
      "execution_count": 6,
      "metadata": {
        "colab": {
          "base_uri": "https://localhost:8080/"
        },
        "id": "1eFzo90MbEPo",
        "outputId": "05df5232-1f65-4e71-eefd-8e80409238cd"
      },
      "outputs": [
        {
          "output_type": "stream",
          "name": "stdout",
          "text": [
            "0.08\n"
          ]
        }
      ],
      "source": [
        "# P(1,34 < Z < 2,34) - standaardnormaalverdeling met gemiddelde 0 en standaardafwijking 1\n",
        "p = stats.norm.cdf(2.34) - stats.norm.cdf(1.34)\n",
        "print(round(p,2))\n",
        "\n"
      ]
    },
    {
      "cell_type": "code",
      "execution_count": 7,
      "metadata": {
        "colab": {
          "base_uri": "https://localhost:8080/"
        },
        "id": "EsK117qkbEPp",
        "outputId": "f425ac73-2865-40ab-fd9a-4d15774525b3"
      },
      "outputs": [
        {
          "output_type": "stream",
          "name": "stdout",
          "text": [
            "0.98\n"
          ]
        }
      ],
      "source": [
        "# X~N(50;5)   P(X<60) -normaalverdeling met gemiddelde 50 en standaardafwijking 5\n",
        "p = stats.norm.cdf(60,50,5)\n",
        "print(round(p,2))\n"
      ]
    },
    {
      "cell_type": "code",
      "execution_count": 8,
      "metadata": {
        "colab": {
          "base_uri": "https://localhost:8080/"
        },
        "id": "xNYQ2DU8bEPp",
        "outputId": "b478cbcd-d84d-41f2-c58f-be615b6beab9"
      },
      "outputs": [
        {
          "output_type": "stream",
          "name": "stdout",
          "text": [
            "0.99\n"
          ]
        }
      ],
      "source": [
        "# X~N(5;1)   P(X > 2,5) -normaalverdeling met gemiddelde 5 en standaardafwijking 1\n",
        "p  = 1 - stats.norm.cdf(2.5,5,1)\n",
        "print(round(p,2))\n"
      ]
    },
    {
      "cell_type": "code",
      "execution_count": 9,
      "metadata": {
        "colab": {
          "base_uri": "https://localhost:8080/"
        },
        "id": "0ma6VxZAbEPp",
        "outputId": "25c0fdde-0fe3-496b-dc31-a000d74d8448"
      },
      "outputs": [
        {
          "output_type": "stream",
          "name": "stdout",
          "text": [
            "0.68\n"
          ]
        }
      ],
      "source": [
        "# X~N(120;6)   P(114 < X < 126) - normaalverdeling met gemiddelde 120 en standaardafwijking 6\n",
        "p = stats.norm.cdf(126,120,6) - stats.norm.cdf(114,120,6)\n",
        "print(round(p,2))"
      ]
    },
    {
      "cell_type": "markdown",
      "metadata": {
        "id": "RK_c2-OObEPq"
      },
      "source": [
        "## Vraag 2\n",
        "\n",
        "De batterij van de fitbit charge 2 heeft een MTTF (Mean Time To Failure = gemiddelde levensduur) van een bepaald type omvormer bedraagt 24 maanden een standaardafwijking van 6 maanden.\n",
        "De garantieperiode op een fitbit charge 2 is 1 jaar (12 maanden).\n"
      ]
    },
    {
      "cell_type": "markdown",
      "metadata": {
        "id": "K68JRloJbEPq"
      },
      "source": [
        "a. Wat is de kans dat een fitbit binnen de garantieperiode stuk gaat?"
      ]
    },
    {
      "cell_type": "code",
      "execution_count": 12,
      "metadata": {
        "colab": {
          "base_uri": "https://localhost:8080/"
        },
        "id": "RValqzaebEPq",
        "outputId": "32ff24d0-7cad-428d-bfe1-3e0ae534f82f"
      },
      "outputs": [
        {
          "output_type": "stream",
          "name": "stdout",
          "text": [
            "De kans dat een Fitbit binnen de garantieperiode kapot gaat, is: 2.28%\n"
          ]
        }
      ],
      "source": [
        "p = stats.norm.cdf(12,24,6)\n",
        "print(f\"De kans dat een Fitbit binnen de garantieperiode kapot gaat, is: {p*100:.2f}%\")"
      ]
    },
    {
      "cell_type": "markdown",
      "metadata": {
        "id": "nBOCr9KybEPq"
      },
      "source": [
        "b. Stel dat na 2,5 jaar een koper beslist om de fitbit charge 3 te kopen, wat is de kans dat de fitbit charge 2 niet binnen deze periode kapot gaat?\n",
        "    "
      ]
    },
    {
      "cell_type": "code",
      "execution_count": 15,
      "metadata": {
        "colab": {
          "base_uri": "https://localhost:8080/"
        },
        "id": "dvszokCwbEPq",
        "outputId": "ad96a843-f568-4d8c-b164-655e0a2031bc"
      },
      "outputs": [
        {
          "output_type": "stream",
          "name": "stdout",
          "text": [
            "De kans dat een Fitbit niet kapot gaat binnen een periode van 2,5 jaar is: 15.87%\n"
          ]
        }
      ],
      "source": [
        "p = stats.norm.sf(30,24,6)\n",
        "print(f\"De kans dat een Fitbit niet kapot gaat binnen een periode van 2,5 jaar is: {p*100:.2f}%\")"
      ]
    },
    {
      "cell_type": "markdown",
      "source": [
        "📘 Wat doen cdf en sf?\n",
        "cdf(x, loc, scale) = cumulatieve kans dat de waarde kleiner dan of gelijk aan x is →\n",
        "\n",
        "𝑃\n",
        "(\n",
        "𝑋\n",
        "≤\n",
        "𝑥\n",
        ")\n",
        "P(X≤x)\n",
        "sf(x, loc, scale) = survival functie =\n",
        "1\n",
        "−\n",
        "cdf\n",
        "(\n",
        "𝑥\n",
        ")\n",
        "1−cdf(x) = kans dat X groter is dan x →\n",
        "\n",
        "𝑃\n",
        "(\n",
        "𝑋\n",
        ">\n",
        "𝑥\n",
        ")\n",
        "P(X>x)\n",
        "✅ In jouw geval:\n",
        "Je vraagt:\n",
        "\n",
        "Wat is de kans dat een Fitbit langer meegaat dan 30 maanden?\n",
        "Dat is:\n",
        "\n",
        "𝑃\n",
        "(\n",
        "𝑋\n",
        ">\n",
        "30\n",
        ")\n",
        ",\n",
        "waar\n",
        "𝑋\n",
        "∼\n",
        "𝑁\n",
        "(\n",
        "24\n",
        ",\n",
        "6\n",
        ")\n",
        "P(X>30),waar X∼N(24,6)\n",
        "Juiste keuze:\n",
        "python\n",
        "Copy\n",
        "Edit\n",
        "stats.norm.sf(30, 24, 6)\n",
        "Je gebruikt dus terecht sf, omdat je zoekt naar:\n",
        "\n",
        "Kans dat X groter is dan 30"
      ],
      "metadata": {
        "id": "lYvMnE6ASKcP"
      }
    },
    {
      "cell_type": "markdown",
      "metadata": {
        "id": "U9M87q71bEPq"
      },
      "source": [
        "c. Wat is de kans dat de fitbit charge 2 kapot gaat tussen de 1 jaar en de 2,5 jaar en je dus niet op de garantie kunt terugvallen?"
      ]
    },
    {
      "cell_type": "code",
      "execution_count": 16,
      "metadata": {
        "colab": {
          "base_uri": "https://localhost:8080/"
        },
        "id": "M-wyNKCTbEPq",
        "outputId": "adc6a001-820d-4299-f188-2b0a0a81439d"
      },
      "outputs": [
        {
          "output_type": "stream",
          "name": "stdout",
          "text": [
            "De kans dat een Fitbit kapot gaat tussen 1 jaar en 2,5 jaar is: 81.86%\n"
          ]
        }
      ],
      "source": [
        "p = stats.norm.cdf(30,24,6) - stats.norm.cdf(12,24,6)\n",
        "\n",
        "print(f\"De kans dat een Fitbit kapot gaat tussen 1 jaar en 2,5 jaar is: {p*100:.2f}%\")\n",
        "\n"
      ]
    },
    {
      "cell_type": "markdown",
      "metadata": {
        "id": "cnpBPnolbEPq"
      },
      "source": [
        "d. Na hoeveel maand moet je de batterij vervangen om ervoor te zorgen dat je minder dan 10% kans hebt dat je met een kapotte fitbit komt te zitten?"
      ]
    },
    {
      "cell_type": "code",
      "execution_count": 19,
      "metadata": {
        "colab": {
          "base_uri": "https://localhost:8080/"
        },
        "id": "PL72BR-MbEPq",
        "outputId": "2c14a5ee-2ada-42a2-90f1-53ff678b2747"
      },
      "outputs": [
        {
          "output_type": "stream",
          "name": "stdout",
          "text": [
            "Na 16.31 maanden moet je de batterij vervangen om ervoor te zorgen dat je minder dan 10% kans hebt dat je met een kapotte fitbit komt te zitten\n"
          ]
        }
      ],
      "source": [
        "p = stats.norm.ppf(0.1,24,6)\n",
        "print(f\"Na {round(p,2)} maanden moet je de batterij vervangen om ervoor te zorgen dat je minder dan 10% kans hebt dat je met een kapotte fitbit komt te zitten\")\n"
      ]
    },
    {
      "cell_type": "markdown",
      "source": [
        "Waarom hier ppf gebruiken?\n",
        "Je wil weten:\n",
        "\n",
        "\"Na hoeveel maanden is al 10% van de batterijen stuk?\"\n",
        "\n",
        "Dat is dus de waarde waarbij 10% van de verdeling aan de linkerkant zit\n",
        "→ En dat is precies wat ppf(0.1) doet.\n",
        "\n",
        "Simpele uitleg:\n",
        "Je zegt eigenlijk:\n",
        "🕒 “Ik wil een moment kiezen zodat slechts 10% van de batterijen vóór die tijd stuk is.”\n",
        "\n",
        "Dat moment vind je met ppf(0.1).\n",
        "\n",
        "Als je isf(0.1) zou gebruiken, zou je juist vragen:\n",
        "🕒 “Na hoeveel maanden is 90% nog oké?”\n",
        "→ Komt op hetzelfde neer, maar je formuleert het andersom. Wat wil je weten?\tGebruik je:\n",
        "Ondergrens: kans dat iets al kapot is\tppf(prob)\n",
        "Bovengrens: kans dat iets nog goed is\tisf(prob)"
      ],
      "metadata": {
        "id": "Kz7asaP62_5D"
      }
    },
    {
      "cell_type": "markdown",
      "source": [],
      "metadata": {
        "id": "l5bVqGKP3EoR"
      }
    },
    {
      "cell_type": "markdown",
      "metadata": {
        "id": "57Zf0SIAbEPq"
      },
      "source": [
        "## Vraag 3\n",
        "\n",
        "Aan een toelatingsexamen nemen 300 kandidaten deel voor 50 plaatsen. De uitslag is normaal verdeeld. De gemiddelde uitslag bedraagt 65% en de standaardafwijking is 10%."
      ]
    },
    {
      "cell_type": "markdown",
      "metadata": {
        "id": "nl4G1kvwbEPq"
      },
      "source": [
        "a. Welk percentage is vereist om aangenomen te worden indien men de 50 besten aanwerft ?"
      ]
    },
    {
      "cell_type": "code",
      "execution_count": 21,
      "metadata": {
        "colab": {
          "base_uri": "https://localhost:8080/"
        },
        "id": "9WmeQUU4bEPq",
        "outputId": "f7f1cd0a-518c-4406-a7c2-bfde3d527e07"
      },
      "outputs": [
        {
          "output_type": "stream",
          "name": "stdout",
          "text": [
            "Vereiste score: 74.67\n"
          ]
        }
      ],
      "source": [
        "p = stats.norm.isf(50/300,65,10)\n",
        "print(f\"Vereiste score: {p:.2f}\")"
      ]
    },
    {
      "cell_type": "markdown",
      "metadata": {
        "id": "9cBKD7BObEPr"
      },
      "source": [
        "b. Ann haalt 58 en Joachim 75. Hoeveel kandidaten komen er in de rangschikking tussen Ann en Joachim?"
      ]
    },
    {
      "cell_type": "markdown",
      "source": [
        "\n",
        "```\n",
        "je moet 50/300 gebruiken om het hier over 50 plaatsen op de 300 gaan. achteraf * 300 omdat het hierover 300 mensen gaan.\n"
      ],
      "metadata": {
        "id": "W1aMamupyHab"
      }
    },
    {
      "cell_type": "code",
      "execution_count": 24,
      "metadata": {
        "colab": {
          "base_uri": "https://localhost:8080/"
        },
        "id": "ZYBsQZt1bEPr",
        "outputId": "16b62fc0-bf8a-40ea-8ec5-0c81010ed1ae"
      },
      "outputs": [
        {
          "output_type": "stream",
          "name": "stdout",
          "text": [
            "180.0 zoveel kandidaten komen tussen ann en joachim\n"
          ]
        }
      ],
      "source": [
        "rangschikking = stats.norm.cdf(75,65,10) - stats.norm.cdf(58,65,10)\n",
        "hoeveelmensen = rangschikking * 300\n",
        "print(f\"{round(hoeveelmensen,0)} zoveel kandidaten komen tussen ann en joachim\")"
      ]
    },
    {
      "cell_type": "markdown",
      "metadata": {
        "id": "wkkVRZvCbEPr"
      },
      "source": [
        "## Vraag 4\n",
        "\n",
        "De BMI is een index die de verhouding tussen lengte en gewicht bij een persoon weergeeft. De BMI wordt veel gebruikt om een indicatie te krijgen of er sprake is van overgewicht of ondergewicht.\n",
        "Om de BMI van een persoon te berekenen deel je zijn/haar gewicht door het kwadraat van de lengte. Het gewicht wordt daarbij uitgedrukt in kilogram, de lengte in meter.\n",
        "Weegt een persoon bijvoorbeeld 67kg en meet deze persoon 172cm, dan is de BMI gelijk aan:\n",
        "$\\frac{67}{1,72^2}=22,65$\n",
        "\n",
        "Alhoewel de BMI niet altijd even betrouwbaar is hanteert men volgende tabel om de BMI te interpreteren.\n",
        "\n",
        "| BMI | Interpretatie |\n",
        "   ----------------  |  -------------\n",
        "| 18,5 tot en met 25 | Normaal gewicht |\n",
        "| 25 tot en met 27 | Licht overgewicht |\n",
        "| 27 tot en met 30 | Matig overgewicht |\n",
        "| 30 tot en met 40 | Ernstig overgewicht |\n",
        "| Meer dan 40      | Ziekelijk overgewicht\n",
        "\n",
        "Het bestand BMI.csv bevat lengtes en gewichten van personen die tijdens een steekproef werden opgemeten.\n",
        "\n",
        "a. Teken een histogram van alle BMI waarden en ga na of deze normaal verdeeld zijn. Bepaal daarvoor het gemiddelde en de standaardafwijking. Teken nu bovenop het histogram de theoretische normaalverdeling die overeen komt met het bekomen gemiddelde en de standaardafwijking. Ga ook na of ongeveer 68% van de BMI waarden binnen 1 standaardafwijking van het gemiddelde liggen en ongeveer 95 procent van de BMI waarden binnen de 2 standaardafwijkingen van het gemiddelde.\n",
        "    \n",
        "b. Herhaal het gevraagde onder vraag b, maar splits op in mannen en vrouwen. Op deze manier kunnen we straks per geslacht aparte conclusies trekken.\n",
        "    \n",
        "c. Is er een groot verschil tussen de distributie van het BMI van mannen en deze van vrouwen?\n",
        "\n",
        "d. Hoeveel procent van demannen in de dataset heeft minstens ernstig overgewicht en hoeveel procent vrouwen in de dataset?\n",
        "\n",
        "e. Hoeveel procent van de populatie (niet de steekproef) mannen heeft minstens te maken met een ernstig overgewicht? En hoeveel procent van de vrouwen?\n",
        "    \n",
        "f. Hoeveel procent van de populatie (niet de steekproef) mannen heeft een ondergewicht? En hoeveel procent van de vrouwen? Veronderstel dat de steekproef representatief is voor de populatie.\n",
        "    \n",
        "g. Ga na of er uitschieters in de dataset aanwezig zijn. Uitschieters kan je hier beschouwen als de BMI gewichten die meer dan 3 standaardafwijkingen van het gemiddelde liggen."
      ]
    },
    {
      "cell_type": "code",
      "execution_count": 5,
      "metadata": {
        "colab": {
          "base_uri": "https://localhost:8080/",
          "height": 206
        },
        "id": "K6MWlm7-bEPr",
        "outputId": "3893fd0c-c727-4783-b2f7-d08ea8bd5320"
      },
      "outputs": [
        {
          "output_type": "execute_result",
          "data": {
            "text/plain": [
              "      Sex  Age   BMI  Height_m  Weight_kg\n",
              "0  Female   21  24.2  1.670812  67.652988\n",
              "1  Female   35  24.8  1.816608  81.723660\n",
              "2  Female   27  29.5  1.762760  91.627019\n",
              "3    Male   24  28.4  1.732788  85.226360\n",
              "4  Female   18  29.1  1.721866  86.399914"
            ],
            "text/html": [
              "\n",
              "  <div id=\"df-22ae4d7a-b1db-4e36-b788-281c2272b926\" class=\"colab-df-container\">\n",
              "    <div>\n",
              "<style scoped>\n",
              "    .dataframe tbody tr th:only-of-type {\n",
              "        vertical-align: middle;\n",
              "    }\n",
              "\n",
              "    .dataframe tbody tr th {\n",
              "        vertical-align: top;\n",
              "    }\n",
              "\n",
              "    .dataframe thead th {\n",
              "        text-align: right;\n",
              "    }\n",
              "</style>\n",
              "<table border=\"1\" class=\"dataframe\">\n",
              "  <thead>\n",
              "    <tr style=\"text-align: right;\">\n",
              "      <th></th>\n",
              "      <th>Sex</th>\n",
              "      <th>Age</th>\n",
              "      <th>BMI</th>\n",
              "      <th>Height_m</th>\n",
              "      <th>Weight_kg</th>\n",
              "    </tr>\n",
              "  </thead>\n",
              "  <tbody>\n",
              "    <tr>\n",
              "      <th>0</th>\n",
              "      <td>Female</td>\n",
              "      <td>21</td>\n",
              "      <td>24.2</td>\n",
              "      <td>1.670812</td>\n",
              "      <td>67.652988</td>\n",
              "    </tr>\n",
              "    <tr>\n",
              "      <th>1</th>\n",
              "      <td>Female</td>\n",
              "      <td>35</td>\n",
              "      <td>24.8</td>\n",
              "      <td>1.816608</td>\n",
              "      <td>81.723660</td>\n",
              "    </tr>\n",
              "    <tr>\n",
              "      <th>2</th>\n",
              "      <td>Female</td>\n",
              "      <td>27</td>\n",
              "      <td>29.5</td>\n",
              "      <td>1.762760</td>\n",
              "      <td>91.627019</td>\n",
              "    </tr>\n",
              "    <tr>\n",
              "      <th>3</th>\n",
              "      <td>Male</td>\n",
              "      <td>24</td>\n",
              "      <td>28.4</td>\n",
              "      <td>1.732788</td>\n",
              "      <td>85.226360</td>\n",
              "    </tr>\n",
              "    <tr>\n",
              "      <th>4</th>\n",
              "      <td>Female</td>\n",
              "      <td>18</td>\n",
              "      <td>29.1</td>\n",
              "      <td>1.721866</td>\n",
              "      <td>86.399914</td>\n",
              "    </tr>\n",
              "  </tbody>\n",
              "</table>\n",
              "</div>\n",
              "    <div class=\"colab-df-buttons\">\n",
              "\n",
              "  <div class=\"colab-df-container\">\n",
              "    <button class=\"colab-df-convert\" onclick=\"convertToInteractive('df-22ae4d7a-b1db-4e36-b788-281c2272b926')\"\n",
              "            title=\"Convert this dataframe to an interactive table.\"\n",
              "            style=\"display:none;\">\n",
              "\n",
              "  <svg xmlns=\"http://www.w3.org/2000/svg\" height=\"24px\" viewBox=\"0 -960 960 960\">\n",
              "    <path d=\"M120-120v-720h720v720H120Zm60-500h600v-160H180v160Zm220 220h160v-160H400v160Zm0 220h160v-160H400v160ZM180-400h160v-160H180v160Zm440 0h160v-160H620v160ZM180-180h160v-160H180v160Zm440 0h160v-160H620v160Z\"/>\n",
              "  </svg>\n",
              "    </button>\n",
              "\n",
              "  <style>\n",
              "    .colab-df-container {\n",
              "      display:flex;\n",
              "      gap: 12px;\n",
              "    }\n",
              "\n",
              "    .colab-df-convert {\n",
              "      background-color: #E8F0FE;\n",
              "      border: none;\n",
              "      border-radius: 50%;\n",
              "      cursor: pointer;\n",
              "      display: none;\n",
              "      fill: #1967D2;\n",
              "      height: 32px;\n",
              "      padding: 0 0 0 0;\n",
              "      width: 32px;\n",
              "    }\n",
              "\n",
              "    .colab-df-convert:hover {\n",
              "      background-color: #E2EBFA;\n",
              "      box-shadow: 0px 1px 2px rgba(60, 64, 67, 0.3), 0px 1px 3px 1px rgba(60, 64, 67, 0.15);\n",
              "      fill: #174EA6;\n",
              "    }\n",
              "\n",
              "    .colab-df-buttons div {\n",
              "      margin-bottom: 4px;\n",
              "    }\n",
              "\n",
              "    [theme=dark] .colab-df-convert {\n",
              "      background-color: #3B4455;\n",
              "      fill: #D2E3FC;\n",
              "    }\n",
              "\n",
              "    [theme=dark] .colab-df-convert:hover {\n",
              "      background-color: #434B5C;\n",
              "      box-shadow: 0px 1px 3px 1px rgba(0, 0, 0, 0.15);\n",
              "      filter: drop-shadow(0px 1px 2px rgba(0, 0, 0, 0.3));\n",
              "      fill: #FFFFFF;\n",
              "    }\n",
              "  </style>\n",
              "\n",
              "    <script>\n",
              "      const buttonEl =\n",
              "        document.querySelector('#df-22ae4d7a-b1db-4e36-b788-281c2272b926 button.colab-df-convert');\n",
              "      buttonEl.style.display =\n",
              "        google.colab.kernel.accessAllowed ? 'block' : 'none';\n",
              "\n",
              "      async function convertToInteractive(key) {\n",
              "        const element = document.querySelector('#df-22ae4d7a-b1db-4e36-b788-281c2272b926');\n",
              "        const dataTable =\n",
              "          await google.colab.kernel.invokeFunction('convertToInteractive',\n",
              "                                                    [key], {});\n",
              "        if (!dataTable) return;\n",
              "\n",
              "        const docLinkHtml = 'Like what you see? Visit the ' +\n",
              "          '<a target=\"_blank\" href=https://colab.research.google.com/notebooks/data_table.ipynb>data table notebook</a>'\n",
              "          + ' to learn more about interactive tables.';\n",
              "        element.innerHTML = '';\n",
              "        dataTable['output_type'] = 'display_data';\n",
              "        await google.colab.output.renderOutput(dataTable, element);\n",
              "        const docLink = document.createElement('div');\n",
              "        docLink.innerHTML = docLinkHtml;\n",
              "        element.appendChild(docLink);\n",
              "      }\n",
              "    </script>\n",
              "  </div>\n",
              "\n",
              "\n",
              "    <div id=\"df-7f03b08b-4043-4de8-995d-0ef37568d606\">\n",
              "      <button class=\"colab-df-quickchart\" onclick=\"quickchart('df-7f03b08b-4043-4de8-995d-0ef37568d606')\"\n",
              "                title=\"Suggest charts\"\n",
              "                style=\"display:none;\">\n",
              "\n",
              "<svg xmlns=\"http://www.w3.org/2000/svg\" height=\"24px\"viewBox=\"0 0 24 24\"\n",
              "     width=\"24px\">\n",
              "    <g>\n",
              "        <path d=\"M19 3H5c-1.1 0-2 .9-2 2v14c0 1.1.9 2 2 2h14c1.1 0 2-.9 2-2V5c0-1.1-.9-2-2-2zM9 17H7v-7h2v7zm4 0h-2V7h2v10zm4 0h-2v-4h2v4z\"/>\n",
              "    </g>\n",
              "</svg>\n",
              "      </button>\n",
              "\n",
              "<style>\n",
              "  .colab-df-quickchart {\n",
              "      --bg-color: #E8F0FE;\n",
              "      --fill-color: #1967D2;\n",
              "      --hover-bg-color: #E2EBFA;\n",
              "      --hover-fill-color: #174EA6;\n",
              "      --disabled-fill-color: #AAA;\n",
              "      --disabled-bg-color: #DDD;\n",
              "  }\n",
              "\n",
              "  [theme=dark] .colab-df-quickchart {\n",
              "      --bg-color: #3B4455;\n",
              "      --fill-color: #D2E3FC;\n",
              "      --hover-bg-color: #434B5C;\n",
              "      --hover-fill-color: #FFFFFF;\n",
              "      --disabled-bg-color: #3B4455;\n",
              "      --disabled-fill-color: #666;\n",
              "  }\n",
              "\n",
              "  .colab-df-quickchart {\n",
              "    background-color: var(--bg-color);\n",
              "    border: none;\n",
              "    border-radius: 50%;\n",
              "    cursor: pointer;\n",
              "    display: none;\n",
              "    fill: var(--fill-color);\n",
              "    height: 32px;\n",
              "    padding: 0;\n",
              "    width: 32px;\n",
              "  }\n",
              "\n",
              "  .colab-df-quickchart:hover {\n",
              "    background-color: var(--hover-bg-color);\n",
              "    box-shadow: 0 1px 2px rgba(60, 64, 67, 0.3), 0 1px 3px 1px rgba(60, 64, 67, 0.15);\n",
              "    fill: var(--button-hover-fill-color);\n",
              "  }\n",
              "\n",
              "  .colab-df-quickchart-complete:disabled,\n",
              "  .colab-df-quickchart-complete:disabled:hover {\n",
              "    background-color: var(--disabled-bg-color);\n",
              "    fill: var(--disabled-fill-color);\n",
              "    box-shadow: none;\n",
              "  }\n",
              "\n",
              "  .colab-df-spinner {\n",
              "    border: 2px solid var(--fill-color);\n",
              "    border-color: transparent;\n",
              "    border-bottom-color: var(--fill-color);\n",
              "    animation:\n",
              "      spin 1s steps(1) infinite;\n",
              "  }\n",
              "\n",
              "  @keyframes spin {\n",
              "    0% {\n",
              "      border-color: transparent;\n",
              "      border-bottom-color: var(--fill-color);\n",
              "      border-left-color: var(--fill-color);\n",
              "    }\n",
              "    20% {\n",
              "      border-color: transparent;\n",
              "      border-left-color: var(--fill-color);\n",
              "      border-top-color: var(--fill-color);\n",
              "    }\n",
              "    30% {\n",
              "      border-color: transparent;\n",
              "      border-left-color: var(--fill-color);\n",
              "      border-top-color: var(--fill-color);\n",
              "      border-right-color: var(--fill-color);\n",
              "    }\n",
              "    40% {\n",
              "      border-color: transparent;\n",
              "      border-right-color: var(--fill-color);\n",
              "      border-top-color: var(--fill-color);\n",
              "    }\n",
              "    60% {\n",
              "      border-color: transparent;\n",
              "      border-right-color: var(--fill-color);\n",
              "    }\n",
              "    80% {\n",
              "      border-color: transparent;\n",
              "      border-right-color: var(--fill-color);\n",
              "      border-bottom-color: var(--fill-color);\n",
              "    }\n",
              "    90% {\n",
              "      border-color: transparent;\n",
              "      border-bottom-color: var(--fill-color);\n",
              "    }\n",
              "  }\n",
              "</style>\n",
              "\n",
              "      <script>\n",
              "        async function quickchart(key) {\n",
              "          const quickchartButtonEl =\n",
              "            document.querySelector('#' + key + ' button');\n",
              "          quickchartButtonEl.disabled = true;  // To prevent multiple clicks.\n",
              "          quickchartButtonEl.classList.add('colab-df-spinner');\n",
              "          try {\n",
              "            const charts = await google.colab.kernel.invokeFunction(\n",
              "                'suggestCharts', [key], {});\n",
              "          } catch (error) {\n",
              "            console.error('Error during call to suggestCharts:', error);\n",
              "          }\n",
              "          quickchartButtonEl.classList.remove('colab-df-spinner');\n",
              "          quickchartButtonEl.classList.add('colab-df-quickchart-complete');\n",
              "        }\n",
              "        (() => {\n",
              "          let quickchartButtonEl =\n",
              "            document.querySelector('#df-7f03b08b-4043-4de8-995d-0ef37568d606 button');\n",
              "          quickchartButtonEl.style.display =\n",
              "            google.colab.kernel.accessAllowed ? 'block' : 'none';\n",
              "        })();\n",
              "      </script>\n",
              "    </div>\n",
              "\n",
              "    </div>\n",
              "  </div>\n"
            ],
            "application/vnd.google.colaboratory.intrinsic+json": {
              "type": "dataframe",
              "variable_name": "dataset",
              "summary": "{\n  \"name\": \"dataset\",\n  \"rows\": 997,\n  \"fields\": [\n    {\n      \"column\": \"Sex\",\n      \"properties\": {\n        \"dtype\": \"category\",\n        \"num_unique_values\": 2,\n        \"samples\": [\n          \"Male\",\n          \"Female\"\n        ],\n        \"semantic_type\": \"\",\n        \"description\": \"\"\n      }\n    },\n    {\n      \"column\": \"Age\",\n      \"properties\": {\n        \"dtype\": \"number\",\n        \"std\": 5,\n        \"min\": 18,\n        \"max\": 35,\n        \"num_unique_values\": 18,\n        \"samples\": [\n          21,\n          35\n        ],\n        \"semantic_type\": \"\",\n        \"description\": \"\"\n      }\n    },\n    {\n      \"column\": \"BMI\",\n      \"properties\": {\n        \"dtype\": \"number\",\n        \"std\": 2.0816538133898317,\n        \"min\": 18.0,\n        \"max\": 32.0,\n        \"num_unique_values\": 109,\n        \"samples\": [\n          20.9,\n          25.0\n        ],\n        \"semantic_type\": \"\",\n        \"description\": \"\"\n      }\n    },\n    {\n      \"column\": \"Height_m\",\n      \"properties\": {\n        \"dtype\": \"number\",\n        \"std\": 0.04920856039406257,\n        \"min\": 1.575308,\n        \"max\": 1.87706,\n        \"num_unique_values\": 547,\n        \"samples\": [\n          1.718818,\n          1.710944\n        ],\n        \"semantic_type\": \"\",\n        \"description\": \"\"\n      }\n    },\n    {\n      \"column\": \"Weight_kg\",\n      \"properties\": {\n        \"dtype\": \"number\",\n        \"std\": 7.070337155225637,\n        \"min\": 49.75030368,\n        \"max\": 100.72804896,\n        \"num_unique_values\": 884,\n        \"samples\": [\n          87.22619136,\n          75.42478944\n        ],\n        \"semantic_type\": \"\",\n        \"description\": \"\"\n      }\n    }\n  ]\n}"
            }
          },
          "metadata": {},
          "execution_count": 5
        }
      ],
      "source": [
        "# Inlezen van de dataset\n",
        "dataset = pd.read_csv('/content/bmi_data_bewerkt.csv')\n",
        "dataset.head()"
      ]
    },
    {
      "cell_type": "code",
      "source": [
        "# a. Teken een histogram van alle verkopen en ga na of deze normaal verdeeld zijn.\n",
        "\n",
        "# Plot een histogram van de BMI-waarden en voeg een KDE-kromme toe\n",
        "sns.histplot(dataset['BMI'].values, kde=True, color='#660000')\n",
        "\n",
        "# Bereken het gemiddelde en de standaardafwijking van de BMI-waarden\n",
        "gemiddelde = dataset['BMI'].mean()\n",
        "standaardafwijking = dataset['BMI'].std()\n",
        "\n",
        "print('Gemiddelde:', gemiddelde)\n",
        "print('Standaardafwijking:', standaardafwijking)\n",
        "\n",
        "# Percentage waarden binnen 1 standaardafwijking van het gemiddelde\n",
        "aantal_1_sigma = dataset[(dataset['BMI'] > (gemiddelde - standaardafwijking)) & (dataset['BMI'] < (gemiddelde + standaardafwijking))].BMI.count()\n",
        "print('Percentage binnen 1 standaardafwijking:', aantal_1_sigma / dataset['BMI'].count() * 100, '%')\n",
        "\n",
        "# Percentage waarden binnen 2 standaardafwijkingen van het gemiddelde\n",
        "aantal_2_sigma = dataset[(dataset['BMI'] > (gemiddelde - 2 * standaardafwijking)) & (dataset['BMI'] < (gemiddelde + 2 * standaardafwijking))].BMI.count()\n",
        "print('Percentage binnen 2 standaardafwijkingen:', aantal_2_sigma / dataset['BMI'].count() * 100, '%')\n",
        "\n",
        "# Percentage waarden binnen 3 standaardafwijkingen van het gemiddelde\n",
        "aantal_3_sigma = dataset[(dataset['BMI'] > (gemiddelde - 3 * standaardafwijking)) & (dataset['BMI'] < (gemiddelde + 3 * standaardafwijking))].BMI.count()\n",
        "print('Percentage binnen 3 standaardafwijkingen:', aantal_3_sigma / dataset['BMI'].count() * 100, '%')\n"
      ],
      "metadata": {
        "colab": {
          "base_uri": "https://localhost:8080/",
          "height": 519
        },
        "id": "WERpB2ObrKHU",
        "outputId": "f1726e08-7b7a-4d5b-916b-03910c60b039"
      },
      "execution_count": 6,
      "outputs": [
        {
          "output_type": "stream",
          "name": "stdout",
          "text": [
            "Gemiddelde: 25.543430290872617\n",
            "Standaardafwijking: 2.0816538133898317\n",
            "Percentage binnen 1 standaardafwijking: 67.60280842527582 %\n",
            "Percentage binnen 2 standaardafwijkingen: 96.28886659979939 %\n",
            "Percentage binnen 3 standaardafwijkingen: 99.69909729187563 %\n"
          ]
        },
        {
          "output_type": "display_data",
          "data": {
            "text/plain": [
              "<Figure size 640x480 with 1 Axes>"
            ],
            "image/png": "[encoded data removed]"
          },
          "metadata": {}
        }
      ]
    },
    {
      "cell_type": "markdown",
      "source": [
        "Wat gebeurt hier?\n",
        "dataset[...]\n",
        "→ Dit is een filter. We kiezen alleen de rijen (mensen) waar het BMI binnen bepaalde grenzen valt.\n",
        "\n",
        "dataset['BMI'] > (gemiddelde - standaardafwijking)\n",
        "→ Is de BMI groter dan (gemiddelde min standaardafwijking)?\n",
        "Dit is de ondergrens.\n",
        "\n",
        "dataset['BMI'] < (gemiddelde + standaardafwijking)\n",
        "→ Is de BMI kleiner dan (gemiddelde plus standaardafwijking)?\n",
        "Dit is de bovengrens.\n",
        "\n",
        "&\n",
        "→ We willen dat beide voorwaarden tegelijk waar zijn. Dus: groter dan ondergrens én kleiner dan bovengrens.\n",
        "\n",
        ".BMI.count()\n",
        "→ We tellen hoeveel mensen aan deze voorwaarde voldoen.\n",
        "Dit is het aantal mensen binnen 1 standaardafwijking.dataset['BMI'].count()\n",
        "→ Dit telt alle mensen in de dataset (alle BMI’s).\n",
        "\n",
        "aantal_1_sigma / dataset['BMI'].count()\n",
        "→ Hier delen we:\n",
        "het aantal mensen binnen 1σ gedeeld door het totaal aantal mensen.\n",
        "\n",
        "* 100\n",
        "→ We maken er een percentage van.\n",
        "\n",
        "print(...)\n",
        "→ Drukt de tekst af, zoals:\n",
        "\n",
        "yaml\n",
        "Copy\n",
        "Edit\n"
      ],
      "metadata": {
        "id": "pjqlA7YY08QZ"
      }
    },
    {
      "cell_type": "code",
      "execution_count": 7,
      "metadata": {
        "colab": {
          "base_uri": "https://localhost:8080/",
          "height": 519
        },
        "id": "ZvMFrIf9bEPr",
        "outputId": "a91c26d9-ae6b-493c-e264-b3b9daec29ae"
      },
      "outputs": [
        {
          "output_type": "stream",
          "name": "stdout",
          "text": [
            "Mannen:\n",
            "Percentage binnen 1 standaardafwijking(en): 68.84%\n",
            "Percentage binnen 2 standaardafwijking(en): 95.93%\n",
            "Percentage binnen 3 standaardafwijking(en): 99.39%\n",
            "Vrouwen:\n",
            "Percentage binnen 1 standaardafwijking(en): 66.60%\n",
            "Percentage binnen 2 standaardafwijking(en): 96.25%\n",
            "Percentage binnen 3 standaardafwijking(en): 99.80%\n"
          ]
        },
        {
          "output_type": "display_data",
          "data": {
            "text/plain": [
              "<Figure size 1200x600 with 2 Axes>"
            ],
            "image/png": "[encoded data removed]"
          },
          "metadata": {}
        }
      ],
      "source": [
        "# b. Herhaal het gevraagde onder vraag b, maar splits op in mannen en vrouwen..\n",
        "\n",
        "\n",
        "# Splits de dataset op in mannen en vrouwen\n",
        "dataset_mannen = dataset[dataset['Sex'] == 'Male']\n",
        "dataset_vrouwen = dataset[dataset['Sex'] == 'Female']\n",
        "\n",
        "# Functie om het percentage waarden binnen 1, 2 en 3 standaardafwijkingen te berekenen\n",
        "def print_percentage_binnen_sigma(data):\n",
        "    gemiddelde = data['BMI'].mean()\n",
        "    standaardafwijking = data['BMI'].std()\n",
        "\n",
        "    for sigma in range(1, 4):\n",
        "        aantal_binnen_sigma = data[(data['BMI'] > (gemiddelde - sigma * standaardafwijking)) & (data['BMI'] < (gemiddelde + sigma * standaardafwijking))].shape[0]\n",
        "        percentage_binnen_sigma = (aantal_binnen_sigma / data['BMI'].count()) * 100\n",
        "        print(f'Percentage binnen {sigma} standaardafwijking(en): {percentage_binnen_sigma:.2f}%')\n",
        "\n",
        "# Print de resultaten voor mannen en vrouwen\n",
        "print('Mannen:')\n",
        "print_percentage_binnen_sigma(dataset_mannen)\n",
        "print('Vrouwen:')\n",
        "print_percentage_binnen_sigma(dataset_vrouwen)\n",
        "\n",
        "# Maak twee histogrammen: één voor mannen en één voor vrouwen\n",
        "f, assen = plt.subplots(1, 2, figsize=(12, 6))\n",
        "\n",
        "# Histogram BMI Mannen\n",
        "sns.histplot(dataset_mannen['BMI'].values, kde=True, color='black', ax=assen[0])\n",
        "assen[0].set_title('BMI Mannen')\n",
        "assen[0].set_xlabel('BMI')\n",
        "assen[0].set_ylabel('Dichtheid')\n",
        "\n",
        "# Histogram BMI Vrouwen\n",
        "sns.histplot(dataset_vrouwen['BMI'].values, kde=True, color='purple', ax=assen[1])\n",
        "assen[1].set_title('BMI Vrouwen')\n",
        "assen[1].set_xlabel('BMI')\n",
        "assen[1].set_ylabel('Dichtheid')\n",
        "\n",
        "# Toon de grafieken\n",
        "plt.show()\n"
      ]
    },
    {
      "cell_type": "markdown",
      "source": [
        "Code:\n",
        "python\n",
        "Copy\n",
        "Edit\n",
        "for sigma in range(1, 4):\n",
        "Dit betekent: herhaal de volgende code voor sigma = 1, 2 en 3.\n",
        "\n",
        "Dus je berekent straks het percentage binnen:\n",
        "\n",
        "1 standaardafwijking\n",
        "\n",
        "2 standaardafwijkingen\n",
        "\n",
        "3 standaardafwijkingen\n",
        "\n",
        "python\n",
        "Copy\n",
        "Edit\n",
        "    aantal_binnen_sigma = data[(data['BMI'] > (gemiddelde - sigma * standaardafwijking)) & (data['BMI'] < (gemiddelde + sigma * standaardafwijking))].shape[0]\n",
        "gemiddelde - sigma * standaardafwijking\n",
        "→ Dit is de ondergrens voor dat sigma (bijv. 1, 2 of 3 standaardafwijkingen onder het gemiddelde).\n",
        "\n",
        "gemiddelde + sigma * standaardafwijking\n",
        "→ Dit is de bovengrens.\n",
        "\n",
        "data[(data['BMI'] > ... ) & (data['BMI'] < ... )]\n",
        "→ Dit filtert alleen de rijen waarin de BMI tussen ondergrens en bovengrens ligt.\n",
        "\n",
        ".shape[0]\n",
        "→ Dit telt hoeveel rijen dat zijn = het aantal mensen binnen ±sigma standaardafwijkingen.\n",
        "\n",
        "python\n",
        "Copy\n",
        "Edit\n",
        "    percentage_binnen_sigma = (aantal_binnen_sigma / data['BMI'].count()) * 100\n",
        "Deel het aantal mensen binnen sigma door het totaal aantal mensen, en vermenigvuldig met 100.\n",
        "\n",
        "Zo krijg je het percentage.\n",
        "\n",
        "python\n",
        "Copy\n",
        "Edit\n",
        "    print(f'Percentage binnen {sigma} standaardafwijking(en): {percentage_binnen_sigma:.2f}%')\n",
        ".2f betekent: toon het percentage met 2 cijfers na de komma.\n",
        "\n",
        "Je print iets zoals:\n",
        "\n",
        "scss\n",
        "Copy\n",
        "Edit\n",
        "Percentage binnen 1 standaardafwijking(en): 68.24%\n",
        "Percentage binnen 2 standaardafwijking(en): 95.01%\n",
        "Percentage binnen 3 standaardafwijking(en): 99.73%"
      ],
      "metadata": {
        "id": "GHGHVukp1RUq"
      }
    },
    {
      "cell_type": "code",
      "source": [
        "\n",
        "\n",
        "# Bereken het gemiddelde en de standaardafwijking voor mannen\n",
        "gemiddelde_mannen = dataset[dataset['Sex'] == 'Male']['BMI'].mean()\n",
        "standaardafwijking_mannen = dataset[dataset['Sex'] == 'Male']['BMI'].std()\n",
        "print('Mannen:')\n",
        "print(f\"Gemiddelde BMI: {gemiddelde_mannen:.2f}\")\n",
        "print(f\"Standaardafwijking BMI: {standaardafwijking_mannen:.2f}\")\n",
        "\n",
        "# Bereken het gemiddelde en de standaardafwijking voor vrouwen\n",
        "gemiddelde_vrouwen = dataset[dataset['Sex'] == 'Female']['BMI'].mean()\n",
        "standaardafwijking_vrouwen = dataset[dataset['Sex'] == 'Female']['BMI'].std()\n",
        "print('Vrouwen:')\n",
        "print(f\"Gemiddelde BMI: {gemiddelde_vrouwen:.2f}\")\n",
        "print(f\"Standaardafwijking BMI: {standaardafwijking_vrouwen:.2f}\")\n",
        "\n",
        "# Maak twee boxplots: één voor mannen en één voor vrouwen\n",
        "f, assen = plt.subplots(1, 2, figsize=(12, 6))\n",
        "\n",
        "# Boxplot BMI Mannen\n",
        "sns.boxplot(y=dataset_mannen['BMI'], whis=1.5, ax=assen[0], color='green')\n",
        "assen[0].set_title('BMI Mannen')\n",
        "assen[0].set(ylim=(15, 40))\n",
        "\n",
        "# Boxplot BMI Vrouwen\n",
        "sns.boxplot(y=dataset_vrouwen['BMI'], whis=1.5, ax=assen[1], color='salmon')\n",
        "assen[1].set_title('BMI Vrouwen')\n",
        "assen[1].set(ylim=(15, 40))\n",
        "\n",
        "# Toon de grafieken\n",
        "plt.show()\n"
      ],
      "metadata": {
        "colab": {
          "base_uri": "https://localhost:8080/",
          "height": 460
        },
        "id": "em2YCX_cwIN2",
        "outputId": "e15d0432-0748-4649-b164-f0a9fed00f35"
      },
      "execution_count": 8,
      "outputs": [
        {
          "output_type": "stream",
          "name": "stdout",
          "text": [
            "Mannen:\n",
            "Gemiddelde BMI: 25.53\n",
            "Standaardafwijking BMI: 2.00\n",
            "Vrouwen:\n",
            "Gemiddelde BMI: 25.56\n",
            "Standaardafwijking BMI: 2.16\n"
          ]
        },
        {
          "output_type": "display_data",
          "data": {
            "text/plain": [
              "<Figure size 1200x600 with 2 Axes>"
            ],
            "image/png": "[encoded data removed]"
          },
          "metadata": {}
        }
      ]
    },
    {
      "cell_type": "code",
      "execution_count": 28,
      "metadata": {
        "id": "dhTUUwDybEPr",
        "colab": {
          "base_uri": "https://localhost:8080/",
          "height": 568
        },
        "outputId": "169f6a4c-a7a0-4d12-9b12-cb4e09bb1e90"
      },
      "outputs": [
        {
          "output_type": "stream",
          "name": "stderr",
          "text": [
            "<ipython-input-28-325eb4ac0f0d>:4: FutureWarning: \n",
            "\n",
            "Passing `palette` without assigning `hue` is deprecated and will be removed in v0.14.0. Assign the `x` variable to `hue` and set `legend=False` for the same effect.\n",
            "\n",
            "  sns.boxplot(x='Sex', y='BMI', data=dataset, palette=['green', 'purple'])\n"
          ]
        },
        {
          "output_type": "display_data",
          "data": {
            "text/plain": [
              "<Figure size 1000x600 with 1 Axes>"
            ],
            "image/png": "[encoded data removed]"
          },
          "metadata": {}
        },
        {
          "output_type": "stream",
          "name": "stdout",
          "text": [
            "T-test: t=-0.19, p-waarde=0.8521\n"
          ]
        }
      ],
      "source": [
        "# c. Is er een groot verschil tussen de distributie van het BMI van mannen en deze van vrouwenen? Verklaar ...\n",
        "# Boxplots voor vergelijking\n",
        "\n"
      ]
    },
    {
      "cell_type": "markdown",
      "source": [
        "er is een klein verschil tussen de twee bmi's"
      ],
      "metadata": {
        "id": "HBrWkaLLwSyn"
      }
    },
    {
      "cell_type": "markdown",
      "source": [
        "neen er is geen groot verschil in de distrubutie van overgewicht tussen mannen en vrouwen het is ongeveer hetzelfde"
      ],
      "metadata": {
        "id": "C1jSj7zeuWbE"
      }
    },
    {
      "cell_type": "code",
      "execution_count": 10,
      "metadata": {
        "colab": {
          "base_uri": "https://localhost:8080/"
        },
        "id": "dIQcDGvobEPr",
        "outputId": "404057b0-da6b-4269-8b22-d6af0301e384"
      },
      "outputs": [
        {
          "output_type": "stream",
          "name": "stdout",
          "text": [
            "Percentage mannen met ten minste ernstig overgewicht: 1.28%\n",
            "Percentage vrouwen met ten minste ernstig overgewicht: 1.97%\n"
          ]
        }
      ],
      "source": [
        "# d. Hoeveel procent van de mannen in de dataset heeft minstens ernstig overgewicht en hoeveel procent vrouwen in de dataset?\n",
        "# Percentage met ernstig overgewicht (BMI ≥ 30)\n",
        "gemiddelde_mannen = dataset_mannen['BMI'].mean()\n",
        "gemiddelde_vrouwen = dataset_vrouwen['BMI'].mean()\n",
        "\n",
        "standaardafwijking_mannen = dataset_mannen['BMI'].std()\n",
        "standaardafwijking_vrouwen = dataset_vrouwen['BMI'].std()\n",
        "\n",
        "# Bereken het percentage mannen met BMI ≥ 30\n",
        "percentage_mannen = stats.norm.sf(30, loc=gemiddelde_mannen, scale=standaardafwijking_mannen) * 100\n",
        "print(f'Percentage mannen met ten minste ernstig overgewicht: {percentage_mannen:.2f}%')\n",
        "\n",
        "# Bereken het percentage vrouwen met BMI ≥ 30\n",
        "percentage_vrouwen = stats.norm.sf(30, loc=gemiddelde_vrouwen, scale=standaardafwijking_vrouwen) * 100\n",
        "print(f'Percentage vrouwen met ten minste ernstig overgewicht: {percentage_vrouwen:.2f}%')"
      ]
    },
    {
      "cell_type": "markdown",
      "source": [
        "at doet deze regel?\n",
        "stats.norm.sf(...)\n",
        "\n",
        "sf staat voor survival function.\n",
        "\n",
        "Dit berekent de kans dat een waarde groter is dan wat je opgeeft.\n",
        "\n",
        "Hier: de kans dat BMI ≥ 30, dus: hoeveel mensen hebben minstens zo'n hoge BMI.\n",
        "\n",
        "30\n",
        "\n",
        "Dat is de grens voor ernstig overgewicht. Alles 30 of hoger telt mee.\n",
        "\n",
        "loc=gemiddelde_mannen\n",
        "\n",
        "Dit is het gemiddelde BMI van de mannen (μ).\n",
        "\n",
        "We nemen aan dat het BMI normaal verdeeld is rond dit gemiddelde.\n",
        "\n",
        "scale=standaardafwijking_mannen\n",
        "\n",
        "Dit is de spreiding van de BMI-waarden (σ).\n",
        "\n",
        "Hoe meer spreiding, hoe meer mensen er ver van het gemiddelde kunnen zitten.\n",
        "\n",
        "* 100\n",
        "\n",
        "We maken van de kans een percentage"
      ],
      "metadata": {
        "id": "EFujAQX51jx7"
      }
    },
    {
      "cell_type": "markdown",
      "source": [
        "we gebruiken cdf wnat het is cumulatief"
      ],
      "metadata": {
        "id": "ia4G_tPZ1nFz"
      }
    },
    {
      "cell_type": "code",
      "execution_count": 9,
      "metadata": {
        "colab": {
          "base_uri": "https://localhost:8080/"
        },
        "id": "UQKRoZU7bEPr",
        "outputId": "96bee8da-3f1a-4d97-f3d0-838ea8f3edc8"
      },
      "outputs": [
        {
          "output_type": "stream",
          "name": "stdout",
          "text": [
            "Aantal mannen met ernstig overgewicht: 7\n",
            "Aantal vrouwen met ernstig overgewicht: 6\n",
            "Percentage mannen met ernstig overgewicht: 1.43%\n",
            "Percentage vrouwen met ernstig overgewicht: 1.19%\n"
          ]
        }
      ],
      "source": [
        "# e. Hoeveel procent van de populatie (niet de steekproef) mannen heeft minstens te maken met\n",
        "# Aantal mannen met ernstig overgewicht (BMI ≥ 30)\n",
        "aantal_mannen_ernstig_overgewicht = dataset_mannen[dataset_mannen['BMI'] >= 30].shape[0]\n",
        "\n",
        "# Aantal vrouwen met ernstig overgewicht (BMI ≥ 30)\n",
        "aantal_vrouwen_ernstig_overgewicht = dataset_vrouwen[dataset_vrouwen['BMI'] >= 30].shape[0]\n",
        "\n",
        "# Percentage mannen met ernstig overgewicht\n",
        "percentage_mannen_ernstig_overgewicht = (aantal_mannen_ernstig_overgewicht / dataset_mannen['BMI'].count()) * 100\n",
        "\n",
        "# Percentage vrouwen met ernstig overgewicht\n",
        "percentage_vrouwen_ernstig_overgewicht = (aantal_vrouwen_ernstig_overgewicht / dataset_vrouwen['BMI'].count()) * 100\n",
        "\n",
        "# Print de resultaten\n",
        "print(f\"Aantal mannen met ernstig overgewicht: {aantal_mannen_ernstig_overgewicht}\")\n",
        "print(f\"Aantal vrouwen met ernstig overgewicht: {aantal_vrouwen_ernstig_overgewicht}\")\n",
        "print(f\"Percentage mannen met ernstig overgewicht: {percentage_mannen_ernstig_overgewicht:.2f}%\")\n",
        "print(f\"Percentage vrouwen met ernstig overgewicht: {percentage_vrouwen_ernstig_overgewicht:.2f}%\")\n"
      ]
    },
    {
      "cell_type": "code",
      "execution_count": 11,
      "metadata": {
        "colab": {
          "base_uri": "https://localhost:8080/"
        },
        "id": "ecBOYxsRbEPr",
        "outputId": "8ba939cf-095e-4f23-d0f0-e6cfb4fd37dc"
      },
      "outputs": [
        {
          "output_type": "stream",
          "name": "stdout",
          "text": [
            "Percentage mannen met ondergewicht: 0.0222%\n",
            "Percentage vrouwen met ondergewicht: 0.0539%\n"
          ]
        }
      ],
      "source": [
        "# f. Hoeveel procent van de populatie (niet de steekproef) mannen heeft een ondergewicht?\n",
        "#    En hoeveel procent van de vrouwen? Veronderstel dat de steekproef representatief is voor de populatie.\n",
        "# Bereken het percentage mannen met ondergewicht (BMI < 18.5)\n",
        "percentage_mannen = stats.norm.cdf(18.5, loc=gemiddelde_mannen, scale=standaardafwijking_mannen) * 100\n",
        "print(f'Percentage mannen met ondergewicht: {percentage_mannen:.4f}%')\n",
        "\n",
        "# Bereken het percentage vrouwen met ondergewicht (BMI < 18.5)\n",
        "percentage_vrouwen = stats.norm.cdf(18.5, loc=gemiddelde_vrouwen, scale=standaardafwijking_vrouwen) * 100\n",
        "print(f'Percentage vrouwen met ondergewicht: {percentage_vrouwen:.4f}%')"
      ]
    },
    {
      "cell_type": "code",
      "source": [],
      "metadata": {
        "id": "597keIRXvK5V"
      },
      "execution_count": null,
      "outputs": []
    },
    {
      "cell_type": "code",
      "execution_count": 12,
      "metadata": {
        "colab": {
          "base_uri": "https://localhost:8080/"
        },
        "id": "6eWQKabubEPr",
        "outputId": "15182789-8dcf-4d92-bd14-0b96f6c96a43"
      },
      "outputs": [
        {
          "output_type": "stream",
          "name": "stdout",
          "text": [
            "Er zijn 3 uitschieters\n"
          ]
        }
      ],
      "source": [
        "# g. Ga na of er uitschieters in de dataset aanwezig zijn.\n",
        "#    Uitschieters kan je hier beschouwen als de BMI gewichten die meer dan 3 standaardafwijkingen\n",
        "#    van het gemiddelde liggen.\n",
        "# Bereken de bovengrens en ondergrens voor uitschieters (meer dan 3 standaardafwijkingen van het gemiddelde)\n",
        "bovengrens = gemiddelde + 3 * standaardafwijking\n",
        "ondergrens = gemiddelde - 3 * standaardafwijking\n",
        "\n",
        "# Selecteer de rijen waar BMI een uitschieter is\n",
        "uitschieters = dataset[(dataset['BMI'] < ondergrens) | (dataset['BMI'] > bovengrens)]\n",
        "\n",
        "# Bekijk de eerste paar uitschieters\n",
        "uitschieters.head()\n",
        "\n",
        "# Tel het aantal uitschieters\n",
        "uitschieters = uitschieters['BMI'].count()\n",
        "\n",
        "# Print het aantal uitschieters\n",
        "print('Er zijn', uitschieters, 'uitschieters')\n"
      ]
    },
    {
      "cell_type": "markdown",
      "metadata": {
        "id": "-31XVXMTbEPs"
      },
      "source": [
        "## Vraag 5\n",
        "Een kledingfabrikant wil een nieuwe riem op de markt brengen. Er is een variant voor Malenen en een variant voor Femaleen. Elke variant komt in smal, medium en large.\n",
        "Elk soort riem is qua lengte als volgt verstelbaar:\n",
        "\n",
        "\n",
        "|      Variant       | Mannen| Vrouwen |\n",
        "|------------|-----|---------------|\n",
        "| Smal |  Van 75 cm tot 87 cm|  Van 73 cm tot 85 cm|\n",
        "| Medium | Van 85 cm tot 100 cm| Van 80 cm tot 95 cm|\n",
        "| Large | Van 97 cm tot 110 cm  | Van 90 cm tot 107 cm|\n",
        "\n",
        "\n",
        "Om een inschatting te kunnen maken van de productieaantallen laat de fabrikant een onderzoek uitvoeren naar de heupomtrek bij Malenen en Femaleen. De gegevens kan je terugvinden onder het bestand 'riemen.csv'.\n"
      ]
    },
    {
      "cell_type": "code",
      "execution_count": 13,
      "metadata": {
        "colab": {
          "base_uri": "https://localhost:8080/",
          "height": 206
        },
        "id": "xyf_xzUAbEPs",
        "outputId": "94072c52-a338-4004-a6b7-e9c8d8530c98"
      },
      "outputs": [
        {
          "output_type": "execute_result",
          "data": {
            "text/plain": [
              "   Heupomtrek Geslacht\n",
              "0        93.5        M\n",
              "1        94.8        M\n",
              "2        95.0        M\n",
              "3        94.0        M\n",
              "4        98.5        M"
            ],
            "text/html": [
              "\n",
              "  <div id=\"df-3abaf4fd-3d35-4a81-87f7-48bad5d0e2ac\" class=\"colab-df-container\">\n",
              "    <div>\n",
              "<style scoped>\n",
              "    .dataframe tbody tr th:only-of-type {\n",
              "        vertical-align: middle;\n",
              "    }\n",
              "\n",
              "    .dataframe tbody tr th {\n",
              "        vertical-align: top;\n",
              "    }\n",
              "\n",
              "    .dataframe thead th {\n",
              "        text-align: right;\n",
              "    }\n",
              "</style>\n",
              "<table border=\"1\" class=\"dataframe\">\n",
              "  <thead>\n",
              "    <tr style=\"text-align: right;\">\n",
              "      <th></th>\n",
              "      <th>Heupomtrek</th>\n",
              "      <th>Geslacht</th>\n",
              "    </tr>\n",
              "  </thead>\n",
              "  <tbody>\n",
              "    <tr>\n",
              "      <th>0</th>\n",
              "      <td>93.5</td>\n",
              "      <td>M</td>\n",
              "    </tr>\n",
              "    <tr>\n",
              "      <th>1</th>\n",
              "      <td>94.8</td>\n",
              "      <td>M</td>\n",
              "    </tr>\n",
              "    <tr>\n",
              "      <th>2</th>\n",
              "      <td>95.0</td>\n",
              "      <td>M</td>\n",
              "    </tr>\n",
              "    <tr>\n",
              "      <th>3</th>\n",
              "      <td>94.0</td>\n",
              "      <td>M</td>\n",
              "    </tr>\n",
              "    <tr>\n",
              "      <th>4</th>\n",
              "      <td>98.5</td>\n",
              "      <td>M</td>\n",
              "    </tr>\n",
              "  </tbody>\n",
              "</table>\n",
              "</div>\n",
              "    <div class=\"colab-df-buttons\">\n",
              "\n",
              "  <div class=\"colab-df-container\">\n",
              "    <button class=\"colab-df-convert\" onclick=\"convertToInteractive('df-3abaf4fd-3d35-4a81-87f7-48bad5d0e2ac')\"\n",
              "            title=\"Convert this dataframe to an interactive table.\"\n",
              "            style=\"display:none;\">\n",
              "\n",
              "  <svg xmlns=\"http://www.w3.org/2000/svg\" height=\"24px\" viewBox=\"0 -960 960 960\">\n",
              "    <path d=\"M120-120v-720h720v720H120Zm60-500h600v-160H180v160Zm220 220h160v-160H400v160Zm0 220h160v-160H400v160ZM180-400h160v-160H180v160Zm440 0h160v-160H620v160ZM180-180h160v-160H180v160Zm440 0h160v-160H620v160Z\"/>\n",
              "  </svg>\n",
              "    </button>\n",
              "\n",
              "  <style>\n",
              "    .colab-df-container {\n",
              "      display:flex;\n",
              "      gap: 12px;\n",
              "    }\n",
              "\n",
              "    .colab-df-convert {\n",
              "      background-color: #E8F0FE;\n",
              "      border: none;\n",
              "      border-radius: 50%;\n",
              "      cursor: pointer;\n",
              "      display: none;\n",
              "      fill: #1967D2;\n",
              "      height: 32px;\n",
              "      padding: 0 0 0 0;\n",
              "      width: 32px;\n",
              "    }\n",
              "\n",
              "    .colab-df-convert:hover {\n",
              "      background-color: #E2EBFA;\n",
              "      box-shadow: 0px 1px 2px rgba(60, 64, 67, 0.3), 0px 1px 3px 1px rgba(60, 64, 67, 0.15);\n",
              "      fill: #174EA6;\n",
              "    }\n",
              "\n",
              "    .colab-df-buttons div {\n",
              "      margin-bottom: 4px;\n",
              "    }\n",
              "\n",
              "    [theme=dark] .colab-df-convert {\n",
              "      background-color: #3B4455;\n",
              "      fill: #D2E3FC;\n",
              "    }\n",
              "\n",
              "    [theme=dark] .colab-df-convert:hover {\n",
              "      background-color: #434B5C;\n",
              "      box-shadow: 0px 1px 3px 1px rgba(0, 0, 0, 0.15);\n",
              "      filter: drop-shadow(0px 1px 2px rgba(0, 0, 0, 0.3));\n",
              "      fill: #FFFFFF;\n",
              "    }\n",
              "  </style>\n",
              "\n",
              "    <script>\n",
              "      const buttonEl =\n",
              "        document.querySelector('#df-3abaf4fd-3d35-4a81-87f7-48bad5d0e2ac button.colab-df-convert');\n",
              "      buttonEl.style.display =\n",
              "        google.colab.kernel.accessAllowed ? 'block' : 'none';\n",
              "\n",
              "      async function convertToInteractive(key) {\n",
              "        const element = document.querySelector('#df-3abaf4fd-3d35-4a81-87f7-48bad5d0e2ac');\n",
              "        const dataTable =\n",
              "          await google.colab.kernel.invokeFunction('convertToInteractive',\n",
              "                                                    [key], {});\n",
              "        if (!dataTable) return;\n",
              "\n",
              "        const docLinkHtml = 'Like what you see? Visit the ' +\n",
              "          '<a target=\"_blank\" href=https://colab.research.google.com/notebooks/data_table.ipynb>data table notebook</a>'\n",
              "          + ' to learn more about interactive tables.';\n",
              "        element.innerHTML = '';\n",
              "        dataTable['output_type'] = 'display_data';\n",
              "        await google.colab.output.renderOutput(dataTable, element);\n",
              "        const docLink = document.createElement('div');\n",
              "        docLink.innerHTML = docLinkHtml;\n",
              "        element.appendChild(docLink);\n",
              "      }\n",
              "    </script>\n",
              "  </div>\n",
              "\n",
              "\n",
              "    <div id=\"df-c1e6fa3f-3933-4382-b9b9-e227c37d2ffb\">\n",
              "      <button class=\"colab-df-quickchart\" onclick=\"quickchart('df-c1e6fa3f-3933-4382-b9b9-e227c37d2ffb')\"\n",
              "                title=\"Suggest charts\"\n",
              "                style=\"display:none;\">\n",
              "\n",
              "<svg xmlns=\"http://www.w3.org/2000/svg\" height=\"24px\"viewBox=\"0 0 24 24\"\n",
              "     width=\"24px\">\n",
              "    <g>\n",
              "        <path d=\"M19 3H5c-1.1 0-2 .9-2 2v14c0 1.1.9 2 2 2h14c1.1 0 2-.9 2-2V5c0-1.1-.9-2-2-2zM9 17H7v-7h2v7zm4 0h-2V7h2v10zm4 0h-2v-4h2v4z\"/>\n",
              "    </g>\n",
              "</svg>\n",
              "      </button>\n",
              "\n",
              "<style>\n",
              "  .colab-df-quickchart {\n",
              "      --bg-color: #E8F0FE;\n",
              "      --fill-color: #1967D2;\n",
              "      --hover-bg-color: #E2EBFA;\n",
              "      --hover-fill-color: #174EA6;\n",
              "      --disabled-fill-color: #AAA;\n",
              "      --disabled-bg-color: #DDD;\n",
              "  }\n",
              "\n",
              "  [theme=dark] .colab-df-quickchart {\n",
              "      --bg-color: #3B4455;\n",
              "      --fill-color: #D2E3FC;\n",
              "      --hover-bg-color: #434B5C;\n",
              "      --hover-fill-color: #FFFFFF;\n",
              "      --disabled-bg-color: #3B4455;\n",
              "      --disabled-fill-color: #666;\n",
              "  }\n",
              "\n",
              "  .colab-df-quickchart {\n",
              "    background-color: var(--bg-color);\n",
              "    border: none;\n",
              "    border-radius: 50%;\n",
              "    cursor: pointer;\n",
              "    display: none;\n",
              "    fill: var(--fill-color);\n",
              "    height: 32px;\n",
              "    padding: 0;\n",
              "    width: 32px;\n",
              "  }\n",
              "\n",
              "  .colab-df-quickchart:hover {\n",
              "    background-color: var(--hover-bg-color);\n",
              "    box-shadow: 0 1px 2px rgba(60, 64, 67, 0.3), 0 1px 3px 1px rgba(60, 64, 67, 0.15);\n",
              "    fill: var(--button-hover-fill-color);\n",
              "  }\n",
              "\n",
              "  .colab-df-quickchart-complete:disabled,\n",
              "  .colab-df-quickchart-complete:disabled:hover {\n",
              "    background-color: var(--disabled-bg-color);\n",
              "    fill: var(--disabled-fill-color);\n",
              "    box-shadow: none;\n",
              "  }\n",
              "\n",
              "  .colab-df-spinner {\n",
              "    border: 2px solid var(--fill-color);\n",
              "    border-color: transparent;\n",
              "    border-bottom-color: var(--fill-color);\n",
              "    animation:\n",
              "      spin 1s steps(1) infinite;\n",
              "  }\n",
              "\n",
              "  @keyframes spin {\n",
              "    0% {\n",
              "      border-color: transparent;\n",
              "      border-bottom-color: var(--fill-color);\n",
              "      border-left-color: var(--fill-color);\n",
              "    }\n",
              "    20% {\n",
              "      border-color: transparent;\n",
              "      border-left-color: var(--fill-color);\n",
              "      border-top-color: var(--fill-color);\n",
              "    }\n",
              "    30% {\n",
              "      border-color: transparent;\n",
              "      border-left-color: var(--fill-color);\n",
              "      border-top-color: var(--fill-color);\n",
              "      border-right-color: var(--fill-color);\n",
              "    }\n",
              "    40% {\n",
              "      border-color: transparent;\n",
              "      border-right-color: var(--fill-color);\n",
              "      border-top-color: var(--fill-color);\n",
              "    }\n",
              "    60% {\n",
              "      border-color: transparent;\n",
              "      border-right-color: var(--fill-color);\n",
              "    }\n",
              "    80% {\n",
              "      border-color: transparent;\n",
              "      border-right-color: var(--fill-color);\n",
              "      border-bottom-color: var(--fill-color);\n",
              "    }\n",
              "    90% {\n",
              "      border-color: transparent;\n",
              "      border-bottom-color: var(--fill-color);\n",
              "    }\n",
              "  }\n",
              "</style>\n",
              "\n",
              "      <script>\n",
              "        async function quickchart(key) {\n",
              "          const quickchartButtonEl =\n",
              "            document.querySelector('#' + key + ' button');\n",
              "          quickchartButtonEl.disabled = true;  // To prevent multiple clicks.\n",
              "          quickchartButtonEl.classList.add('colab-df-spinner');\n",
              "          try {\n",
              "            const charts = await google.colab.kernel.invokeFunction(\n",
              "                'suggestCharts', [key], {});\n",
              "          } catch (error) {\n",
              "            console.error('Error during call to suggestCharts:', error);\n",
              "          }\n",
              "          quickchartButtonEl.classList.remove('colab-df-spinner');\n",
              "          quickchartButtonEl.classList.add('colab-df-quickchart-complete');\n",
              "        }\n",
              "        (() => {\n",
              "          let quickchartButtonEl =\n",
              "            document.querySelector('#df-c1e6fa3f-3933-4382-b9b9-e227c37d2ffb button');\n",
              "          quickchartButtonEl.style.display =\n",
              "            google.colab.kernel.accessAllowed ? 'block' : 'none';\n",
              "        })();\n",
              "      </script>\n",
              "    </div>\n",
              "\n",
              "    </div>\n",
              "  </div>\n"
            ],
            "application/vnd.google.colaboratory.intrinsic+json": {
              "type": "dataframe",
              "variable_name": "dataset",
              "summary": "{\n  \"name\": \"dataset\",\n  \"rows\": 507,\n  \"fields\": [\n    {\n      \"column\": \"Heupomtrek\",\n      \"properties\": {\n        \"dtype\": \"number\",\n        \"std\": 6.680622739981979,\n        \"min\": 78.8,\n        \"max\": 128.3,\n        \"num_unique_values\": 209,\n        \"samples\": [\n          103.9,\n          93.1,\n          98.6\n        ],\n        \"semantic_type\": \"\",\n        \"description\": \"\"\n      }\n    },\n    {\n      \"column\": \"Geslacht\",\n      \"properties\": {\n        \"dtype\": \"category\",\n        \"num_unique_values\": 2,\n        \"samples\": [\n          \"V\",\n          \"M\"\n        ],\n        \"semantic_type\": \"\",\n        \"description\": \"\"\n      }\n    }\n  ]\n}"
            }
          },
          "metadata": {},
          "execution_count": 13
        }
      ],
      "source": [
        "dataset = pd.read_csv('riemen.csv')\n",
        "dataset.head()"
      ]
    },
    {
      "cell_type": "markdown",
      "metadata": {
        "id": "jK4pI_EKbEPs"
      },
      "source": [
        "a. Ga na of deze data normaalverdeeld is. Doe dit door de kansverdeling te plotten en door na te gaan hoeveel procent van de gegevens binnen de 1, 2 en 3 standaardafwijkingen is gelegen. Vergelijk met de werkelijke normaalverdeling die hoort bij het berekende gemiddelde en standaardafwijking.  Doe de analyse ook apart voor mannen en vrouwen."
      ]
    },
    {
      "cell_type": "code",
      "execution_count": 14,
      "metadata": {
        "colab": {
          "base_uri": "https://localhost:8080/",
          "height": 927
        },
        "id": "SHDrNAKkbEPt",
        "outputId": "4a41d447-8832-4882-e218-1134ceaa087b"
      },
      "outputs": [
        {
          "output_type": "display_data",
          "data": {
            "text/plain": [
              "<Figure size 640x480 with 1 Axes>"
            ],
            "image/png": "[encoded data removed]"
          },
          "metadata": {}
        },
        {
          "output_type": "display_data",
          "data": {
            "text/plain": [
              "<Figure size 640x480 with 1 Axes>"
            ],
            "image/png": "[encoded data removed]"
          },
          "metadata": {}
        }
      ],
      "source": [
        "\n",
        "\n",
        "# Splits de dataset op in mannen en vrouwen\n",
        "dataset_mannen = dataset[dataset.Geslacht == \"M\"]\n",
        "dataset_vrouwen = dataset[dataset.Geslacht == \"V\"]\n",
        "\n",
        "# Bereken het bereik en de klassebreedte voor mannen\n",
        "max_mannen = dataset_mannen[\"Heupomtrek\"].max()\n",
        "min_mannen = dataset_mannen[\"Heupomtrek\"].min()\n",
        "bereik_mannen = max_mannen - min_mannen\n",
        "klassebreedte_mannen = bereik_mannen / np.sqrt(dataset_mannen.shape[0])\n",
        "bins_mannen = np.arange(start=min_mannen, stop=max_mannen + klassebreedte_mannen, step=klassebreedte_mannen)\n",
        "\n",
        "# Histogram mannen\n",
        "sns.histplot(data=dataset_mannen, x='Heupomtrek', bins=bins_mannen, color='blue', kde=True)\n",
        "plt.title(\"Histogram: Heupomtrek bij Mannen\")\n",
        "plt.xlabel(\"Heupomtrek\")\n",
        "plt.ylabel(\"Frequentie\")\n",
        "plt.show()\n",
        "\n",
        "# Herhaal voor vrouwen\n",
        "max_vrouwen = dataset_vrouwen[\"Heupomtrek\"].max()\n",
        "min_vrouwen = dataset_vrouwen[\"Heupomtrek\"].min()\n",
        "bereik_vrouwen = max_vrouwen - min_vrouwen\n",
        "klassebreedte_vrouwen = bereik_vrouwen / np.sqrt(dataset_vrouwen.shape[0])\n",
        "bins_vrouwen = np.arange(start=min_vrouwen, stop=max_vrouwen + klassebreedte_vrouwen, step=klassebreedte_vrouwen)\n",
        "\n",
        "sns.histplot(data=dataset_vrouwen, x='Heupomtrek', bins=bins_vrouwen, color='red', kde=True)\n",
        "plt.title(\"Histogram: Heupomtrek bij Vrouwen\")\n",
        "plt.xlabel(\"Heupomtrek\")\n",
        "plt.ylabel(\"Frequentie\")\n",
        "plt.show()\n"
      ]
    },
    {
      "cell_type": "code",
      "source": [
        "# b. Herhaal het gevraagde onder vraag b, maar splits op in mannen en vrouwen..\n",
        "\n",
        "\n",
        "# Bereken het gemiddelde en de standaardafwijking van de heupomtrek voor mannen\n",
        "gemiddelde_mannen_heup = dataset[dataset['Geslacht'] == 'M']['Heupomtrek'].mean()\n",
        "standaardafwijking_mannen_heup = dataset[dataset['Geslacht'] == 'M']['Heupomtrek'].std()\n",
        "print('Mannen:')\n",
        "print(f\"Gemiddelde Heupomtrek: {gemiddelde_mannen_heup:.2f}\")\n",
        "print(f\"Standaardafwijking Heupomtrek: {standaardafwijking_mannen_heup:.2f}\")\n",
        "\n",
        "# Bereken het gemiddelde en de standaardafwijking van de heupomtrek voor vrouwen\n",
        "gemiddelde_vrouwen_heup = dataset[dataset['Geslacht'] == 'V']['Heupomtrek'].mean()\n",
        "standaardafwijking_vrouwen_heup = dataset[dataset['Geslacht'] == 'V']['Heupomtrek'].std()\n",
        "print('Vrouwen:')\n",
        "print(f\"Gemiddelde Heupomtrek: {gemiddelde_vrouwen_heup:.2f}\")\n",
        "print(f\"Standaardafwijking Heupomtrek: {standaardafwijking_vrouwen_heup:.2f}\")\n",
        "\n",
        "# Splits de dataset op in mannen en vrouwen\n",
        "dataset_mannen = dataset[dataset['Geslacht'] == \"M\"]\n",
        "dataset_vrouwen = dataset[dataset['Geslacht'] == \"V\"]\n",
        "\n",
        "# Maak boxplots voor de heupomtrek van mannen en vrouwen\n",
        "f, assen = plt.subplots(1, 2)\n",
        "\n",
        "sns.boxplot(y='Heupomtrek', data=dataset_mannen, whis=1.5, ax=assen[0], color='#000080')\n",
        "sns.boxplot(y='Heupomtrek', data=dataset_vrouwen, whis=1.5, ax=assen[1], color='#800020')\n",
        "\n",
        "# Stel de limieten en titels in voor de boxplots\n",
        "assen[0].set(ylim=(70, 130))\n",
        "assen[1].set(ylim=(70, 130))\n",
        "assen[0].set_title(\"Heupomtrek bij Mannen\")\n",
        "assen[1].set_title(\"Heupomtrek bij Vrouwen\")\n",
        "\n",
        "plt.show()\n"
      ],
      "metadata": {
        "colab": {
          "base_uri": "https://localhost:8080/",
          "height": 544
        },
        "id": "UHot7JITxYJP",
        "outputId": "5b8e399b-8999-41c4-8059-66c303f7b356"
      },
      "execution_count": 15,
      "outputs": [
        {
          "output_type": "stream",
          "name": "stdout",
          "text": [
            "Mannen:\n",
            "Gemiddelde Heupomtrek: 97.76\n",
            "Standaardafwijking Heupomtrek: 6.23\n",
            "Vrouwen:\n",
            "Gemiddelde Heupomtrek: 95.65\n",
            "Standaardafwijking Heupomtrek: 6.94\n"
          ]
        },
        {
          "output_type": "display_data",
          "data": {
            "text/plain": [
              "<Figure size 640x480 with 2 Axes>"
            ],
            "image/png": "[encoded data removed]"
          },
          "metadata": {}
        }
      ]
    },
    {
      "cell_type": "markdown",
      "metadata": {
        "id": "1v5YXBxcbEPt"
      },
      "source": [
        "c. In de veronderstelling dat de data normaalverdeeld is, bereken telkens **voor de populatie** hoeveel procent van de mannen maat smal, medium en large kan dragen. Doe dit ook voor Vrouwen. Vul daarbij onderstaande tabel aan.\n",
        "\n",
        "|       Variant     | Mannen| Vrouwen |\n",
        "|------------|-----:|---------------:|\n",
        "| Smal |     %|     %|\n",
        "| Medium |     %|     %|\n",
        "| Large |      %|     %|\n",
        "| Smal |  Van 75 cm tot 87 cm|  Van 73 cm tot 85 cm|\n",
        "| Medium | Van 85 cm tot 100 cm| Van 80 cm tot 95 cm|\n",
        "| Large | Van 97 cm tot 110 cm  | Van 90 cm tot 107 cm|"
      ]
    },
    {
      "cell_type": "code",
      "execution_count": 16,
      "metadata": {
        "id": "_fqF28n6bEP0",
        "colab": {
          "base_uri": "https://localhost:8080/"
        },
        "outputId": "4aba6adf-1cd6-4841-e87e-e3e87a7b2d3c"
      },
      "outputs": [
        {
          "output_type": "stream",
          "name": "stdout",
          "text": [
            "Percentage kleine mannen: 4.18%\n",
            "Percentage middelgrote mannen: 62.00%\n",
            "Percentage grote mannen: 83.65%\n"
          ]
        }
      ],
      "source": [
        "# Splits de dataset op in mannen en vrouwen\n",
        "dataset_mannen = dataset[dataset['Geslacht'] == 'M']\n",
        "dataset_vrouwen = dataset[dataset['Geslacht'] == 'V']\n",
        "\n",
        "# Bereken het gemiddelde en de standaardafwijking van de heupomtrek\n",
        "gemiddelde_mannen = dataset_mannen['Heupomtrek'].mean()\n",
        "gemiddelde_vrouwen = dataset_vrouwen['Heupomtrek'].mean()\n",
        "\n",
        "standaardafwijking_mannen = dataset_mannen['Heupomtrek'].std()\n",
        "standaardafwijking_vrouwen = dataset_vrouwen['Heupomtrek'].std()\n",
        "\n",
        "# Bereken de percentages per categorie\n",
        "kleine_mannen = (stats.norm.cdf(87, loc=gemiddelde_mannen, scale=standaardafwijking_mannen) -\n",
        "                 stats.norm.cdf(75, loc=gemiddelde_mannen, scale=standaardafwijking_mannen)) * 100\n",
        "\n",
        "middelgrote_mannen = (stats.norm.cdf(100, loc=gemiddelde_mannen, scale=standaardafwijking_mannen) -\n",
        "                      stats.norm.cdf(85, loc=gemiddelde_mannen, scale=standaardafwijking_mannen)) * 100\n",
        "\n",
        "grote_mannen = (stats.norm.cdf(110, loc=gemiddelde_mannen, scale=standaardafwijking_mannen) -\n",
        "                stats.norm.cdf(91, loc=gemiddelde_mannen, scale=standaardafwijking_mannen)) * 100\n",
        "\n",
        "print(f\"Percentage kleine mannen: {kleine_mannen:.2f}%\")\n",
        "print(f\"Percentage middelgrote mannen: {middelgrote_mannen:.2f}%\")\n",
        "print(f\"Percentage grote mannen: {grote_mannen:.2f}%\")"
      ]
    },
    {
      "cell_type": "markdown",
      "source": [
        "We berekenen hoeveel mannen tussen 75 en 87 cm heupomtrek zitten.\n",
        "\n",
        "Dat is: alles ≤87 min alles ≤75 → dus alleen het stuk tussen 75 en 87 cm.\n",
        "\n",
        "Daarna doen we * 100 om het als percentage uit te drukken. idem dit voor ≤100 min alles ≤85 en110 en 91\n",
        "\n"
      ],
      "metadata": {
        "id": "ZV0I9cYJ2JTc"
      }
    },
    {
      "cell_type": "markdown",
      "metadata": {
        "id": "YsyUjC0QbEP0"
      },
      "source": [
        "d. Bij hoeveel procent van de mannen past zowel smal als medium?"
      ]
    },
    {
      "cell_type": "code",
      "execution_count": 17,
      "metadata": {
        "colab": {
          "base_uri": "https://localhost:8080/"
        },
        "id": "pGC_kq7pbEP0",
        "outputId": "49ef1bf0-b46f-4b75-c582-0c0bf91e6be5"
      },
      "outputs": [
        {
          "output_type": "stream",
          "name": "stdout",
          "text": [
            "Percentage mannen dat in medium past: 64.01%\n"
          ]
        }
      ],
      "source": [
        "# Bereken het percentage mannen met een heupomtrek tussen 75 cm en 100 cm\n",
        "percentage_mannen = (stats.norm.cdf(100, loc=gemiddelde_mannen, scale=standaardafwijking_mannen) -\n",
        "                     stats.norm.cdf(75, loc=gemiddelde_mannen, scale=standaardafwijking_mannen)) * 100\n",
        "\n",
        "print(f'Percentage mannen dat in medium past: {percentage_mannen:.2f}%')\n"
      ]
    },
    {
      "cell_type": "markdown",
      "metadata": {
        "id": "E7NYIDarbEP0"
      },
      "source": [
        "e. Bij hoeveel procent van de vrouwen past zowel medium als large?"
      ]
    },
    {
      "cell_type": "code",
      "execution_count": 18,
      "metadata": {
        "colab": {
          "base_uri": "https://localhost:8080/"
        },
        "id": "0Sa9R5PIbEP0",
        "outputId": "7a4ef487-8a29-4b6a-d0c5-c01d3b8d81b1"
      },
      "outputs": [
        {
          "output_type": "stream",
          "name": "stdout",
          "text": [
            "Percentage vrouwen dat zowel in medium als large past: 93.69%\n"
          ]
        }
      ],
      "source": [
        "percentage_vrouwen = (stats.norm.cdf(107, loc=gemiddelde_vrouwen, scale=standaardafwijking_vrouwen) -\n",
        "                      stats.norm.cdf(80, loc=gemiddelde_vrouwen, scale=standaardafwijking_vrouwen)) * 100\n",
        "\n",
        "print(f'Percentage vrouwen dat zowel in medium als large past: {percentage_vrouwen:.2f}%')"
      ]
    },
    {
      "cell_type": "markdown",
      "metadata": {
        "id": "8EAfwFJ5bEP0"
      },
      "source": [
        "f. Bij hoeveel procent van de mannen past geen enkele maat?"
      ]
    },
    {
      "cell_type": "code",
      "execution_count": 19,
      "metadata": {
        "colab": {
          "base_uri": "https://localhost:8080/"
        },
        "id": "WRv0rpQVbEP0",
        "outputId": "d9868496-3685-4651-c5a0-3503944a7ec8"
      },
      "outputs": [
        {
          "output_type": "stream",
          "name": "stdout",
          "text": [
            "Percentage mannen dat in geen enkele maat past: 2.48%\n"
          ]
        }
      ],
      "source": [
        "te_klein = stats.norm.cdf(75, loc=gemiddelde_mannen, scale=standaardafwijking_mannen)\n",
        "te_groot = stats.norm.sf(110, loc=gemiddelde_mannen, scale=standaardafwijking_mannen)\n",
        "past_niet = (te_klein + te_groot) * 100\n",
        "\n",
        "print(f'Percentage mannen dat in geen enkele maat past: {past_niet:.2f}%')\n"
      ]
    },
    {
      "cell_type": "markdown",
      "source": [
        "Samenvatting in simpele taal:\n",
        "Links (te klein) → je gebruikt cdf(): alles onder een bepaalde waarde.\n",
        "\n",
        "Rechts (te groot) → je gebruikt sf(): alles boven een bepaalde waarde.\n",
        "\n",
        "Daarom dus:\n",
        "✅ cdf(75) voor te klein\n",
        "✅ sf(110) voor te groot\n",
        "\n",
        "Wil je dat ik ook laat zien hoe je dit grafisch kunt weergeven?2. stats.norm.sf(110, ...)\n",
        "Dit geeft de kans dat iemand groter is dan 110 cm\n",
        "→ Dat is het percentage dat te groot is.\n",
        "\n",
        "➡️ Daarom gebruik je sf (= survival function) bij de rechterkant van het bereik.\n",
        "\n"
      ],
      "metadata": {
        "id": "m_uYtJ8L2mKZ"
      }
    },
    {
      "cell_type": "markdown",
      "metadata": {
        "id": "igJfcnlXbEP0"
      },
      "source": [
        "g. Bij hoeveel procent van de vrouwen past geen enkele maat?"
      ]
    },
    {
      "cell_type": "code",
      "execution_count": 20,
      "metadata": {
        "colab": {
          "base_uri": "https://localhost:8080/"
        },
        "id": "cZFPpGV7bEP0",
        "outputId": "fcc8074d-1840-4e2b-e4a6-66eb34669c9e"
      },
      "outputs": [
        {
          "output_type": "stream",
          "name": "stdout",
          "text": [
            "Percentage vrouwen dat in geen enkele maat past: 5.16%\n"
          ]
        }
      ],
      "source": [
        "te_klein = stats.norm.cdf(73, loc=gemiddelde_vrouwen, scale=standaardafwijking_vrouwen)\n",
        "te_groot = stats.norm.sf(107, loc=gemiddelde_vrouwen, scale=standaardafwijking_vrouwen)\n",
        "past_niet = (te_klein + te_groot) * 100\n",
        "\n",
        "print(f'Percentage vrouwen dat in geen enkele maat past: {past_niet:.2f}%')\n"
      ]
    }
  ],
  "metadata": {
    "kernelspec": {
      "display_name": "Python 3",
      "language": "python",
      "name": "python3"
    },
    "language_info": {
      "codemirror_mode": {
        "name": "ipython",
        "version": 3
      },
      "file_extension": ".py",
      "mimetype": "text/x-python",
      "name": "python",
      "nbconvert_exporter": "python",
      "pygments_lexer": "ipython3",
      "version": "3.11.5"
    },
    "colab": {
      "provenance": [],
      "include_colab_link": true
    }
  },
  "nbformat": 4,
  "nbformat_minor": 0
}