{
  "cells": [
    {
      "cell_type": "markdown",
      "metadata": {
        "id": "view-in-github",
        "colab_type": "text"
      },
      "source": [
        "<a href=\"https://colab.research.google.com/github/pascal-maker/Python/blob/master/Labo_02_Spreidingsmaten_Opgave.ipynb\" target=\"_parent\"><img src=\"https://colab.research.google.com/assets/colab-badge.svg\" alt=\"Open In Colab\"/></a>"
      ]
    },
    {
      "cell_type": "markdown",
      "metadata": {
        "id": "lESmmVXYmIq-"
      },
      "source": [
        "# <span style=\"color:PERU\">Labo 02 Spreidingsmaten opgave</span>"
      ]
    },
    {
      "cell_type": "code",
      "execution_count": 2,
      "metadata": {
        "id": "QGur7RoJmIq-"
      },
      "outputs": [],
      "source": [
        "%matplotlib inline\n",
        "import pandas as pd\n",
        "import numpy as np\n",
        "from pandas import Series, DataFrame\n",
        "import matplotlib.pyplot as plt\n",
        "import seaborn as sns\n",
        "\n",
        "pd.set_option('display.max_rows',1000)\n",
        "pd.set_option('display.max_columns',1000)"
      ]
    },
    {
      "cell_type": "markdown",
      "metadata": {
        "id": "biiNaqqImIq_"
      },
      "source": [
        "De dataset die in deze opdracht gebruikt wordt zal jullie (normaalgezien) bekend voorkomen. Het is dezelfde student dataset waar in de opdrachten rond centrummaten mee gewerkt werd. In onderstaande tabel kunnen julie toch nog eens de naam van de kolom en hun betekenis terugvinden.\n",
        "\n",
        "| Variable Name |Description |\n",
        "| --- | --- |\n",
        "|school \t|student's school (binary; 'GP' - Gabriel Pereira or 'MS' - Mousinho da Silveira) |\n",
        "|sex|\tstudent's sex (binary: 'F' - female or 'M' - male)|\n",
        "|age |\t student's age|\n",
        "|address  |\tstudent's home address type (binary: 'U' - urban or 'R' - rural)|\n",
        "|famsize |\tfamily size (binary: 'LE3' - less or equal to 3 or 'GT3' - greater than 3)|\n",
        "|Pstatus |\tparent's cohabitation status (binary: 'T' - living together or 'A' - apart)|\n",
        "|Medu  \t|other's education (numeric: 0 - none, 1 - primary education (4th grade), 2 – 5th to 9th grade, 3 – secondary education or 4 – higher education)|\n",
        "|Fedu |\tather's education (numeric: 0 - none, 1 - primary education (4th grade), 2 – 5th to 9th grade, 3 – secondary education or 4 – higher\n",
        "|reason |\treason to choose this school (nominal: close to 'home', school 'reputation', 'course' preference or 'other')|\n",
        "|traveltime|\thome to school travel time (numeric: 1 - 1 hour)|\n",
        "|studytime\t|weekly study time (numeric: 1 - 10 hours)|\n",
        "|failures |\tnumber of past class failures (numeric: n if 1<=n<3, else 4)|\n",
        "|activities \t| extra-curricular activities (binary: yes or no)\n",
        "|nursery  |\tattended nursery school (binary: yes or no)|\n",
        "|higher|\twants to take higher education (binary: yes or no)|\n",
        "|internet |\tInternet access at home (binary: yes or no)|\n",
        "|romantic|\twith a romantic relationship (binary: yes or no)|\n",
        "|famrel |\tquality of family relationships (numeric: from 1 - very bad to 5 - excellent)|\n",
        "|freetime |\tfree time after school (numeric: from 1 - very low to 5 - very high)|\n",
        "|goout |\tgoing out with friends (numeric: from 1 - very low to 5 - very high)|\n",
        "|Dalc |\tworkday alcohol consumption (numeric: from 1 - very low to 5 - very high)|\n",
        "|Walc |\tweekend alcohol consumption (numeric: from 1 - very low to 5 - very high)|\n",
        "|health |\tcurrent health status (numeric: from 1 - very bad to 5 - very good)|\n",
        "|absences |\tnumber of school absences|\n",
        "|G1 |\tfirst period grade (numeric: from 0 to 20)|\n",
        "|G2  |\tsecond period grade (numeric: from 0 to 20)|\n",
        "|G3 |\tfinal grade (numeric: from 0 to 20, output target)|"
      ]
    },
    {
      "cell_type": "code",
      "execution_count": 3,
      "metadata": {
        "id": "4mCk10HImIq_"
      },
      "outputs": [],
      "source": [
        "# Importeren van de dataset\n",
        "df = pd.read_csv(\"Students.csv\")"
      ]
    },
    {
      "cell_type": "code",
      "execution_count": 4,
      "metadata": {
        "colab": {
          "base_uri": "https://localhost:8080/",
          "height": 226
        },
        "id": "q51s4Wq6mIq_",
        "outputId": "3010e3f8-bf47-4bd1-a48b-800aa154fd45"
      },
      "outputs": [
        {
          "output_type": "execute_result",
          "data": {
            "text/plain": [
              "  school sex  age address famsize Pstatus  Medu  Fedu  reason  traveltime  \\\n",
              "0     GP   F   18       U     GT3       A     4     4  course           2   \n",
              "1     GP   F   17       U     GT3       T     1     1  course           1   \n",
              "2     GP   F   15       U     LE3       T     1     1   other           1   \n",
              "3     GP   F   15       U     GT3       T     4     2    home           1   \n",
              "4     GP   F   16       U     GT3       T     3     3    home           1   \n",
              "\n",
              "   studytime  failures activities nursery higher internet romantic  famrel  \\\n",
              "0          2         0         no     yes    yes       no       no       4   \n",
              "1          2         0         no      no    yes      yes       no       5   \n",
              "2          2         3         no     yes    yes      yes       no       4   \n",
              "3          3         0        yes     yes    yes      yes      yes       3   \n",
              "4          2         0         no     yes    yes       no       no       4   \n",
              "\n",
              "   freetime  goout  Dalc  Walc  health  absences  G1  G2  G3  \n",
              "0         3      4     1     1       3         6   5   6   6  \n",
              "1         3      3     1     1       3         4   5   5   6  \n",
              "2         3      2     2     3       3        10   7   8  10  \n",
              "3         2      2     1     1       5         2  15  14  15  \n",
              "4         3      2     1     2       5         4   6  10  10  "
            ],
            "text/html": [
              "\n",
              "  <div id=\"df-795eba96-1ce0-4057-89d5-4467ed2c3e73\" class=\"colab-df-container\">\n",
              "    <div>\n",
              "<style scoped>\n",
              "    .dataframe tbody tr th:only-of-type {\n",
              "        vertical-align: middle;\n",
              "    }\n",
              "\n",
              "    .dataframe tbody tr th {\n",
              "        vertical-align: top;\n",
              "    }\n",
              "\n",
              "    .dataframe thead th {\n",
              "        text-align: right;\n",
              "    }\n",
              "</style>\n",
              "<table border=\"1\" class=\"dataframe\">\n",
              "  <thead>\n",
              "    <tr style=\"text-align: right;\">\n",
              "      <th></th>\n",
              "      <th>school</th>\n",
              "      <th>sex</th>\n",
              "      <th>age</th>\n",
              "      <th>address</th>\n",
              "      <th>famsize</th>\n",
              "      <th>Pstatus</th>\n",
              "      <th>Medu</th>\n",
              "      <th>Fedu</th>\n",
              "      <th>reason</th>\n",
              "      <th>traveltime</th>\n",
              "      <th>studytime</th>\n",
              "      <th>failures</th>\n",
              "      <th>activities</th>\n",
              "      <th>nursery</th>\n",
              "      <th>higher</th>\n",
              "      <th>internet</th>\n",
              "      <th>romantic</th>\n",
              "      <th>famrel</th>\n",
              "      <th>freetime</th>\n",
              "      <th>goout</th>\n",
              "      <th>Dalc</th>\n",
              "      <th>Walc</th>\n",
              "      <th>health</th>\n",
              "      <th>absences</th>\n",
              "      <th>G1</th>\n",
              "      <th>G2</th>\n",
              "      <th>G3</th>\n",
              "    </tr>\n",
              "  </thead>\n",
              "  <tbody>\n",
              "    <tr>\n",
              "      <th>0</th>\n",
              "      <td>GP</td>\n",
              "      <td>F</td>\n",
              "      <td>18</td>\n",
              "      <td>U</td>\n",
              "      <td>GT3</td>\n",
              "      <td>A</td>\n",
              "      <td>4</td>\n",
              "      <td>4</td>\n",
              "      <td>course</td>\n",
              "      <td>2</td>\n",
              "      <td>2</td>\n",
              "      <td>0</td>\n",
              "      <td>no</td>\n",
              "      <td>yes</td>\n",
              "      <td>yes</td>\n",
              "      <td>no</td>\n",
              "      <td>no</td>\n",
              "      <td>4</td>\n",
              "      <td>3</td>\n",
              "      <td>4</td>\n",
              "      <td>1</td>\n",
              "      <td>1</td>\n",
              "      <td>3</td>\n",
              "      <td>6</td>\n",
              "      <td>5</td>\n",
              "      <td>6</td>\n",
              "      <td>6</td>\n",
              "    </tr>\n",
              "    <tr>\n",
              "      <th>1</th>\n",
              "      <td>GP</td>\n",
              "      <td>F</td>\n",
              "      <td>17</td>\n",
              "      <td>U</td>\n",
              "      <td>GT3</td>\n",
              "      <td>T</td>\n",
              "      <td>1</td>\n",
              "      <td>1</td>\n",
              "      <td>course</td>\n",
              "      <td>1</td>\n",
              "      <td>2</td>\n",
              "      <td>0</td>\n",
              "      <td>no</td>\n",
              "      <td>no</td>\n",
              "      <td>yes</td>\n",
              "      <td>yes</td>\n",
              "      <td>no</td>\n",
              "      <td>5</td>\n",
              "      <td>3</td>\n",
              "      <td>3</td>\n",
              "      <td>1</td>\n",
              "      <td>1</td>\n",
              "      <td>3</td>\n",
              "      <td>4</td>\n",
              "      <td>5</td>\n",
              "      <td>5</td>\n",
              "      <td>6</td>\n",
              "    </tr>\n",
              "    <tr>\n",
              "      <th>2</th>\n",
              "      <td>GP</td>\n",
              "      <td>F</td>\n",
              "      <td>15</td>\n",
              "      <td>U</td>\n",
              "      <td>LE3</td>\n",
              "      <td>T</td>\n",
              "      <td>1</td>\n",
              "      <td>1</td>\n",
              "      <td>other</td>\n",
              "      <td>1</td>\n",
              "      <td>2</td>\n",
              "      <td>3</td>\n",
              "      <td>no</td>\n",
              "      <td>yes</td>\n",
              "      <td>yes</td>\n",
              "      <td>yes</td>\n",
              "      <td>no</td>\n",
              "      <td>4</td>\n",
              "      <td>3</td>\n",
              "      <td>2</td>\n",
              "      <td>2</td>\n",
              "      <td>3</td>\n",
              "      <td>3</td>\n",
              "      <td>10</td>\n",
              "      <td>7</td>\n",
              "      <td>8</td>\n",
              "      <td>10</td>\n",
              "    </tr>\n",
              "    <tr>\n",
              "      <th>3</th>\n",
              "      <td>GP</td>\n",
              "      <td>F</td>\n",
              "      <td>15</td>\n",
              "      <td>U</td>\n",
              "      <td>GT3</td>\n",
              "      <td>T</td>\n",
              "      <td>4</td>\n",
              "      <td>2</td>\n",
              "      <td>home</td>\n",
              "      <td>1</td>\n",
              "      <td>3</td>\n",
              "      <td>0</td>\n",
              "      <td>yes</td>\n",
              "      <td>yes</td>\n",
              "      <td>yes</td>\n",
              "      <td>yes</td>\n",
              "      <td>yes</td>\n",
              "      <td>3</td>\n",
              "      <td>2</td>\n",
              "      <td>2</td>\n",
              "      <td>1</td>\n",
              "      <td>1</td>\n",
              "      <td>5</td>\n",
              "      <td>2</td>\n",
              "      <td>15</td>\n",
              "      <td>14</td>\n",
              "      <td>15</td>\n",
              "    </tr>\n",
              "    <tr>\n",
              "      <th>4</th>\n",
              "      <td>GP</td>\n",
              "      <td>F</td>\n",
              "      <td>16</td>\n",
              "      <td>U</td>\n",
              "      <td>GT3</td>\n",
              "      <td>T</td>\n",
              "      <td>3</td>\n",
              "      <td>3</td>\n",
              "      <td>home</td>\n",
              "      <td>1</td>\n",
              "      <td>2</td>\n",
              "      <td>0</td>\n",
              "      <td>no</td>\n",
              "      <td>yes</td>\n",
              "      <td>yes</td>\n",
              "      <td>no</td>\n",
              "      <td>no</td>\n",
              "      <td>4</td>\n",
              "      <td>3</td>\n",
              "      <td>2</td>\n",
              "      <td>1</td>\n",
              "      <td>2</td>\n",
              "      <td>5</td>\n",
              "      <td>4</td>\n",
              "      <td>6</td>\n",
              "      <td>10</td>\n",
              "      <td>10</td>\n",
              "    </tr>\n",
              "  </tbody>\n",
              "</table>\n",
              "</div>\n",
              "    <div class=\"colab-df-buttons\">\n",
              "\n",
              "  <div class=\"colab-df-container\">\n",
              "    <button class=\"colab-df-convert\" onclick=\"convertToInteractive('df-795eba96-1ce0-4057-89d5-4467ed2c3e73')\"\n",
              "            title=\"Convert this dataframe to an interactive table.\"\n",
              "            style=\"display:none;\">\n",
              "\n",
              "  <svg xmlns=\"http://www.w3.org/2000/svg\" height=\"24px\" viewBox=\"0 -960 960 960\">\n",
              "    <path d=\"M120-120v-720h720v720H120Zm60-500h600v-160H180v160Zm220 220h160v-160H400v160Zm0 220h160v-160H400v160ZM180-400h160v-160H180v160Zm440 0h160v-160H620v160ZM180-180h160v-160H180v160Zm440 0h160v-160H620v160Z\"/>\n",
              "  </svg>\n",
              "    </button>\n",
              "\n",
              "  <style>\n",
              "    .colab-df-container {\n",
              "      display:flex;\n",
              "      gap: 12px;\n",
              "    }\n",
              "\n",
              "    .colab-df-convert {\n",
              "      background-color: #E8F0FE;\n",
              "      border: none;\n",
              "      border-radius: 50%;\n",
              "      cursor: pointer;\n",
              "      display: none;\n",
              "      fill: #1967D2;\n",
              "      height: 32px;\n",
              "      padding: 0 0 0 0;\n",
              "      width: 32px;\n",
              "    }\n",
              "\n",
              "    .colab-df-convert:hover {\n",
              "      background-color: #E2EBFA;\n",
              "      box-shadow: 0px 1px 2px rgba(60, 64, 67, 0.3), 0px 1px 3px 1px rgba(60, 64, 67, 0.15);\n",
              "      fill: #174EA6;\n",
              "    }\n",
              "\n",
              "    .colab-df-buttons div {\n",
              "      margin-bottom: 4px;\n",
              "    }\n",
              "\n",
              "    [theme=dark] .colab-df-convert {\n",
              "      background-color: #3B4455;\n",
              "      fill: #D2E3FC;\n",
              "    }\n",
              "\n",
              "    [theme=dark] .colab-df-convert:hover {\n",
              "      background-color: #434B5C;\n",
              "      box-shadow: 0px 1px 3px 1px rgba(0, 0, 0, 0.15);\n",
              "      filter: drop-shadow(0px 1px 2px rgba(0, 0, 0, 0.3));\n",
              "      fill: #FFFFFF;\n",
              "    }\n",
              "  </style>\n",
              "\n",
              "    <script>\n",
              "      const buttonEl =\n",
              "        document.querySelector('#df-795eba96-1ce0-4057-89d5-4467ed2c3e73 button.colab-df-convert');\n",
              "      buttonEl.style.display =\n",
              "        google.colab.kernel.accessAllowed ? 'block' : 'none';\n",
              "\n",
              "      async function convertToInteractive(key) {\n",
              "        const element = document.querySelector('#df-795eba96-1ce0-4057-89d5-4467ed2c3e73');\n",
              "        const dataTable =\n",
              "          await google.colab.kernel.invokeFunction('convertToInteractive',\n",
              "                                                    [key], {});\n",
              "        if (!dataTable) return;\n",
              "\n",
              "        const docLinkHtml = 'Like what you see? Visit the ' +\n",
              "          '<a target=\"_blank\" href=https://colab.research.google.com/notebooks/data_table.ipynb>data table notebook</a>'\n",
              "          + ' to learn more about interactive tables.';\n",
              "        element.innerHTML = '';\n",
              "        dataTable['output_type'] = 'display_data';\n",
              "        await google.colab.output.renderOutput(dataTable, element);\n",
              "        const docLink = document.createElement('div');\n",
              "        docLink.innerHTML = docLinkHtml;\n",
              "        element.appendChild(docLink);\n",
              "      }\n",
              "    </script>\n",
              "  </div>\n",
              "\n",
              "\n",
              "    <div id=\"df-d1933674-3e82-4727-9fb9-9f74a6fac266\">\n",
              "      <button class=\"colab-df-quickchart\" onclick=\"quickchart('df-d1933674-3e82-4727-9fb9-9f74a6fac266')\"\n",
              "                title=\"Suggest charts\"\n",
              "                style=\"display:none;\">\n",
              "\n",
              "<svg xmlns=\"http://www.w3.org/2000/svg\" height=\"24px\"viewBox=\"0 0 24 24\"\n",
              "     width=\"24px\">\n",
              "    <g>\n",
              "        <path d=\"M19 3H5c-1.1 0-2 .9-2 2v14c0 1.1.9 2 2 2h14c1.1 0 2-.9 2-2V5c0-1.1-.9-2-2-2zM9 17H7v-7h2v7zm4 0h-2V7h2v10zm4 0h-2v-4h2v4z\"/>\n",
              "    </g>\n",
              "</svg>\n",
              "      </button>\n",
              "\n",
              "<style>\n",
              "  .colab-df-quickchart {\n",
              "      --bg-color: #E8F0FE;\n",
              "      --fill-color: #1967D2;\n",
              "      --hover-bg-color: #E2EBFA;\n",
              "      --hover-fill-color: #174EA6;\n",
              "      --disabled-fill-color: #AAA;\n",
              "      --disabled-bg-color: #DDD;\n",
              "  }\n",
              "\n",
              "  [theme=dark] .colab-df-quickchart {\n",
              "      --bg-color: #3B4455;\n",
              "      --fill-color: #D2E3FC;\n",
              "      --hover-bg-color: #434B5C;\n",
              "      --hover-fill-color: #FFFFFF;\n",
              "      --disabled-bg-color: #3B4455;\n",
              "      --disabled-fill-color: #666;\n",
              "  }\n",
              "\n",
              "  .colab-df-quickchart {\n",
              "    background-color: var(--bg-color);\n",
              "    border: none;\n",
              "    border-radius: 50%;\n",
              "    cursor: pointer;\n",
              "    display: none;\n",
              "    fill: var(--fill-color);\n",
              "    height: 32px;\n",
              "    padding: 0;\n",
              "    width: 32px;\n",
              "  }\n",
              "\n",
              "  .colab-df-quickchart:hover {\n",
              "    background-color: var(--hover-bg-color);\n",
              "    box-shadow: 0 1px 2px rgba(60, 64, 67, 0.3), 0 1px 3px 1px rgba(60, 64, 67, 0.15);\n",
              "    fill: var(--button-hover-fill-color);\n",
              "  }\n",
              "\n",
              "  .colab-df-quickchart-complete:disabled,\n",
              "  .colab-df-quickchart-complete:disabled:hover {\n",
              "    background-color: var(--disabled-bg-color);\n",
              "    fill: var(--disabled-fill-color);\n",
              "    box-shadow: none;\n",
              "  }\n",
              "\n",
              "  .colab-df-spinner {\n",
              "    border: 2px solid var(--fill-color);\n",
              "    border-color: transparent;\n",
              "    border-bottom-color: var(--fill-color);\n",
              "    animation:\n",
              "      spin 1s steps(1) infinite;\n",
              "  }\n",
              "\n",
              "  @keyframes spin {\n",
              "    0% {\n",
              "      border-color: transparent;\n",
              "      border-bottom-color: var(--fill-color);\n",
              "      border-left-color: var(--fill-color);\n",
              "    }\n",
              "    20% {\n",
              "      border-color: transparent;\n",
              "      border-left-color: var(--fill-color);\n",
              "      border-top-color: var(--fill-color);\n",
              "    }\n",
              "    30% {\n",
              "      border-color: transparent;\n",
              "      border-left-color: var(--fill-color);\n",
              "      border-top-color: var(--fill-color);\n",
              "      border-right-color: var(--fill-color);\n",
              "    }\n",
              "    40% {\n",
              "      border-color: transparent;\n",
              "      border-right-color: var(--fill-color);\n",
              "      border-top-color: var(--fill-color);\n",
              "    }\n",
              "    60% {\n",
              "      border-color: transparent;\n",
              "      border-right-color: var(--fill-color);\n",
              "    }\n",
              "    80% {\n",
              "      border-color: transparent;\n",
              "      border-right-color: var(--fill-color);\n",
              "      border-bottom-color: var(--fill-color);\n",
              "    }\n",
              "    90% {\n",
              "      border-color: transparent;\n",
              "      border-bottom-color: var(--fill-color);\n",
              "    }\n",
              "  }\n",
              "</style>\n",
              "\n",
              "      <script>\n",
              "        async function quickchart(key) {\n",
              "          const quickchartButtonEl =\n",
              "            document.querySelector('#' + key + ' button');\n",
              "          quickchartButtonEl.disabled = true;  // To prevent multiple clicks.\n",
              "          quickchartButtonEl.classList.add('colab-df-spinner');\n",
              "          try {\n",
              "            const charts = await google.colab.kernel.invokeFunction(\n",
              "                'suggestCharts', [key], {});\n",
              "          } catch (error) {\n",
              "            console.error('Error during call to suggestCharts:', error);\n",
              "          }\n",
              "          quickchartButtonEl.classList.remove('colab-df-spinner');\n",
              "          quickchartButtonEl.classList.add('colab-df-quickchart-complete');\n",
              "        }\n",
              "        (() => {\n",
              "          let quickchartButtonEl =\n",
              "            document.querySelector('#df-d1933674-3e82-4727-9fb9-9f74a6fac266 button');\n",
              "          quickchartButtonEl.style.display =\n",
              "            google.colab.kernel.accessAllowed ? 'block' : 'none';\n",
              "        })();\n",
              "      </script>\n",
              "    </div>\n",
              "\n",
              "    </div>\n",
              "  </div>\n"
            ],
            "application/vnd.google.colaboratory.intrinsic+json": {
              "type": "dataframe",
              "variable_name": "df"
            }
          },
          "metadata": {},
          "execution_count": 4
        }
      ],
      "source": [
        "# toon de eerste 5 rijen\n",
        "df.head()"
      ]
    },
    {
      "cell_type": "markdown",
      "metadata": {
        "id": "VX6PFnSRmIq_"
      },
      "source": [
        "Hoeveel studenten zijn er in de dataset?"
      ]
    },
    {
      "cell_type": "code",
      "execution_count": 5,
      "metadata": {
        "colab": {
          "base_uri": "https://localhost:8080/"
        },
        "id": "yKy-gzWcmIrA",
        "outputId": "0633f56c-67dc-48fb-d1c8-d6af53c96b85"
      },
      "outputs": [
        {
          "output_type": "stream",
          "name": "stdout",
          "text": [
            " Het aantal rijen is : 395 \n"
          ]
        }
      ],
      "source": [
        "print(f\" Het aantal rijen is : {df.shape[0]} \")"
      ]
    },
    {
      "cell_type": "markdown",
      "metadata": {
        "id": "gcHPqyWKmIrA"
      },
      "source": [
        "Gebruik de describe-functie om een overzicht te bekomen van de variabelen in de dataset. Bevat de dataset ontbrekende waarden?"
      ]
    },
    {
      "cell_type": "code",
      "execution_count": 8,
      "metadata": {
        "colab": {
          "base_uri": "https://localhost:8080/",
          "height": 931
        },
        "id": "a1D5I7RAmIrA",
        "outputId": "e7eeefa9-608c-43b7-a643-167a5bba30e5"
      },
      "outputs": [
        {
          "output_type": "execute_result",
          "data": {
            "text/plain": [
              "school        False\n",
              "sex           False\n",
              "age           False\n",
              "address       False\n",
              "famsize       False\n",
              "Pstatus       False\n",
              "Medu          False\n",
              "Fedu          False\n",
              "reason        False\n",
              "traveltime    False\n",
              "studytime     False\n",
              "failures      False\n",
              "activities    False\n",
              "nursery       False\n",
              "higher        False\n",
              "internet      False\n",
              "romantic      False\n",
              "famrel        False\n",
              "freetime      False\n",
              "goout         False\n",
              "Dalc          False\n",
              "Walc          False\n",
              "health        False\n",
              "absences      False\n",
              "G1            False\n",
              "G2            False\n",
              "G3            False\n",
              "dtype: bool"
            ],
            "text/html": [
              "<div>\n",
              "<style scoped>\n",
              "    .dataframe tbody tr th:only-of-type {\n",
              "        vertical-align: middle;\n",
              "    }\n",
              "\n",
              "    .dataframe tbody tr th {\n",
              "        vertical-align: top;\n",
              "    }\n",
              "\n",
              "    .dataframe thead th {\n",
              "        text-align: right;\n",
              "    }\n",
              "</style>\n",
              "<table border=\"1\" class=\"dataframe\">\n",
              "  <thead>\n",
              "    <tr style=\"text-align: right;\">\n",
              "      <th></th>\n",
              "      <th>0</th>\n",
              "    </tr>\n",
              "  </thead>\n",
              "  <tbody>\n",
              "    <tr>\n",
              "      <th>school</th>\n",
              "      <td>False</td>\n",
              "    </tr>\n",
              "    <tr>\n",
              "      <th>sex</th>\n",
              "      <td>False</td>\n",
              "    </tr>\n",
              "    <tr>\n",
              "      <th>age</th>\n",
              "      <td>False</td>\n",
              "    </tr>\n",
              "    <tr>\n",
              "      <th>address</th>\n",
              "      <td>False</td>\n",
              "    </tr>\n",
              "    <tr>\n",
              "      <th>famsize</th>\n",
              "      <td>False</td>\n",
              "    </tr>\n",
              "    <tr>\n",
              "      <th>Pstatus</th>\n",
              "      <td>False</td>\n",
              "    </tr>\n",
              "    <tr>\n",
              "      <th>Medu</th>\n",
              "      <td>False</td>\n",
              "    </tr>\n",
              "    <tr>\n",
              "      <th>Fedu</th>\n",
              "      <td>False</td>\n",
              "    </tr>\n",
              "    <tr>\n",
              "      <th>reason</th>\n",
              "      <td>False</td>\n",
              "    </tr>\n",
              "    <tr>\n",
              "      <th>traveltime</th>\n",
              "      <td>False</td>\n",
              "    </tr>\n",
              "    <tr>\n",
              "      <th>studytime</th>\n",
              "      <td>False</td>\n",
              "    </tr>\n",
              "    <tr>\n",
              "      <th>failures</th>\n",
              "      <td>False</td>\n",
              "    </tr>\n",
              "    <tr>\n",
              "      <th>activities</th>\n",
              "      <td>False</td>\n",
              "    </tr>\n",
              "    <tr>\n",
              "      <th>nursery</th>\n",
              "      <td>False</td>\n",
              "    </tr>\n",
              "    <tr>\n",
              "      <th>higher</th>\n",
              "      <td>False</td>\n",
              "    </tr>\n",
              "    <tr>\n",
              "      <th>internet</th>\n",
              "      <td>False</td>\n",
              "    </tr>\n",
              "    <tr>\n",
              "      <th>romantic</th>\n",
              "      <td>False</td>\n",
              "    </tr>\n",
              "    <tr>\n",
              "      <th>famrel</th>\n",
              "      <td>False</td>\n",
              "    </tr>\n",
              "    <tr>\n",
              "      <th>freetime</th>\n",
              "      <td>False</td>\n",
              "    </tr>\n",
              "    <tr>\n",
              "      <th>goout</th>\n",
              "      <td>False</td>\n",
              "    </tr>\n",
              "    <tr>\n",
              "      <th>Dalc</th>\n",
              "      <td>False</td>\n",
              "    </tr>\n",
              "    <tr>\n",
              "      <th>Walc</th>\n",
              "      <td>False</td>\n",
              "    </tr>\n",
              "    <tr>\n",
              "      <th>health</th>\n",
              "      <td>False</td>\n",
              "    </tr>\n",
              "    <tr>\n",
              "      <th>absences</th>\n",
              "      <td>False</td>\n",
              "    </tr>\n",
              "    <tr>\n",
              "      <th>G1</th>\n",
              "      <td>False</td>\n",
              "    </tr>\n",
              "    <tr>\n",
              "      <th>G2</th>\n",
              "      <td>False</td>\n",
              "    </tr>\n",
              "    <tr>\n",
              "      <th>G3</th>\n",
              "      <td>False</td>\n",
              "    </tr>\n",
              "  </tbody>\n",
              "</table>\n",
              "</div><br><label><b>dtype:</b> bool</label>"
            ]
          },
          "metadata": {},
          "execution_count": 8
        }
      ],
      "source": [
        "df.describe()\n",
        "df.isnull().any()"
      ]
    },
    {
      "cell_type": "markdown",
      "metadata": {
        "id": "jSyadsGFmIrA"
      },
      "source": [
        "Wat is het maximum aantal afwezigheden van een student? Wat is de leeftijd van deze student?"
      ]
    },
    {
      "cell_type": "code",
      "execution_count": 9,
      "metadata": {
        "colab": {
          "base_uri": "https://localhost:8080/"
        },
        "id": "NZmNc_tTmIrA",
        "outputId": "e9cd57a6-521c-42d9-e7fa-62a81db06698"
      },
      "outputs": [
        {
          "output_type": "stream",
          "name": "stdout",
          "text": [
            " De leeftijd van de student met max aantal afwezigheden is 18 jaar \n"
          ]
        }
      ],
      "source": [
        "voorwaarde = df['absences'] == df['absences'].max()\n",
        "dataset_max_absences = df[voorwaarde]\n",
        "print(f\" De leeftijd van de student met max aantal afwezigheden is {dataset_max_absences.age.values[0]} jaar \")"
      ]
    },
    {
      "cell_type": "markdown",
      "metadata": {
        "id": "DLwTU5bgmIrA"
      },
      "source": [
        "Wat is de finale score van de oudste student?"
      ]
    },
    {
      "cell_type": "code",
      "execution_count": 12,
      "metadata": {
        "colab": {
          "base_uri": "https://localhost:8080/"
        },
        "id": "WzYA55VhmIrA",
        "outputId": "526f28c7-34d0-46ad-cb81-ff2abca87db5"
      },
      "outputs": [
        {
          "output_type": "stream",
          "name": "stdout",
          "text": [
            " De student met de leeftijd  22 heeft deze finale score 8  \n"
          ]
        }
      ],
      "source": [
        "voorwaarde_age = df['age'] == df['age'].max()\n",
        "dataset_voorwaarde_leeftijd = df[voorwaarde_age]\n",
        "print(f\" De student met de leeftijd  {dataset_voorwaarde_leeftijd.age.values[0]} heeft deze finale score {dataset_voorwaarde_leeftijd.G3.values[0]}  \")"
      ]
    },
    {
      "cell_type": "markdown",
      "metadata": {
        "id": "LWeyJQO7mIrA"
      },
      "source": [
        "Hoeveel vrije tijd had de student met de hoogste score?"
      ]
    },
    {
      "cell_type": "code",
      "execution_count": 13,
      "metadata": {
        "colab": {
          "base_uri": "https://localhost:8080/"
        },
        "id": "k1m9BmRhmIrA",
        "outputId": "fb1e3bc7-69a9-4221-faf2-e2a3e5649fd3"
      },
      "outputs": [
        {
          "output_type": "stream",
          "name": "stdout",
          "text": [
            " De student met de hoogste score heeft 2 uur vrije tijd \n"
          ]
        }
      ],
      "source": [
        "voorwaarde_score = df['G3'] == df['G3'].max()\n",
        "dataset_max_score = df[voorwaarde_score]\n",
        "print(f\" De student met de hoogste score heeft {dataset_max_score.freetime.values[0]} uur vrije tijd \")"
      ]
    },
    {
      "cell_type": "markdown",
      "metadata": {
        "id": "7p3Pb-rnmIrA"
      },
      "source": [
        "Maak een histogram van het aantal studenten volgens hun finale score."
      ]
    },
    {
      "cell_type": "code",
      "execution_count": 14,
      "metadata": {
        "colab": {
          "base_uri": "https://localhost:8080/",
          "height": 565
        },
        "id": "72RXJe0JmIrA",
        "outputId": "c398990d-9e2e-429a-f74f-e36caa2ec83f"
      },
      "outputs": [
        {
          "output_type": "stream",
          "name": "stdout",
          "text": [
            "1.0063092108532552\n"
          ]
        },
        {
          "output_type": "execute_result",
          "data": {
            "text/plain": [
              "Text(0.5, 1.0, 'Histogram studenten per finale score ')"
            ]
          },
          "metadata": {},
          "execution_count": 14
        },
        {
          "output_type": "display_data",
          "data": {
            "text/plain": [
              "<Figure size 500x500 with 1 Axes>"
            ],
            "image/png": "[encoded data removed]"
          },
          "metadata": {}
        }
      ],
      "source": [
        "max_score = df.G3.max()\n",
        "min_score = df.G3.min()\n",
        "klassenbreedte = (max_score - min_score) / np.sqrt(df.G3.count())\n",
        "print(klassenbreedte)\n",
        "klassen = np.arange(start=min_score, stop=max_score+round(klassenbreedte), step=klassenbreedte)\n",
        "sns.displot(data=df.G3,bins=klassen,kde=False)\n",
        "plt.title(\"Histogram studenten per finale score \")"
      ]
    },
    {
      "cell_type": "markdown",
      "metadata": {
        "id": "bs7n4ZYCmIrA"
      },
      "source": [
        "Bereken nu de centrummaten en spreidingsmaten van de finale score (G3). Bepaal met andere woorden:\n",
        "- Het gemiddelde - mean()\n",
        "- De mediaan - median()\n",
        "- Variantie - var()\n",
        "- Standaardafwijking - std()\n",
        "- De range - max() - min()\n",
        "- Q1 en Q3 en bereken hieruit de interkwartielafstand: https://pandas.pydata.org/pandas-docs/stable/reference/api/pandas.DataFrame.quantile.html\n",
        "- De scheefheid - skew()\n",
        "- De kurtosis - kurt()\n",
        "\n",
        "Reflecteren deze centrummaten en spreidingsmaten wat je afleest op het histogram? Kijk dan vooral naar het gemiddelde, standaardafwijking en scheefheid"
      ]
    },
    {
      "cell_type": "code",
      "execution_count": 15,
      "metadata": {
        "colab": {
          "base_uri": "https://localhost:8080/"
        },
        "id": "xcadXBWpmIrA",
        "outputId": "e6f066aa-4667-4c48-ca66-d46e85bb2639"
      },
      "outputs": [
        {
          "output_type": "stream",
          "name": "stdout",
          "text": [
            "Het gemiddelde van de scores is 10.42\n",
            "De mediaan van de scores is 11.00\n",
            " De variantie van de scores is 20.99\n",
            "De standaardafwijking van de scores is 4.58\n",
            "De eerste kwartiel van de scores is 8.0\n",
            "De derde kwartiel van de scores is 14.0\n",
            "De interkwartielafstand van de scores is 6.0\n",
            "De scheefheid van de scores is -0.7326723530443435\n",
            "De kurtosis van de scores is 0.4034208131242458\n"
          ]
        }
      ],
      "source": [
        "gemiddelde = df.G3.mean()\n",
        "print(f\"Het gemiddelde van de scores is {gemiddelde:.2f}\")\n",
        "mediaan = df.G3.median()\n",
        "print(f\"De mediaan van de scores is {mediaan:.2f}\")\n",
        "variantie = df.G3.var()\n",
        "print(f\" De variantie van de scores is {variantie:.2f}\")\n",
        "standaardafwijking = df.G3.std()\n",
        "print(f\"De standaardafwijking van de scores is {standaardafwijking:.2f}\")\n",
        "gemiddelde = df.G3.mean()\n",
        "q1 = df.G3.quantile(0.25)\n",
        "print(f\"De eerste kwartiel van de scores is {q1}\")\n",
        "q3 = df.G3.quantile(0.75)\n",
        "print(f\"De derde kwartiel van de scores is {q3}\")\n",
        "\n",
        "interkwartielafstand = q3 - q1\n",
        "print(f\"De interkwartielafstand van de scores is {interkwartielafstand}\")\n",
        "scheefheid = df.G3.skew()\n",
        "print(f\"De scheefheid van de scores is {scheefheid}\")\n",
        "kurtosis = df.G3.kurt()\n",
        "print(f\"De kurtosis van de scores is {kurtosis}\")\n",
        "\n"
      ]
    },
    {
      "cell_type": "markdown",
      "metadata": {
        "id": "kYn3Uu4UmIrB"
      },
      "source": [
        "Maak een boxplot van de finale score, zijn er uitschieters aanwezig in de dataset?"
      ]
    },
    {
      "cell_type": "code",
      "execution_count": 17,
      "metadata": {
        "colab": {
          "base_uri": "https://localhost:8080/",
          "height": 490
        },
        "id": "TZ_-vO_amIrB",
        "outputId": "bc204dff-c764-400c-a73d-45a39bc0f5ef"
      },
      "outputs": [
        {
          "output_type": "execute_result",
          "data": {
            "text/plain": [
              "Text(0.5, 1.0, 'Boxplot van de finale score')"
            ]
          },
          "metadata": {},
          "execution_count": 17
        },
        {
          "output_type": "display_data",
          "data": {
            "text/plain": [
              "<Figure size 640x480 with 1 Axes>"
            ],
            "image/png": "[encoded data removed]"
          },
          "metadata": {}
        }
      ],
      "source": [
        "sns.boxplot(data=df,x='G3',whis=1.5)\n",
        "plt.title(\"Boxplot van de finale score\")"
      ]
    },
    {
      "cell_type": "markdown",
      "metadata": {
        "id": "kQzpJgXrmIrB"
      },
      "source": [
        "Iemand beweert dat personen in een relatie slechter scoren op de finale test dan iemand die single is. Klopt deze bewering? Gebruik de boxplot om je antwoord te staven"
      ]
    },
    {
      "cell_type": "code",
      "execution_count": 20,
      "metadata": {
        "colab": {
          "base_uri": "https://localhost:8080/",
          "height": 490
        },
        "id": "fEe4u0rZmIrB",
        "outputId": "fff87439-5efb-4778-e948-a3c53c9bc562"
      },
      "outputs": [
        {
          "output_type": "execute_result",
          "data": {
            "text/plain": [
              "Text(0.5, 1.0, 'Boxplot van de Finale score vs relatiestatus')"
            ]
          },
          "metadata": {},
          "execution_count": 20
        },
        {
          "output_type": "display_data",
          "data": {
            "text/plain": [
              "<Figure size 640x480 with 1 Axes>"
            ],
            "image/png": "[encoded data removed]"
          },
          "metadata": {}
        }
      ],
      "source": [
        "\n",
        "sns.boxplot(data=df, x='romantic', y='G3', whis=1.5)\n",
        "plt.title(\"Boxplot van de Finale score vs relatiestatus\")"
      ]
    },
    {
      "cell_type": "markdown",
      "metadata": {
        "id": "HYhNktCSmIrB"
      },
      "source": [
        "Dezelfde persoon beweert ook dat studenten die verder willen studeren beter scoren dan studenten die dit niet willen. Klopt deze bewering?  </br>  Gebruik de centrummaten en spreidingsmaten alsook de boxplot om je antwoord te argumenteren."
      ]
    },
    {
      "cell_type": "code",
      "execution_count": 21,
      "metadata": {
        "colab": {
          "base_uri": "https://localhost:8080/",
          "height": 490
        },
        "id": "8NwxPvdFmIrB",
        "outputId": "60b442c8-6446-4bd7-a19f-bd6836141bd1"
      },
      "outputs": [
        {
          "output_type": "execute_result",
          "data": {
            "text/plain": [
              "Text(0.5, 1.0, 'Boxplot van de Finale score als de student verder wil studeren of niet')"
            ]
          },
          "metadata": {},
          "execution_count": 21
        },
        {
          "output_type": "display_data",
          "data": {
            "text/plain": [
              "<Figure size 640x480 with 1 Axes>"
            ],
            "image/png": "[encoded data removed]"
          },
          "metadata": {}
        }
      ],
      "source": [
        "\n",
        "sns.boxplot(data=df,x='higher',y='G3',whis=1.5)\n",
        "plt.title(\"Boxplot van de Finale score als de student verder wil studeren of niet\")"
      ]
    },
    {
      "cell_type": "markdown",
      "metadata": {
        "id": "nTMkCLKImIrB"
      },
      "source": [
        "Bepaal de uitschieters bij de punten van het 2de semester(G2). Haalden studenten extreem hoge of lage punten?\n",
        "Bereken de uitschieters op twee mogelijke manieren:\n",
        "1. Via de interkwartielafstand: uitschieters zijn waarden die groter zijn dan Q3 + 1,5 keer de interkwartielafstand of kleiner zijn dan Q1- 1,5 keer de interkwartielafstand.\n",
        "2. Via de standaardafwijking: waarden die meer dan 3 standaardafwijken van het gemiddelde gelegen zijn. Dus waarden groter dan gemiddelde + 3 keer de std.afw en waarden kleiner dan het gemiddelde - 3 keer de standaardafwijking."
      ]
    },
    {
      "cell_type": "code",
      "execution_count": 22,
      "metadata": {
        "colab": {
          "base_uri": "https://localhost:8080/",
          "height": 520
        },
        "id": "KPy8u4YEmIrB",
        "outputId": "04e5dc72-c6d2-4169-89e8-5e3d8559d86e"
      },
      "outputs": [
        {
          "output_type": "stream",
          "name": "stdout",
          "text": [
            "De bovengrens is 19.0 en de ondergrens is 3.0\n",
            " Het maximum is 19 en het minimum is 0\n",
            "De bovengrens is 21.998438029301013 en de ondergrens is -0.57058992803519\n",
            "Boxplot punten van het tweede semester zijn\n"
          ]
        },
        {
          "output_type": "display_data",
          "data": {
            "text/plain": [
              "<Figure size 640x480 with 1 Axes>"
            ],
            "image/png": "[encoded data removed]"
          },
          "metadata": {}
        }
      ],
      "source": [
        "q3_g2 = df.G2.quantile(0.75)\n",
        "q1_g2 = df.G2.quantile(0.25)\n",
        "interkwartielafstand_g2 = q3_g2 - q1_g2\n",
        "bovengrens = q3_g2 + 1.5 * interkwartielafstand_g2\n",
        "ondergrens = q1_g2 - 1.5 * interkwartielafstand_g2\n",
        "print(f\"De bovengrens is {bovengrens} en de ondergrens is {ondergrens}\")\n",
        "print(f\" Het maximum is {df.G2.max()} en het minimum is {df.G2.min()}\")\n",
        "standaardafwijking_g2 = df.G2.std()\n",
        "gemiddelde_g2 = df.G2.mean()\n",
        "bovengrens_standaardafwijking = gemiddelde_g2 + 3 * standaardafwijking_g2\n",
        "ondergrens_standaardafwijking = gemiddelde_g2 - 3 * standaardafwijking_g2\n",
        "print(f\"De bovengrens is {bovengrens_standaardafwijking} en de ondergrens is {ondergrens_standaardafwijking}\")\n",
        "sns.boxplot(data=df,x='G2',whis=1.5)\n",
        "print(\"Boxplot punten van het tweede semester zijn\")\n"
      ]
    }
  ],
  "metadata": {
    "kernelspec": {
      "display_name": "Python 3",
      "language": "python",
      "name": "python3"
    },
    "language_info": {
      "codemirror_mode": {
        "name": "ipython",
        "version": 3
      },
      "file_extension": ".py",
      "mimetype": "text/x-python",
      "name": "python",
      "nbconvert_exporter": "python",
      "pygments_lexer": "ipython3",
      "version": "3.12.5"
    },
    "colab": {
      "provenance": [],
      "include_colab_link": true
    }
  },
  "nbformat": 4,
  "nbformat_minor": 0
}