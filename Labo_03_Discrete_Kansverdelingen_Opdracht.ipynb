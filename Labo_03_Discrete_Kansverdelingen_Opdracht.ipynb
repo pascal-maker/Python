{
  "cells": [
    {
      "cell_type": "markdown",
      "metadata": {
        "id": "view-in-github",
        "colab_type": "text"
      },
      "source": [
        "<a href=\"https://colab.research.google.com/github/pascal-maker/Python/blob/master/Labo_03_Discrete_Kansverdelingen_Opdracht.ipynb\" target=\"_parent\"><img src=\"https://colab.research.google.com/assets/colab-badge.svg\" alt=\"Open In Colab\"/></a>"
      ]
    },
    {
      "cell_type": "markdown",
      "metadata": {
        "id": "i-Vq7v-Zsp2S"
      },
      "source": [
        "# <span style=\"color:darkorange\"> Discrete kansverdelingen - opdracht </span>"
      ]
    },
    {
      "cell_type": "markdown",
      "metadata": {
        "id": "rwxN7zG_sp2T"
      },
      "source": [
        "<img src=\"Lol.jpg\">\n",
        "\n",
        "</br>\n",
        "</br>\n",
        "\n",
        "<img src=\"League of legends.jpg\">\n",
        "\n",
        "Voor een korte uitleg over League of Legends bekijk dit [youtube filmpje](https://www.youtube.com/watch?v=BGtROJeMPeE&feature=youtu.be)\n",
        "\n",
        "Het bestand 'LoL_team_stats.csv' bevat:\n",
        "\n",
        "| Variable Name |Description |\n",
        "| --- | --- |\n",
        "|kills\t|number of kills by the entire team (numeric)|\n",
        "|deaths|\tnumber of deaths in the entire team (numeric)|\n",
        "|assists|\t number of assists by the entire team (numeric)|\n",
        "|killingsprees  |\tamount of killing sprees of the entire team (numeric)|\n",
        "|double kills|\tamount of double kills by the entire team (numeric)|\n",
        "|tripple kills|\tamount of tripple kills by the entire team (numeric)|\n",
        "|totdmgdealt|\ttotal damage dealt by the entire team (numeric)|\n",
        "|totdmgtochamp\t| total damage dealt by the entire team to enemy champions (numeric) |\n",
        "|totheal |\ttotal amount of damage healed by the entire team (numeric)|\n",
        "|totunitshealed |\ttotal amount of units healed by the entire team (numeric|\n",
        "|dmgtoobj |\ttotal damage to objectives(turret, nexus, inhibitor) by the entire team|\n",
        "|dmgtoturrets |\ttotal damage to turrets (numeric)|\n",
        "|visionscore |\ttotal vision score by the entire team(numeric)|\n",
        "|totdmgtaken |\ttotal damage taken by the entire team (numeric)|\n",
        "|goldearned |\ttotal amount of gold earned by the entire team(numeric)|\n",
        "|goldspent  |\ttotal amount of gold spent by the entire team(numeric)|\n",
        "|turretkills |\tnumber of turretkills by the entire team (numeric)|\n",
        "|inhibkills | number of turretkills by the entire team (numeric)|\n",
        "|totminionskilled | number of minions killed by the entire team(numeric)|\n",
        "|neutralminionskilled | number of minions killed in the jungle (numeric)|\n",
        "|totcctimedealt | total crowd control time (ability to directly hinder a unit's ability to fight e.g. a stun) dealt (numeric)|\n",
        "|pinksbought| number of vision wards bought (https://leagueoflegends.fandom.com/wiki/Vision_Ward) (numeric)|\n",
        "|wardsbought| numer of wards bought (numeric)|\n",
        "|wardsplaced| number of wards placed (numeric)|\n",
        "|wardskilled | number of wards killed (numeric)|\n",
        "|largestkillingspree| the largest killing spree of the team (numeric)|\n",
        "|largestmultikill | largest multi kill of the team (numeric)|\n",
        "|largestcrit| largest critical strike of the team (numeric)|\n",
        "|ownjunglekills| amount of own jungle kills (numeric)|\n",
        "|enemyjunglekills| amount of enemy jungle kills (numeric) |\n",
        "|win | Wheter the team won or lost (binary: 0:Loss, 1: Win) |\n",
        "\n",
        "\n",
        "Deze statistieken zijn afkomstig van teams die aan \"the red side\" spelen\n",
        "\n"
      ]
    },
    {
      "cell_type": "code",
      "execution_count": null,
      "metadata": {
        "id": "mtc_Wbszsp2U"
      },
      "outputs": [],
      "source": [
        "%matplotlib inline\n",
        "import matplotlib.pyplot as plt\n",
        "import pandas as pd\n",
        "import numpy as np\n",
        "import seaborn as sns\n",
        "from scipy import stats #pip install scipy\n",
        "\n",
        "\n",
        "pd.set_option('display.max_rows',1000)\n",
        "pd.set_option('display.max_columns',1000)"
      ]
    },
    {
      "cell_type": "code",
      "execution_count": null,
      "metadata": {
        "colab": {
          "base_uri": "https://localhost:8080/",
          "height": 226
        },
        "id": "JZ2scheLsp2U",
        "outputId": "cf25607b-a7d2-419d-f888-a71068e4f88f"
      },
      "outputs": [
        {
          "output_type": "execute_result",
          "data": {
            "text/plain": [
              "   kills  deaths  assists  killingsprees  doublekills  triplekills  \\\n",
              "0     39      20       56              9            1            0   \n",
              "1     32      20       41              7            3            1   \n",
              "2     33      39       45             10            2            1   \n",
              "3     45      28       70             10            4            0   \n",
              "4     39      32       52             12            1            0   \n",
              "\n",
              "   totdmgdealt  totdmgtochamp  totheal  totunitshealed  dmgtoobj  \\\n",
              "0       693679         104497    22618               8     66422   \n",
              "1       436371          69090    13829              11     40373   \n",
              "2       671974         110564    49455               7     47074   \n",
              "3       478826          90721    23158              12     63302   \n",
              "4       584743         116459    28432              12     36481   \n",
              "\n",
              "   dmgtoturrets  visionscore  totdmgtaken  goldearned  goldspent  turretkills  \\\n",
              "0         23578          138        94699       67965      63133            8   \n",
              "1         27746           80        72978       53872      44493            6   \n",
              "2         15259          116       166427       68135      57945            6   \n",
              "3         21778          115       117501       62032      54033            7   \n",
              "4         24004           78       122907       65539      57500            7   \n",
              "\n",
              "   inhibkills  totminionskilled  neutralminionskilled  totcctimedealt  \\\n",
              "0           2               661                   132            1735   \n",
              "1           2               499                    87            1137   \n",
              "2           0               759                   114            2137   \n",
              "3           1               568                    57            1312   \n",
              "4           4               665                   101            2007   \n",
              "\n",
              "   pinksbought  wardsbought  wardsplaced  wardskilled  largestkillingspree  \\\n",
              "0            7            0           54           10                   12   \n",
              "1            2            0           41            5                    6   \n",
              "2            0            0           69            1                    4   \n",
              "3            3            0           49            5                    8   \n",
              "4            5            0           49            6                    5   \n",
              "\n",
              "   largestmultikill  largestcrit  ownjunglekills  enemyjunglekills  win  \n",
              "0                 2          843              81                30    1  \n",
              "1                 3         1211              41                28    1  \n",
              "2                 3          486              51                48    1  \n",
              "3                 2          817              19                25    1  \n",
              "4                 2         1686              53                34    1  "
            ],
            "text/html": [
              "\n",
              "  <div id=\"df-834dce7d-efe6-4298-9d63-17fa5c5e83b8\" class=\"colab-df-container\">\n",
              "    <div>\n",
              "<style scoped>\n",
              "    .dataframe tbody tr th:only-of-type {\n",
              "        vertical-align: middle;\n",
              "    }\n",
              "\n",
              "    .dataframe tbody tr th {\n",
              "        vertical-align: top;\n",
              "    }\n",
              "\n",
              "    .dataframe thead th {\n",
              "        text-align: right;\n",
              "    }\n",
              "</style>\n",
              "<table border=\"1\" class=\"dataframe\">\n",
              "  <thead>\n",
              "    <tr style=\"text-align: right;\">\n",
              "      <th></th>\n",
              "      <th>kills</th>\n",
              "      <th>deaths</th>\n",
              "      <th>assists</th>\n",
              "      <th>killingsprees</th>\n",
              "      <th>doublekills</th>\n",
              "      <th>triplekills</th>\n",
              "      <th>totdmgdealt</th>\n",
              "      <th>totdmgtochamp</th>\n",
              "      <th>totheal</th>\n",
              "      <th>totunitshealed</th>\n",
              "      <th>dmgtoobj</th>\n",
              "      <th>dmgtoturrets</th>\n",
              "      <th>visionscore</th>\n",
              "      <th>totdmgtaken</th>\n",
              "      <th>goldearned</th>\n",
              "      <th>goldspent</th>\n",
              "      <th>turretkills</th>\n",
              "      <th>inhibkills</th>\n",
              "      <th>totminionskilled</th>\n",
              "      <th>neutralminionskilled</th>\n",
              "      <th>totcctimedealt</th>\n",
              "      <th>pinksbought</th>\n",
              "      <th>wardsbought</th>\n",
              "      <th>wardsplaced</th>\n",
              "      <th>wardskilled</th>\n",
              "      <th>largestkillingspree</th>\n",
              "      <th>largestmultikill</th>\n",
              "      <th>largestcrit</th>\n",
              "      <th>ownjunglekills</th>\n",
              "      <th>enemyjunglekills</th>\n",
              "      <th>win</th>\n",
              "    </tr>\n",
              "  </thead>\n",
              "  <tbody>\n",
              "    <tr>\n",
              "      <th>0</th>\n",
              "      <td>39</td>\n",
              "      <td>20</td>\n",
              "      <td>56</td>\n",
              "      <td>9</td>\n",
              "      <td>1</td>\n",
              "      <td>0</td>\n",
              "      <td>693679</td>\n",
              "      <td>104497</td>\n",
              "      <td>22618</td>\n",
              "      <td>8</td>\n",
              "      <td>66422</td>\n",
              "      <td>23578</td>\n",
              "      <td>138</td>\n",
              "      <td>94699</td>\n",
              "      <td>67965</td>\n",
              "      <td>63133</td>\n",
              "      <td>8</td>\n",
              "      <td>2</td>\n",
              "      <td>661</td>\n",
              "      <td>132</td>\n",
              "      <td>1735</td>\n",
              "      <td>7</td>\n",
              "      <td>0</td>\n",
              "      <td>54</td>\n",
              "      <td>10</td>\n",
              "      <td>12</td>\n",
              "      <td>2</td>\n",
              "      <td>843</td>\n",
              "      <td>81</td>\n",
              "      <td>30</td>\n",
              "      <td>1</td>\n",
              "    </tr>\n",
              "    <tr>\n",
              "      <th>1</th>\n",
              "      <td>32</td>\n",
              "      <td>20</td>\n",
              "      <td>41</td>\n",
              "      <td>7</td>\n",
              "      <td>3</td>\n",
              "      <td>1</td>\n",
              "      <td>436371</td>\n",
              "      <td>69090</td>\n",
              "      <td>13829</td>\n",
              "      <td>11</td>\n",
              "      <td>40373</td>\n",
              "      <td>27746</td>\n",
              "      <td>80</td>\n",
              "      <td>72978</td>\n",
              "      <td>53872</td>\n",
              "      <td>44493</td>\n",
              "      <td>6</td>\n",
              "      <td>2</td>\n",
              "      <td>499</td>\n",
              "      <td>87</td>\n",
              "      <td>1137</td>\n",
              "      <td>2</td>\n",
              "      <td>0</td>\n",
              "      <td>41</td>\n",
              "      <td>5</td>\n",
              "      <td>6</td>\n",
              "      <td>3</td>\n",
              "      <td>1211</td>\n",
              "      <td>41</td>\n",
              "      <td>28</td>\n",
              "      <td>1</td>\n",
              "    </tr>\n",
              "    <tr>\n",
              "      <th>2</th>\n",
              "      <td>33</td>\n",
              "      <td>39</td>\n",
              "      <td>45</td>\n",
              "      <td>10</td>\n",
              "      <td>2</td>\n",
              "      <td>1</td>\n",
              "      <td>671974</td>\n",
              "      <td>110564</td>\n",
              "      <td>49455</td>\n",
              "      <td>7</td>\n",
              "      <td>47074</td>\n",
              "      <td>15259</td>\n",
              "      <td>116</td>\n",
              "      <td>166427</td>\n",
              "      <td>68135</td>\n",
              "      <td>57945</td>\n",
              "      <td>6</td>\n",
              "      <td>0</td>\n",
              "      <td>759</td>\n",
              "      <td>114</td>\n",
              "      <td>2137</td>\n",
              "      <td>0</td>\n",
              "      <td>0</td>\n",
              "      <td>69</td>\n",
              "      <td>1</td>\n",
              "      <td>4</td>\n",
              "      <td>3</td>\n",
              "      <td>486</td>\n",
              "      <td>51</td>\n",
              "      <td>48</td>\n",
              "      <td>1</td>\n",
              "    </tr>\n",
              "    <tr>\n",
              "      <th>3</th>\n",
              "      <td>45</td>\n",
              "      <td>28</td>\n",
              "      <td>70</td>\n",
              "      <td>10</td>\n",
              "      <td>4</td>\n",
              "      <td>0</td>\n",
              "      <td>478826</td>\n",
              "      <td>90721</td>\n",
              "      <td>23158</td>\n",
              "      <td>12</td>\n",
              "      <td>63302</td>\n",
              "      <td>21778</td>\n",
              "      <td>115</td>\n",
              "      <td>117501</td>\n",
              "      <td>62032</td>\n",
              "      <td>54033</td>\n",
              "      <td>7</td>\n",
              "      <td>1</td>\n",
              "      <td>568</td>\n",
              "      <td>57</td>\n",
              "      <td>1312</td>\n",
              "      <td>3</td>\n",
              "      <td>0</td>\n",
              "      <td>49</td>\n",
              "      <td>5</td>\n",
              "      <td>8</td>\n",
              "      <td>2</td>\n",
              "      <td>817</td>\n",
              "      <td>19</td>\n",
              "      <td>25</td>\n",
              "      <td>1</td>\n",
              "    </tr>\n",
              "    <tr>\n",
              "      <th>4</th>\n",
              "      <td>39</td>\n",
              "      <td>32</td>\n",
              "      <td>52</td>\n",
              "      <td>12</td>\n",
              "      <td>1</td>\n",
              "      <td>0</td>\n",
              "      <td>584743</td>\n",
              "      <td>116459</td>\n",
              "      <td>28432</td>\n",
              "      <td>12</td>\n",
              "      <td>36481</td>\n",
              "      <td>24004</td>\n",
              "      <td>78</td>\n",
              "      <td>122907</td>\n",
              "      <td>65539</td>\n",
              "      <td>57500</td>\n",
              "      <td>7</td>\n",
              "      <td>4</td>\n",
              "      <td>665</td>\n",
              "      <td>101</td>\n",
              "      <td>2007</td>\n",
              "      <td>5</td>\n",
              "      <td>0</td>\n",
              "      <td>49</td>\n",
              "      <td>6</td>\n",
              "      <td>5</td>\n",
              "      <td>2</td>\n",
              "      <td>1686</td>\n",
              "      <td>53</td>\n",
              "      <td>34</td>\n",
              "      <td>1</td>\n",
              "    </tr>\n",
              "  </tbody>\n",
              "</table>\n",
              "</div>\n",
              "    <div class=\"colab-df-buttons\">\n",
              "\n",
              "  <div class=\"colab-df-container\">\n",
              "    <button class=\"colab-df-convert\" onclick=\"convertToInteractive('df-834dce7d-efe6-4298-9d63-17fa5c5e83b8')\"\n",
              "            title=\"Convert this dataframe to an interactive table.\"\n",
              "            style=\"display:none;\">\n",
              "\n",
              "  <svg xmlns=\"http://www.w3.org/2000/svg\" height=\"24px\" viewBox=\"0 -960 960 960\">\n",
              "    <path d=\"M120-120v-720h720v720H120Zm60-500h600v-160H180v160Zm220 220h160v-160H400v160Zm0 220h160v-160H400v160ZM180-400h160v-160H180v160Zm440 0h160v-160H620v160ZM180-180h160v-160H180v160Zm440 0h160v-160H620v160Z\"/>\n",
              "  </svg>\n",
              "    </button>\n",
              "\n",
              "  <style>\n",
              "    .colab-df-container {\n",
              "      display:flex;\n",
              "      gap: 12px;\n",
              "    }\n",
              "\n",
              "    .colab-df-convert {\n",
              "      background-color: #E8F0FE;\n",
              "      border: none;\n",
              "      border-radius: 50%;\n",
              "      cursor: pointer;\n",
              "      display: none;\n",
              "      fill: #1967D2;\n",
              "      height: 32px;\n",
              "      padding: 0 0 0 0;\n",
              "      width: 32px;\n",
              "    }\n",
              "\n",
              "    .colab-df-convert:hover {\n",
              "      background-color: #E2EBFA;\n",
              "      box-shadow: 0px 1px 2px rgba(60, 64, 67, 0.3), 0px 1px 3px 1px rgba(60, 64, 67, 0.15);\n",
              "      fill: #174EA6;\n",
              "    }\n",
              "\n",
              "    .colab-df-buttons div {\n",
              "      margin-bottom: 4px;\n",
              "    }\n",
              "\n",
              "    [theme=dark] .colab-df-convert {\n",
              "      background-color: #3B4455;\n",
              "      fill: #D2E3FC;\n",
              "    }\n",
              "\n",
              "    [theme=dark] .colab-df-convert:hover {\n",
              "      background-color: #434B5C;\n",
              "      box-shadow: 0px 1px 3px 1px rgba(0, 0, 0, 0.15);\n",
              "      filter: drop-shadow(0px 1px 2px rgba(0, 0, 0, 0.3));\n",
              "      fill: #FFFFFF;\n",
              "    }\n",
              "  </style>\n",
              "\n",
              "    <script>\n",
              "      const buttonEl =\n",
              "        document.querySelector('#df-834dce7d-efe6-4298-9d63-17fa5c5e83b8 button.colab-df-convert');\n",
              "      buttonEl.style.display =\n",
              "        google.colab.kernel.accessAllowed ? 'block' : 'none';\n",
              "\n",
              "      async function convertToInteractive(key) {\n",
              "        const element = document.querySelector('#df-834dce7d-efe6-4298-9d63-17fa5c5e83b8');\n",
              "        const dataTable =\n",
              "          await google.colab.kernel.invokeFunction('convertToInteractive',\n",
              "                                                    [key], {});\n",
              "        if (!dataTable) return;\n",
              "\n",
              "        const docLinkHtml = 'Like what you see? Visit the ' +\n",
              "          '<a target=\"_blank\" href=https://colab.research.google.com/notebooks/data_table.ipynb>data table notebook</a>'\n",
              "          + ' to learn more about interactive tables.';\n",
              "        element.innerHTML = '';\n",
              "        dataTable['output_type'] = 'display_data';\n",
              "        await google.colab.output.renderOutput(dataTable, element);\n",
              "        const docLink = document.createElement('div');\n",
              "        docLink.innerHTML = docLinkHtml;\n",
              "        element.appendChild(docLink);\n",
              "      }\n",
              "    </script>\n",
              "  </div>\n",
              "\n",
              "\n",
              "    <div id=\"df-e6bd965e-5953-4b99-b596-171584f19115\">\n",
              "      <button class=\"colab-df-quickchart\" onclick=\"quickchart('df-e6bd965e-5953-4b99-b596-171584f19115')\"\n",
              "                title=\"Suggest charts\"\n",
              "                style=\"display:none;\">\n",
              "\n",
              "<svg xmlns=\"http://www.w3.org/2000/svg\" height=\"24px\"viewBox=\"0 0 24 24\"\n",
              "     width=\"24px\">\n",
              "    <g>\n",
              "        <path d=\"M19 3H5c-1.1 0-2 .9-2 2v14c0 1.1.9 2 2 2h14c1.1 0 2-.9 2-2V5c0-1.1-.9-2-2-2zM9 17H7v-7h2v7zm4 0h-2V7h2v10zm4 0h-2v-4h2v4z\"/>\n",
              "    </g>\n",
              "</svg>\n",
              "      </button>\n",
              "\n",
              "<style>\n",
              "  .colab-df-quickchart {\n",
              "      --bg-color: #E8F0FE;\n",
              "      --fill-color: #1967D2;\n",
              "      --hover-bg-color: #E2EBFA;\n",
              "      --hover-fill-color: #174EA6;\n",
              "      --disabled-fill-color: #AAA;\n",
              "      --disabled-bg-color: #DDD;\n",
              "  }\n",
              "\n",
              "  [theme=dark] .colab-df-quickchart {\n",
              "      --bg-color: #3B4455;\n",
              "      --fill-color: #D2E3FC;\n",
              "      --hover-bg-color: #434B5C;\n",
              "      --hover-fill-color: #FFFFFF;\n",
              "      --disabled-bg-color: #3B4455;\n",
              "      --disabled-fill-color: #666;\n",
              "  }\n",
              "\n",
              "  .colab-df-quickchart {\n",
              "    background-color: var(--bg-color);\n",
              "    border: none;\n",
              "    border-radius: 50%;\n",
              "    cursor: pointer;\n",
              "    display: none;\n",
              "    fill: var(--fill-color);\n",
              "    height: 32px;\n",
              "    padding: 0;\n",
              "    width: 32px;\n",
              "  }\n",
              "\n",
              "  .colab-df-quickchart:hover {\n",
              "    background-color: var(--hover-bg-color);\n",
              "    box-shadow: 0 1px 2px rgba(60, 64, 67, 0.3), 0 1px 3px 1px rgba(60, 64, 67, 0.15);\n",
              "    fill: var(--button-hover-fill-color);\n",
              "  }\n",
              "\n",
              "  .colab-df-quickchart-complete:disabled,\n",
              "  .colab-df-quickchart-complete:disabled:hover {\n",
              "    background-color: var(--disabled-bg-color);\n",
              "    fill: var(--disabled-fill-color);\n",
              "    box-shadow: none;\n",
              "  }\n",
              "\n",
              "  .colab-df-spinner {\n",
              "    border: 2px solid var(--fill-color);\n",
              "    border-color: transparent;\n",
              "    border-bottom-color: var(--fill-color);\n",
              "    animation:\n",
              "      spin 1s steps(1) infinite;\n",
              "  }\n",
              "\n",
              "  @keyframes spin {\n",
              "    0% {\n",
              "      border-color: transparent;\n",
              "      border-bottom-color: var(--fill-color);\n",
              "      border-left-color: var(--fill-color);\n",
              "    }\n",
              "    20% {\n",
              "      border-color: transparent;\n",
              "      border-left-color: var(--fill-color);\n",
              "      border-top-color: var(--fill-color);\n",
              "    }\n",
              "    30% {\n",
              "      border-color: transparent;\n",
              "      border-left-color: var(--fill-color);\n",
              "      border-top-color: var(--fill-color);\n",
              "      border-right-color: var(--fill-color);\n",
              "    }\n",
              "    40% {\n",
              "      border-color: transparent;\n",
              "      border-right-color: var(--fill-color);\n",
              "      border-top-color: var(--fill-color);\n",
              "    }\n",
              "    60% {\n",
              "      border-color: transparent;\n",
              "      border-right-color: var(--fill-color);\n",
              "    }\n",
              "    80% {\n",
              "      border-color: transparent;\n",
              "      border-right-color: var(--fill-color);\n",
              "      border-bottom-color: var(--fill-color);\n",
              "    }\n",
              "    90% {\n",
              "      border-color: transparent;\n",
              "      border-bottom-color: var(--fill-color);\n",
              "    }\n",
              "  }\n",
              "</style>\n",
              "\n",
              "      <script>\n",
              "        async function quickchart(key) {\n",
              "          const quickchartButtonEl =\n",
              "            document.querySelector('#' + key + ' button');\n",
              "          quickchartButtonEl.disabled = true;  // To prevent multiple clicks.\n",
              "          quickchartButtonEl.classList.add('colab-df-spinner');\n",
              "          try {\n",
              "            const charts = await google.colab.kernel.invokeFunction(\n",
              "                'suggestCharts', [key], {});\n",
              "          } catch (error) {\n",
              "            console.error('Error during call to suggestCharts:', error);\n",
              "          }\n",
              "          quickchartButtonEl.classList.remove('colab-df-spinner');\n",
              "          quickchartButtonEl.classList.add('colab-df-quickchart-complete');\n",
              "        }\n",
              "        (() => {\n",
              "          let quickchartButtonEl =\n",
              "            document.querySelector('#df-e6bd965e-5953-4b99-b596-171584f19115 button');\n",
              "          quickchartButtonEl.style.display =\n",
              "            google.colab.kernel.accessAllowed ? 'block' : 'none';\n",
              "        })();\n",
              "      </script>\n",
              "    </div>\n",
              "\n",
              "    </div>\n",
              "  </div>\n"
            ],
            "application/vnd.google.colaboratory.intrinsic+json": {
              "type": "dataframe",
              "variable_name": "df"
            }
          },
          "metadata": {},
          "execution_count": 2
        }
      ],
      "source": [
        "# Inlezen van de dataset\n",
        "df = pd.read_csv('LoL_team_stats.csv')\n",
        "df.head()"
      ]
    },
    {
      "cell_type": "markdown",
      "metadata": {
        "id": "U5C8PaeHsp2V"
      },
      "source": [
        "## <span style=\"color:deeppink\"> Binomiale verdeling\n",
        "\n",
        "    a. Van de volgende 200 spelletjes, hoeveel zullen er naar verwachting een winnen?\n",
        "    \n",
        "    b. Wat is de kans dat van de volgende 10 spelletjes er geen enkele wint?\n",
        "    \n",
        "    c. Wat is de kans dat van de volgende 15 spelletjes er exact 4 winnen?\n",
        "\n",
        "    d. Wat is de kans dat je twee opeenvolgende spelletjes wint?\n",
        "\n",
        "    e. Wat is de kans dat van de komende 20 spelletjes er minder dan 4 winnen?\n",
        "\n",
        "    f. Wat is de kans dat van de komende 30 spelletjes er meer dan de helft winnen?\n",
        "    \n",
        "Bepaal in eerste instantie op basis van de data de kans op winst. Deze kans kan je vervolgens verder in de berekeningen gebruiken."
      ]
    },
    {
      "cell_type": "code",
      "execution_count": null,
      "metadata": {
        "colab": {
          "base_uri": "https://localhost:8080/"
        },
        "id": "phlzg9Oksp2V",
        "outputId": "c7f0ea66-af58-4333-a04e-f2e8de724ac9"
      },
      "outputs": [
        {
          "output_type": "stream",
          "name": "stdout",
          "text": [
            "Kans op winst: 0.48\n"
          ]
        }
      ],
      "source": [
        "# Bepalen van de kans op win\n",
        "# Bepalen van de kans op winst\n",
        "win_probability = df['win'].mean()\n",
        "print(f\"Kans op winst: {win_probability:.2f}\")\n"
      ]
    },
    {
      "cell_type": "code",
      "execution_count": null,
      "metadata": {
        "colab": {
          "base_uri": "https://localhost:8080/"
        },
        "id": "XIBqAbTUsp2V",
        "outputId": "5fceb36f-da55-4441-da36-b9c2b2631c3d"
      },
      "outputs": [
        {
          "output_type": "stream",
          "name": "stdout",
          "text": [
            "2.930465523690485e-55\n"
          ]
        }
      ],
      "source": [
        "p = stats.binom.pmf(1,200,0.48)\n",
        "print(p)"
      ]
    },
    {
      "cell_type": "code",
      "source": [
        "p = stats.binom.pmf(0,10,0.48)\n",
        "print(p)"
      ],
      "metadata": {
        "colab": {
          "base_uri": "https://localhost:8080/"
        },
        "id": "ebKl7k6rwk44",
        "outputId": "a628dc83-ae2d-40cb-bb92-25df25560f15"
      },
      "execution_count": null,
      "outputs": [
        {
          "output_type": "stream",
          "name": "stdout",
          "text": [
            "0.0014455510594905685\n"
          ]
        }
      ]
    },
    {
      "cell_type": "code",
      "source": [
        "p = stats.binom.pmf(4,15,0.48)\n",
        "print(p)"
      ],
      "metadata": {
        "colab": {
          "base_uri": "https://localhost:8080/"
        },
        "id": "h-4Stjtmwwbw",
        "outputId": "348b5558-e16f-48e1-a530-f25dfe170b18"
      },
      "execution_count": null,
      "outputs": [
        {
          "output_type": "stream",
          "name": "stdout",
          "text": [
            "0.054467116075672485\n"
          ]
        }
      ]
    },
    {
      "cell_type": "code",
      "source": [
        "p = stats.binom.pmf(2,2,0.48)\n",
        "print(p)"
      ],
      "metadata": {
        "colab": {
          "base_uri": "https://localhost:8080/"
        },
        "id": "v8PWVmypw8TA",
        "outputId": "20fcebcb-844b-4d51-a43a-336a313c89db"
      },
      "execution_count": null,
      "outputs": [
        {
          "output_type": "stream",
          "name": "stdout",
          "text": [
            "0.2304\n"
          ]
        }
      ]
    },
    {
      "cell_type": "code",
      "source": [
        "p = stats.binom.cdf(3,20,0.48)\n",
        "print(p)"
      ],
      "metadata": {
        "colab": {
          "base_uri": "https://localhost:8080/"
        },
        "id": "djnjUMwcxL6A",
        "outputId": "45a52047-a1f8-4279-bc8d-cbc39cd16daa"
      },
      "execution_count": null,
      "outputs": [
        {
          "output_type": "stream",
          "name": "stdout",
          "text": [
            "0.002252599499001068\n"
          ]
        }
      ]
    },
    {
      "cell_type": "code",
      "source": [
        "p = 1 -  stats.binom.cdf(15,30,0.48)\n",
        "print(p)"
      ],
      "metadata": {
        "colab": {
          "base_uri": "https://localhost:8080/"
        },
        "id": "o1GzNwNMxZXd",
        "outputId": "8f5ba6ca-ac90-4f60-f181-5186bc6d05dd"
      },
      "execution_count": null,
      "outputs": [
        {
          "output_type": "stream",
          "name": "stdout",
          "text": [
            "0.343446579019129\n"
          ]
        }
      ]
    },
    {
      "cell_type": "markdown",
      "metadata": {
        "id": "KYEjiRwQsp2V"
      },
      "source": [
        "## <span style=\"color:deeppink\"> Poisson verdeling\n",
        "\n",
        "Tijdens een spel behaalt een team een aantal turrets dat het vernietigd. Gebruik deze informatie om onderstaande vragen te beantwoorden. Je mag ervan uitgaan dat het aantal vernietigde turrets Poisson is verdeeld.\n",
        "\n",
        "    Bepaal de verwachtingswaarde λ. Gebruik deze waarde in de verdere berekeningen.\n",
        "\n",
        "    a. Bepaal de kans dat een team exact 9 turrets vernietigd in een spelletje.\n",
        "\n",
        "    b. Bepaal de kans dat een team minder dan 4 turrets vernietigd in een spelletje.\n",
        "\n",
        "    c. Bepaal de kans op meer dan 6 turrets vernietigd in een spel.\n",
        "\n",
        "    d. Bepaal de kans dat een team meer dan 4 turrets kills behaalt maar minder dan 10 in een spel.\n",
        "\n",
        "    e. Wat is het maximum aantal turrets dat een team mag vernietigen waarbij er maar 15% kans bestaat dat het team nog meer turrets zal vernietigen??\n"
      ]
    },
    {
      "cell_type": "code",
      "execution_count": null,
      "metadata": {
        "colab": {
          "base_uri": "https://localhost:8080/"
        },
        "id": "0Xeva2Aksp2V",
        "outputId": "9f3bf373-bb3c-47ac-b3e7-62c2cee0855c"
      },
      "outputs": [
        {
          "output_type": "stream",
          "name": "stdout",
          "text": [
            "De verwachtingswaarde λ is 4.40\n"
          ]
        }
      ],
      "source": [
        "turretskilled = df['turretkills'].mean()\n",
        "print(f\"De verwachtingswaarde λ is {turretskilled:.2f}\")\n"
      ]
    },
    {
      "cell_type": "code",
      "source": [
        "p = stats.poisson.pmf(9,4.40)\n",
        "print(p)"
      ],
      "metadata": {
        "colab": {
          "base_uri": "https://localhost:8080/"
        },
        "id": "nQLu6d6Wy5Cr",
        "outputId": "7a5fb434-1df4-43e1-eb9c-d8a382053557"
      },
      "execution_count": null,
      "outputs": [
        {
          "output_type": "stream",
          "name": "stdout",
          "text": [
            "0.020912951733818658\n"
          ]
        }
      ]
    },
    {
      "cell_type": "code",
      "source": [
        " p = stats.poisson.cdf(3,4.40)\n",
        " print(p)"
      ],
      "metadata": {
        "colab": {
          "base_uri": "https://localhost:8080/"
        },
        "id": "3Y_CGvupzpK1",
        "outputId": "65d203ab-3f37-4190-dade-05695a11612b"
      },
      "execution_count": null,
      "outputs": [
        {
          "output_type": "stream",
          "name": "stdout",
          "text": [
            "0.3594477727887691\n"
          ]
        }
      ]
    },
    {
      "cell_type": "code",
      "source": [
        "p = 1- stats.poisson.cdf(6,4.40)\n",
        "print(p)"
      ],
      "metadata": {
        "colab": {
          "base_uri": "https://localhost:8080/"
        },
        "id": "1Pg-_uvQz5Bs",
        "outputId": "33ef255a-7221-4af0-8e43-b3a7a060bbb0"
      },
      "execution_count": null,
      "outputs": [
        {
          "output_type": "stream",
          "name": "stdout",
          "text": [
            "0.15635482491655717\n"
          ]
        }
      ]
    },
    {
      "cell_type": "code",
      "source": [
        "p = stats.poisson.cdf(9,4.40) - stats.poisson.cdf(4,4.40)\n",
        "print(p)"
      ],
      "metadata": {
        "colab": {
          "base_uri": "https://localhost:8080/"
        },
        "id": "FpdD_ZzG1UrV",
        "outputId": "28a1e150-25dc-44b4-8d0b-d8660ba00f55"
      },
      "execution_count": null,
      "outputs": [
        {
          "output_type": "stream",
          "name": "stdout",
          "text": [
            "0.43392625078813996\n"
          ]
        }
      ]
    },
    {
      "cell_type": "code",
      "source": [
        "p = stats.poisson.isf(0.15,4.40)\n",
        "print(p)"
      ],
      "metadata": {
        "colab": {
          "base_uri": "https://localhost:8080/"
        },
        "id": "7rl6Qqmd1q_R",
        "outputId": "aafe1588-1db0-4476-afc8-566b1e910615"
      },
      "execution_count": null,
      "outputs": [
        {
          "output_type": "stream",
          "name": "stdout",
          "text": [
            "7.0\n"
          ]
        }
      ]
    }
  ],
  "metadata": {
    "kernelspec": {
      "display_name": "Python 3",
      "language": "python",
      "name": "python3"
    },
    "language_info": {
      "codemirror_mode": {
        "name": "ipython",
        "version": 3
      },
      "file_extension": ".py",
      "mimetype": "text/x-python",
      "name": "python",
      "nbconvert_exporter": "python",
      "pygments_lexer": "ipython3",
      "version": "3.12.5"
    },
    "colab": {
      "provenance": [],
      "include_colab_link": true
    }
  },
  "nbformat": 4,
  "nbformat_minor": 0
}